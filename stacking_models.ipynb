{
 "cells": [
  {
   "cell_type": "code",
   "execution_count": 1,
   "id": "021824db",
   "metadata": {},
   "outputs": [],
   "source": [
    "%load_ext autoreload\n",
    "%autoreload 2"
   ]
  },
  {
   "cell_type": "code",
   "execution_count": 3,
   "id": "2461fc57",
   "metadata": {},
   "outputs": [
    {
     "name": "stderr",
     "output_type": "stream",
     "text": [
      "/home-nfs/tenzorok/anaconda3/lib/python3.8/site-packages/scipy/__init__.py:138: UserWarning: A NumPy version >=1.16.5 and <1.23.0 is required for this version of SciPy (detected version 1.23.4)\n",
      "  warnings.warn(f\"A NumPy version >={np_minversion} and <{np_maxversion} is required for this version of \"\n",
      "/home-nfs/tenzorok/anaconda3/lib/python3.8/site-packages/pandas/core/computation/expressions.py:20: UserWarning: Pandas requires version '2.7.3' or newer of 'numexpr' (version '2.7.1' currently installed).\n",
      "  from pandas.core.computation.check import NUMEXPR_INSTALLED\n"
     ]
    }
   ],
   "source": [
    "from utils_unet import * \n",
    "from utils_models import * \n",
    "from utils_data import *\n",
    "import numpy as np\n",
    "import matplotlib.pyplot as plt\n",
    "%matplotlib inline\n",
    "\n",
    "import pandas as pd\n",
    "from matplotlib.pyplot import figure\n",
    "from sklearn.metrics import r2_score, mean_squared_error\n",
    "\n",
    "from tqdm import tqdm\n",
    "import pickle\n",
    "\n",
    "from sklearn.metrics import r2_score, mean_squared_error, f1_score,confusion_matrix\n",
    "from sklearn.neural_network import MLPRegressor, MLPClassifier"
   ]
  },
  {
   "cell_type": "code",
   "execution_count": 4,
   "id": "f7a58db1",
   "metadata": {},
   "outputs": [],
   "source": [
    "plt.rcParams.update({'font.size': 18})"
   ]
  },
  {
   "cell_type": "markdown",
   "id": "1144605e",
   "metadata": {},
   "source": [
    "In this notebook, we'd like to show the main idea how to train and use the stacking model. It's the same idea for regression and tercile classification (for classification, we work with probabilities). \n",
    "\n",
    "So, here we assume a RF model as an exmaple:\n",
    "* train RF model on a half of the train data (a), get predictions on another half (b)\n",
    "* use (b) predictions to train a stacking model \n",
    "* train RF model using full train data (a + b), get its predictions on test/validation\n",
    "* apply trained stacking model to the predictions of models on validation or test\n",
    "\n",
    "You can use a similar scheme to other models for stacking (U-Net and LR). "
   ]
  },
  {
   "cell_type": "markdown",
   "id": "ee04c688",
   "metadata": {},
   "source": [
    "## Getting data train-validation"
   ]
  },
  {
   "cell_type": "code",
   "execution_count": 5,
   "id": "0b0950f9",
   "metadata": {},
   "outputs": [],
   "source": [
    "# define target to be from 'precip_ncep' 'tmp_ncep' 'precip_nasa' 'tmp_nasa'\n",
    "TARGET = 'precip_ncep'\n",
    "\n",
    "PATH = '/share/data/willett-group/climate/'"
   ]
  },
  {
   "cell_type": "code",
   "execution_count": 6,
   "id": "d3facc2a",
   "metadata": {},
   "outputs": [
    {
     "name": "stdout",
     "output_type": "stream",
     "text": [
      "(312, 24, 64, 128) (312, 64, 128) (64, 128)\n"
     ]
    }
   ],
   "source": [
    "ens_forecasts_all, target_rect, target_for_lags = get_train_val_ens_target(TARGET, PATH)\n",
    "\n",
    "tmp_precip, rhum, ght, pressure, sst_train, sst_val = get_train_val_obs_data(TARGET, PATH)\n",
    "    \n",
    "\n",
    "mask_US = np.load('data/US_rect_mask_Larger_fixed.npy')\n",
    "\n",
    "print(ens_forecasts_all.shape, target_rect.shape, mask_US.shape)"
   ]
  },
  {
   "cell_type": "code",
   "execution_count": 7,
   "id": "168ad3c6",
   "metadata": {},
   "outputs": [
    {
     "data": {
      "text/plain": [
       "((324, 64, 128), (324, 64, 128), (324, 64, 128))"
      ]
     },
     "execution_count": 7,
     "metadata": {},
     "output_type": "execute_result"
    }
   ],
   "source": [
    "tmp_precip.shape, ght.shape, pressure.shape"
   ]
  },
  {
   "cell_type": "code",
   "execution_count": 8,
   "id": "e6bd9b64",
   "metadata": {},
   "outputs": [
    {
     "data": {
      "text/plain": [
       "((249, 100), (63, 100))"
      ]
     },
     "execution_count": 8,
     "metadata": {},
     "output_type": "execute_result"
    }
   ],
   "source": [
    "sst_train.shape, sst_val.shape"
   ]
  },
  {
   "cell_type": "code",
   "execution_count": 9,
   "id": "17f35138",
   "metadata": {},
   "outputs": [],
   "source": [
    "mask_US_cropped = crop_to_US_land(mask_US)"
   ]
  },
  {
   "cell_type": "code",
   "execution_count": 10,
   "id": "25003e51",
   "metadata": {},
   "outputs": [],
   "source": [
    "# let's define positional encoding\n",
    "\n",
    "grid_lat, grid_lon = np.mgrid[52.75:21.25:64j, 233.25:296.75:128j]\n",
    "\n",
    "coordinates = np.zeros((2, grid_lat.shape[0], grid_lat.shape[1]))\n",
    "coordinates[0] = grid_lat\n",
    "coordinates[1] = grid_lon\n",
    "\n",
    "PE_dim = 12\n",
    "pe0 = sinusoid_positional_encoding_ref(64*128, PE_dim, coordinates[0].reshape(64*128))\n",
    "pe1 = sinusoid_positional_encoding_ref(64*128, PE_dim, coordinates[1].reshape(64*128))\n",
    "\n",
    "pe_channels = np.zeros((PE_dim*2, 64, 128))\n",
    "pe_channels[:PE_dim, :, :] = pe0.T.reshape(PE_dim, 64, 128)\n",
    "pe_channels[-PE_dim:, :, :] = pe1.T.reshape(PE_dim, 64, 128)"
   ]
  },
  {
   "cell_type": "code",
   "execution_count": 11,
   "id": "aaafef43",
   "metadata": {},
   "outputs": [],
   "source": [
    "train_val_size = 312\n",
    "\n",
    "sst_ftr = np.concatenate((sst_train[:, :8], sst_val[:, :8]), axis=0)\n",
    "sst_img = np.zeros((train_val_size, 8, 64, 128))\n",
    "\n",
    "for i in range(train_val_size):\n",
    "    for j in range(8): # number of components\n",
    "        sst_img[i, j, :, :] = np.full((64, 128), sst_ftr[i, j])"
   ]
  },
  {
   "cell_type": "code",
   "execution_count": 13,
   "id": "f2866686",
   "metadata": {},
   "outputs": [],
   "source": [
    "# create features \n",
    "# it's easy to vary what features to include\n",
    "if TARGET == 'tmp_ncep' or TARGET == 'precip_ncep':\n",
    "    dim_shape = 24 + 24 + 5 + 4 + 8\n",
    "    X_ftrs_hind = np.zeros((312, dim_shape, ens_forecasts_all.shape[2], ens_forecasts_all.shape[3]))\n",
    "    X_ftrs_hind[:, :24, :, :] = ens_forecasts_all\n",
    "\n",
    "    for i in range(len(X_ftrs_hind)):\n",
    "        X_ftrs_hind[i, 24, :, :] = target_for_lags[i+24-2, :, :]\n",
    "        X_ftrs_hind[i, 25, :, :] = target_for_lags[i+24-3, :, :]\n",
    "        X_ftrs_hind[i, 26, :, :] = target_for_lags[i+24-4, :, :]\n",
    "        X_ftrs_hind[i, 27, :, :] = target_for_lags[i+24-12, :, :]\n",
    "        X_ftrs_hind[i, 28, :, :] = target_for_lags[i+24-24, :, :]\n",
    "\n",
    "        X_ftrs_hind[i, 29, :, :] = tmp_precip[i+12-2, :, :]\n",
    "        X_ftrs_hind[i, 30, :, :] = ght[i+12-2, :, :]\n",
    "        X_ftrs_hind[i, 31, :, :] = pressure[i+12-2, :, :]\n",
    "        X_ftrs_hind[i, 32, :, :] = rhum[i+12-2, :, :]\n",
    "\n",
    "    X_ftrs_hind[:, 33:33+2*PE_dim, :, :] = pe_channels\n",
    "    X_ftrs_hind[:, -8:, :, :] = sst_img\n",
    "    \n",
    "elif TARGET == 'tmp_nasa' or TARGET == 'precip_nasa':\n",
    "    print(TARGET)\n",
    "    dim_shape = 11 + 4 + 24 + 5# + 8\n",
    "    X_ftrs_hind = np.zeros((312, dim_shape, ens_forecasts_all.shape[2], ens_forecasts_all.shape[3]))\n",
    "    X_ftrs_hind[:, :11, :, :] = ens_forecasts_all\n",
    "\n",
    "    for i in range(len(X_ftrs_hind)):\n",
    "        X_ftrs_hind[i, 11, :, :] = target_for_lags[i+24-2, :, :]\n",
    "        X_ftrs_hind[i, 12, :, :] = target_for_lags[i+24-3, :, :]\n",
    "        X_ftrs_hind[i, 13, :, :] = target_for_lags[i+24-4, :, :]\n",
    "        X_ftrs_hind[i, 14, :, :] = target_for_lags[i+24-12, :, :]\n",
    "        X_ftrs_hind[i, 15, :, :] = target_for_lags[i+24-24, :, :]\n",
    "\n",
    "        X_ftrs_hind[i, 16, :, :] = tmp_precip[i+12-2, :, :]\n",
    "        X_ftrs_hind[i, 17, :, :] = ght[i+12-2, :, :]\n",
    "        X_ftrs_hind[i, 18, :, :] = pressure[i+12-2, :, :]\n",
    "        X_ftrs_hind[i, 19, :, :] = rhum[i+12-2, :, :]\n",
    "\n",
    "    X_ftrs_hind[:, 20:20+2*PE_dim, :, :] = pe_channels\n",
    "#     X_ftrs_hind[:, -8:, :, :] = sst_img"
   ]
  },
  {
   "cell_type": "code",
   "execution_count": 14,
   "id": "246e5943",
   "metadata": {},
   "outputs": [
    {
     "name": "stdout",
     "output_type": "stream",
     "text": [
      "precip\n"
     ]
    }
   ],
   "source": [
    "trend = get_obs_trend(TARGET, PATH)\n",
    "trend[:, mask_US == 0] = 0"
   ]
  },
  {
   "cell_type": "code",
   "execution_count": 15,
   "id": "f499b4f7",
   "metadata": {},
   "outputs": [],
   "source": [
    "trend_cropped_US = np.zeros((trend.shape[0], 48, 115))\n",
    "\n",
    "for i in range(trend.shape[0]):\n",
    "    trend_cropped_US[i] = crop_to_US_land(trend[i])"
   ]
  },
  {
   "cell_type": "code",
   "execution_count": 16,
   "id": "59bc9eeb",
   "metadata": {},
   "outputs": [],
   "source": [
    "train_size = 249 // 2\n",
    "stacking_size = 249 // 2 + 1\n",
    "test_size = 249"
   ]
  },
  {
   "cell_type": "markdown",
   "id": "fe4a3852",
   "metadata": {},
   "source": [
    "Here, we train RF on the first half of the train data."
   ]
  },
  {
   "cell_type": "code",
   "execution_count": 17,
   "id": "bb56582c",
   "metadata": {},
   "outputs": [
    {
     "name": "stdout",
     "output_type": "stream",
     "text": [
      "ncep\n"
     ]
    }
   ],
   "source": [
    "if TARGET == 'tmp_ncep' or TARGET == 'precip_ncep':\n",
    "    print('ncep')\n",
    "    rf_object = generate_RF_predictions(X_ftrs_hind, target_rect, mask_US,\n",
    "                                        drop_positional_encodings=False,\n",
    "                                        train_size=train_size, \n",
    "                                        positional_encoding_channels=range(33, 33+2*PE_dim))\n",
    "else:\n",
    "    print('nasa')\n",
    "    rf_object = generate_RF_predictions(X_ftrs_hind, target_rect, mask_US,\n",
    "                                        drop_positional_encodings=False, \n",
    "                                        train_size=train_size, \n",
    "                                    positional_encoding_channels=range(20, 20+2*PE_dim))"
   ]
  },
  {
   "cell_type": "code",
   "execution_count": 18,
   "id": "b27242f3",
   "metadata": {},
   "outputs": [],
   "source": [
    "rf_object.train_model()\n",
    "\n",
    "rf_preds_for_stack = rf_object.return_predictions(include='all', output_format='grid', \n",
    "                                         output_original_grid=True)"
   ]
  },
  {
   "cell_type": "markdown",
   "id": "9ee57eb3",
   "metadata": {},
   "source": [
    "Getting predictions of models trained on the first half of the train data."
   ]
  },
  {
   "cell_type": "code",
   "execution_count": 19,
   "id": "3e8fb461",
   "metadata": {},
   "outputs": [
    {
     "name": "stdout",
     "output_type": "stream",
     "text": [
      "getting precip ncep\n"
     ]
    }
   ],
   "source": [
    "if TARGET == 'precip_ncep':\n",
    "    print('getting precip ncep')\n",
    "    unet_for_stack = np.load('data/unet_outputs_precip_ncep+stack.npy')\n",
    "    lr_for_stack  = np.load('data/LinR_precip_ncep_best_stack.npy') # np.load('data/LogR_probs_precip_NCEP_stack.npy')\n",
    "elif TARGET == 'tmp_ncep':\n",
    "    print('getting tmp ncep')\n",
    "    unet_for_stack = np.load('data/unet_outputs_tmp_nasa_woSST_stack.npy') # unet_outputs_tmp_ncep_stack\n",
    "    lr_for_stack  = np.load('data/LinR_tmp_ncep_wosst_stack.npy') # LinR_tmp_ncep_best_stack\n",
    "elif TARGET == 'precip_nasa':\n",
    "    unet_for_stack = np.load('data/unet_outputs_precip_nasa_stack.npy')\n",
    "    lr_for_stack  = np.load('data/LinR_precip_nasa_best_stack.npy')\n",
    "elif TARGET == 'tmp_nasa':\n",
    "    # unet_outputs_tmp_nasa_woSST_stack\n",
    "    unet_for_stack = np.load('data/unet_outputs_tmp_nasa_stack.npy') #unet_outputs_tmp_nasa_stack\n",
    "    # LinR_tmp_nasa_wosst_stack\n",
    "    lr_for_stack  = np.load('data/LinR_tmp_nasa_best_stack.npy') # LinR_tmp_nasa_best_stack"
   ]
  },
  {
   "cell_type": "code",
   "execution_count": 20,
   "id": "9c0243b4",
   "metadata": {},
   "outputs": [],
   "source": [
    "NUM_LOC = 3274\n",
    "NUMFTRS = 3\n",
    "X_ftrs = np.zeros((312, NUM_LOC, NUMFTRS))\n",
    "X_ftrs[:, :, 0] = rf_preds_for_stack[:, mask_US==1]\n",
    "X_ftrs[:, :, 1] = unet_for_stack[:, mask_US_cropped==1]\n",
    "X_ftrs[:, :, 2] = lr_for_stack[:, mask_US==1]"
   ]
  },
  {
   "cell_type": "code",
   "execution_count": 21,
   "id": "715d30e7",
   "metadata": {},
   "outputs": [
    {
     "name": "stdout",
     "output_type": "stream",
     "text": [
      "0.0 1.0 0.00021037723838679615 0.9691178390733254\n",
      "0.0 1.0 0.0 1.005818978916764\n"
     ]
    }
   ],
   "source": [
    "X_train = X_ftrs[train_size:test_size]\n",
    "X_test = X_ftrs[249:]\n",
    "y_train = np.array(target_rect[train_size:test_size, mask_US==1])\n",
    "y_test = np.array(target_rect[test_size:, mask_US==1])\n",
    "\n",
    "X_mins = np.min(X_train, axis=(0, 1)).reshape(1, 1, X_ftrs.shape[2]) #np.amin(X_train)\n",
    "X_maxs = np.max(X_train, axis=(0, 1)).reshape(1, 1, X_ftrs.shape[2]) #np.amax(X_train)\n",
    "X_train = X_train - X_mins\n",
    "X_test = X_test - X_mins\n",
    "X_train = X_train/(X_maxs - X_mins)\n",
    "X_test = X_test/(X_maxs - X_mins)\n",
    "\n",
    "y_min = np.min(y_train)\n",
    "y_max = np.max(y_train)\n",
    "y_train = y_train - y_min\n",
    "y_test = y_test - y_min\n",
    "y_train = y_train/(y_max - y_min)\n",
    "y_test = y_test/(y_max - y_min)\n",
    "# y_mean = np.mean(y_train)\n",
    "# y_std = np.std(y_train)\n",
    "# y_train = (y_train - y_mean) / y_std\n",
    "# y_test = (y_test - y_mean) / y_std\n",
    "\n",
    "print(np.min(X_train), np.max(X_train), np.min(X_test), np.max(X_test))\n",
    "print(np.min(y_train), np.max(y_train), np.min(y_test), np.max(y_test))"
   ]
  },
  {
   "cell_type": "code",
   "execution_count": 22,
   "id": "ecfc5fa2",
   "metadata": {},
   "outputs": [],
   "source": [
    "X_train = X_train.reshape(-1, NUMFTRS)\n",
    "X_test = X_test.reshape(-1, NUMFTRS)\n",
    "\n",
    "y_train = y_train.reshape(-1)\n",
    "y_test = y_test.reshape(-1)"
   ]
  },
  {
   "cell_type": "markdown",
   "id": "78957048",
   "metadata": {},
   "source": [
    "Train the stacking model"
   ]
  },
  {
   "cell_type": "code",
   "execution_count": 23,
   "id": "bb013317",
   "metadata": {},
   "outputs": [],
   "source": [
    "regr = MLPRegressor(random_state=42, solver='lbfgs', max_iter=15, alpha=0.01, \n",
    "                    activation='logistic', hidden_layer_sizes=(100)).fit(X_train, y_train)\n",
    "\n",
    "pred_test = regr.predict(X_test)"
   ]
  },
  {
   "cell_type": "code",
   "execution_count": 24,
   "id": "81a29759",
   "metadata": {},
   "outputs": [],
   "source": [
    "pred_test = pred_test.squeeze() * (y_max - y_min) + y_min\n",
    "\n",
    "pred_train = regr.predict(X_train)\n",
    "pred_train = pred_train.squeeze() * (y_max - y_min) + y_min"
   ]
  },
  {
   "cell_type": "markdown",
   "id": "3a93c4c1",
   "metadata": {},
   "source": [
    "### Go to fully trained models RF/UNET"
   ]
  },
  {
   "cell_type": "markdown",
   "id": "203b9ec6",
   "metadata": {},
   "source": [
    "After we trained the stacking model, we can use our models that were trained on all train data. here we go to the test set (all models were trained using 249 time steps, and there are their predictions on test)"
   ]
  },
  {
   "cell_type": "code",
   "execution_count": 25,
   "id": "b280370a",
   "metadata": {},
   "outputs": [
    {
     "name": "stdout",
     "output_type": "stream",
     "text": [
      "(117, 64, 128) (117, 48, 115) (117, 64, 128) (117, 64, 128)\n"
     ]
    }
   ],
   "source": [
    "if TARGET == 'precip_ncep': \n",
    "    unet_preds = np.load('data/unet_2011_20_ncep_precip.npy') \n",
    "    rf_preds = np.load('data/rf_preds_ncep_realprecip_2020.npy') \n",
    "    lr_preds = np.load('data/test_2011_2018/LR_precip_ncep_all_ftrs_2020.npy')\n",
    "#     lr_preds = np.load('data/test_2011_2018/LR_ens_only_precip_ncep_new.npy') \n",
    "    NUM_STEPS = 93 + 24\n",
    "    \n",
    "    test_target = np.load(PATH + 'data/test_2020/precip_test_2011_2020.npy')\n",
    "    test_target = test_target[3:] * mask_US\n",
    "    \n",
    "elif TARGET == 'precip_nasa': \n",
    "    unet_preds = np.load('data/unet_2011_18_gmao_precip.npy') \n",
    "    rf_preds = np.load('data/test_2011_2018/RF_precip_nasa_new.npy') \n",
    "    lr_preds = np.load('data/test_2011_2018/LR_precip_nasa_new.npy')\n",
    "#     lr_preds = np.load('data/test_2011_2018/LR_ens_only_precip_nasa_new.npy')\n",
    "    NUM_STEPS = 85\n",
    "    \n",
    "    test_target = np.load(PATH + 'data/precip_US_rect_Larger_2011_2018.npy')\n",
    "    test_target = test_target[:-11] * mask_US\n",
    "    \n",
    "elif TARGET == 'tmp_ncep': \n",
    "    unet_preds = np.load('data/unet_2011_20_ncep_tmp_new.npy') #np.load('data/unet_2011_20_ncep_tmp.npy') \n",
    "    rf_preds = np.load('data/rf_preds_ncep_precip_2020.npy') \n",
    "    #np.load('data/test_2011_2018/RF_tmp_ncep_new.npy') \n",
    "    #lr_preds = np.load('data/test_2011_2018/LR_tmp_ncep_new.npy')\n",
    "    lr_preds = lr_preds = np.load('data/test_2011_2018/LR_tmp_ncep_all_2020.npy')#np.load('data/test_2011_2018/LR_ens_only_tmp_ncep_new.npy')\n",
    "    NUM_STEPS = 93 + 24\n",
    "    \n",
    "    test_target = np.load(PATH + 'data/test_2020/tmp_test_2011_2020.npy')\n",
    "    test_target = test_target[3:] * mask_US\n",
    "    \n",
    "elif TARGET == 'tmp_nasa': \n",
    "    unet_preds = np.load('data/unet_2011_18_gmao_tmp.npy') \n",
    "    rf_preds = np.load('data/test_2011_2018/RF_tmp_nasa_new.npy') \n",
    "#     lr_preds = np.load('data/test_2011_2018/LR_tmp_nasa_new.npy')\n",
    "    lr_preds = np.load('data/test_2011_2018/LR_ens_only_tmp_nasa_new.npy')\n",
    "    NUM_STEPS = 85\n",
    "    \n",
    "    test_target = np.load(PATH + 'data/tmp_US_rect_Larger_2011_2018.npy')\n",
    "    test_target = test_target[:-11] * mask_US\n",
    "    \n",
    "else:\n",
    "    print('NO DATA')\n",
    "    \n",
    "print(unet_preds.shape, rf_preds.shape, lr_preds.shape, test_target.shape)"
   ]
  },
  {
   "cell_type": "code",
   "execution_count": 26,
   "id": "f50e6c84",
   "metadata": {},
   "outputs": [],
   "source": [
    "test_target_cropped = np.zeros((test_target.shape[0], 48, 115))\n",
    "\n",
    "for i in range(test_target.shape[0]):\n",
    "    test_target_cropped[i] = crop_to_US_land(test_target[i])"
   ]
  },
  {
   "cell_type": "code",
   "execution_count": 27,
   "id": "e3165d98",
   "metadata": {},
   "outputs": [],
   "source": [
    "if 'ncep' in TARGET:\n",
    "    # shift trend for NCEP data\n",
    "    target_test_detrended = test_target_cropped - trend_cropped_US[3:3+93+24]\n",
    "else:\n",
    "    target_test_detrended = test_target_cropped[train_size:] - trend_cropped_US[:85]"
   ]
  },
  {
   "cell_type": "code",
   "execution_count": 28,
   "id": "0958958a",
   "metadata": {},
   "outputs": [],
   "source": [
    "NUM_LOC = 3274\n",
    "NUMFTRS = 3\n",
    "\n",
    "X_ftrs = np.zeros((NUM_STEPS, NUM_LOC, NUMFTRS))\n",
    "X_ftrs[:, :, 0] = rf_preds[:,  mask_US_cropped==1]\n",
    "X_ftrs[:, :, 1] = unet_preds[:, mask_US==1]\n",
    "X_ftrs[:, :, 2] = lr_preds[:,  mask_US==1]"
   ]
  },
  {
   "cell_type": "code",
   "execution_count": 29,
   "id": "ba009675",
   "metadata": {},
   "outputs": [],
   "source": [
    "X_ftrs = (X_ftrs - X_mins) / (X_maxs - X_mins)"
   ]
  },
  {
   "cell_type": "code",
   "execution_count": 30,
   "id": "4a219888",
   "metadata": {},
   "outputs": [],
   "source": [
    "X_ftrs = X_ftrs.reshape(-1, NUMFTRS)"
   ]
  },
  {
   "cell_type": "code",
   "execution_count": 31,
   "id": "d4b12e92",
   "metadata": {},
   "outputs": [],
   "source": [
    "pred_stacking = regr.predict(X_ftrs)"
   ]
  },
  {
   "cell_type": "code",
   "execution_count": 32,
   "id": "35e8b615",
   "metadata": {},
   "outputs": [],
   "source": [
    "pred_stacking = pred_stacking * (y_max - y_min) + y_min"
   ]
  },
  {
   "cell_type": "code",
   "execution_count": 33,
   "id": "341b7887",
   "metadata": {},
   "outputs": [],
   "source": [
    "pred_stacking = pred_stacking.reshape(NUM_STEPS, 3274)"
   ]
  },
  {
   "cell_type": "code",
   "execution_count": 34,
   "id": "5a2b1e3a",
   "metadata": {},
   "outputs": [],
   "source": [
    "pred_stacking_img = np.zeros((NUM_STEPS, 48, 115))\n",
    "\n",
    "for i in range(NUM_STEPS):\n",
    "    pred_stacking_img[i] = convert_1d_to_2d(pred_stacking[i], mask_US_cropped)[0]"
   ]
  },
  {
   "cell_type": "code",
   "execution_count": 35,
   "id": "5651cd08",
   "metadata": {},
   "outputs": [],
   "source": [
    "if 'ncep' in TARGET:\n",
    "    # shift trend for NCEP data\n",
    "    preds_test_detrended = pred_stacking_img - trend_cropped_US[3:3+93+24]\n",
    "else: \n",
    "    preds_test_detrended = pred_stacking_img - trend_cropped_US[:85]"
   ]
  },
  {
   "cell_type": "code",
   "execution_count": 36,
   "id": "9929a1f6",
   "metadata": {},
   "outputs": [
    {
     "data": {
      "text/plain": [
       "array([2.07, 1.99, 0.03, 1.42, 2.96, 4.38])"
      ]
     },
     "execution_count": 36,
     "metadata": {},
     "output_type": "execute_result"
    }
   ],
   "source": [
    "model_performance(test_target[:, mask_US==1], pred_stacking)"
   ]
  },
  {
   "cell_type": "code",
   "execution_count": 37,
   "id": "01cecb2d",
   "metadata": {},
   "outputs": [
    {
     "data": {
      "text/plain": [
       "(117, 48, 115)"
      ]
     },
     "execution_count": 37,
     "metadata": {},
     "output_type": "execute_result"
    }
   ],
   "source": [
    "target_test_detrended.shape"
   ]
  },
  {
   "cell_type": "code",
   "execution_count": 38,
   "id": "7017a7bb",
   "metadata": {},
   "outputs": [
    {
     "name": "stdout",
     "output_type": "stream",
     "text": [
      "Avg r2 : 0.02 \n",
      "Median r2: 0.04  \n"
     ]
    }
   ],
   "source": [
    "r2_test = avg_r2(target_test_detrended, preds_test_detrended, mask_US_cropped)"
   ]
  },
  {
   "cell_type": "code",
   "execution_count": 74,
   "id": "d156f52c",
   "metadata": {},
   "outputs": [
    {
     "name": "stderr",
     "output_type": "stream",
     "text": [
      "<ipython-input-74-55db1136a8d0>:1: DeprecationWarning: `np.float` is a deprecated alias for the builtin `float`. To silence this warning, use `float` by itself. Doing this will not modify any behavior and is safe. If you specifically wanted the numpy scalar type, use `np.float64` here.\n",
      "Deprecated in NumPy 1.20; for more details and guidance: https://numpy.org/devdocs/release/1.20.0-notes.html#deprecations\n",
      "  r2_test[mask_US_cropped == 0] = np.float('NaN')\n"
     ]
    },
    {
     "data": {
      "image/png": "[encoded data removed]",
      "text/plain": [
       "<Figure size 1080x900 with 2 Axes>"
      ]
     },
     "metadata": {
      "needs_background": "light"
     },
     "output_type": "display_data"
    }
   ],
   "source": [
    "r2_test[mask_US_cropped == 0] = np.float('NaN')\n",
    "cmap = plt.cm.RdBu\n",
    "cmap.set_bad('dimgrey',1.)\n",
    "plt.imshow(r2_test, extent=(-124.25,-67.75,25.25,48.75), cmap=cmap)\n",
    "plt.title('Test $R^2$ of stacked model')\n",
    "plt.xlabel('longitude')\n",
    "plt.ylabel('latitude')\n",
    "plt.clim(-1,1)\n",
    "cbar = plt.colorbar(shrink=0.5)\n",
    "plt.gcf().set_size_inches(15,12.5)\n",
    "cbar.set_label('$R^2$')"
   ]
  },
  {
   "cell_type": "code",
   "execution_count": null,
   "id": "a780523f",
   "metadata": {},
   "outputs": [],
   "source": []
  }
 ],
 "metadata": {
  "kernelspec": {
   "display_name": "Python 3 (ipykernel)",
   "language": "python",
   "name": "python3"
  },
  "language_info": {
   "codemirror_mode": {
    "name": "ipython",
    "version": 3
   },
   "file_extension": ".py",
   "mimetype": "text/x-python",
   "name": "python",
   "nbconvert_exporter": "python",
   "pygments_lexer": "ipython3",
   "version": "3.8.3"
  }
 },
 "nbformat": 4,
 "nbformat_minor": 5
}
