{
 "cells": [
  {
   "cell_type": "code",
   "execution_count": 2,
   "id": "95b15230",
   "metadata": {},
   "outputs": [],
   "source": [
    "%load_ext autoreload\n",
    "%autoreload 2"
   ]
  },
  {
   "cell_type": "code",
   "execution_count": 18,
   "id": "f2c9f76a",
   "metadata": {},
   "outputs": [],
   "source": [
    "import segmentation_models_pytorch as smp\n",
    "from utils_unet import * \n",
    "from utils_data import *\n",
    "from utils_models import *\n",
    "import numpy as np\n",
    "import matplotlib.pyplot as plt\n",
    "%matplotlib inline\n",
    "import pandas as pd\n",
    "from matplotlib.pyplot import figure\n",
    "\n",
    "import torch\n",
    "import torch.nn as nn\n",
    "from torch.utils.data import Dataset\n",
    "from tqdm import tqdm\n",
    "import pickle\n",
    "import torch.optim as optim\n",
    "from torch.utils.data import DataLoader, random_split,Dataset\n",
    "\n",
    "from torchsummary import summary\n",
    "import matplotlib.cm as cm"
   ]
  },
  {
   "cell_type": "code",
   "execution_count": 76,
   "id": "98d55c36",
   "metadata": {},
   "outputs": [],
   "source": [
    "plt.rcParams.update({'font.size': 17})"
   ]
  },
  {
   "cell_type": "markdown",
   "id": "7a3e23ac",
   "metadata": {},
   "source": [
    "### Getting data\n",
    "\n",
    "Here we get data 1985-2011 for train and validation. Train set has 249 time steps."
   ]
  },
  {
   "cell_type": "code",
   "execution_count": 6,
   "id": "47437660",
   "metadata": {},
   "outputs": [],
   "source": [
    "# define target to be from 'precip_ncep' 'tmp_ncep' 'precip_nasa' 'tmp_nasa'\n",
    "TARGET = 'tmp_ncep'\n",
    "\n",
    "PATH = '/share/data/willett-group/climate/'\n",
    "\n",
    "mask_US = np.load('train_val/mask_US.npy')"
   ]
  },
  {
   "cell_type": "code",
   "execution_count": 7,
   "id": "214b33a0",
   "metadata": {},
   "outputs": [],
   "source": [
    "ens_forecasts_all, target_rect, target_for_lags = get_train_val_ens_target(TARGET, PATH)\n",
    "\n",
    "tmp_precip, rhum, ght, pressure, sst_train, sst_val = get_train_val_obs_data(TARGET, PATH)"
   ]
  },
  {
   "cell_type": "code",
   "execution_count": 8,
   "id": "b491b376",
   "metadata": {},
   "outputs": [
    {
     "name": "stdout",
     "output_type": "stream",
     "text": [
      "(312, 24, 64, 128) (312, 64, 128) (64, 128)\n"
     ]
    }
   ],
   "source": [
    "print(ens_forecasts_all.shape, target_rect.shape, mask_US.shape)"
   ]
  },
  {
   "cell_type": "code",
   "execution_count": 10,
   "id": "3bd8afac",
   "metadata": {},
   "outputs": [
    {
     "data": {
      "text/plain": [
       "((324, 64, 128), (324, 64, 128), (324, 64, 128))"
      ]
     },
     "execution_count": 10,
     "metadata": {},
     "output_type": "execute_result"
    }
   ],
   "source": [
    "print(tmp_precip.shape, ght.shape, pressure.shape)"
   ]
  },
  {
   "cell_type": "code",
   "execution_count": 11,
   "id": "9b564520",
   "metadata": {},
   "outputs": [
    {
     "data": {
      "text/plain": [
       "((249, 100), (63, 100))"
      ]
     },
     "execution_count": 11,
     "metadata": {},
     "output_type": "execute_result"
    }
   ],
   "source": [
    "print(sst_train.shape, sst_val.shape)"
   ]
  },
  {
   "cell_type": "code",
   "execution_count": 12,
   "id": "68c8076e",
   "metadata": {},
   "outputs": [],
   "source": [
    "# let's define positional encoding\n",
    "\n",
    "grid_lat, grid_lon = np.mgrid[52.75:21.25:64j, 233.25:296.75:128j]\n",
    "\n",
    "coordinates = np.zeros((2, grid_lat.shape[0], grid_lat.shape[1]))\n",
    "coordinates[0] = grid_lat\n",
    "coordinates[1] = grid_lon\n",
    "\n",
    "PE_dim = 12\n",
    "pe0 = sinusoid_positional_encoding_ref(64*128, PE_dim, coordinates[0].reshape(64*128))\n",
    "pe1 = sinusoid_positional_encoding_ref(64*128, PE_dim, coordinates[1].reshape(64*128))\n",
    "\n",
    "pe_channels = np.zeros((PE_dim*2, 64, 128))\n",
    "pe_channels[:PE_dim, :, :] = pe0.T.reshape(PE_dim, 64, 128)\n",
    "pe_channels[-PE_dim:, :, :] = pe1.T.reshape(PE_dim, 64, 128)"
   ]
  },
  {
   "cell_type": "code",
   "execution_count": 13,
   "id": "83ed5064",
   "metadata": {},
   "outputs": [],
   "source": [
    "train_val_size = 312"
   ]
  },
  {
   "cell_type": "code",
   "execution_count": 14,
   "id": "182e568a",
   "metadata": {},
   "outputs": [],
   "source": [
    "sst_ftr = np.concatenate((sst_train[:, :8], sst_val[:, :8]), axis=0)\n",
    "sst_img = np.zeros((train_val_size, 8, 64, 128))\n",
    "\n",
    "for i in range(train_val_size):\n",
    "    for j in range(8): # number of components\n",
    "        sst_img[i, j, :, :] = np.full((64, 128), sst_ftr[i, j])"
   ]
  },
  {
   "cell_type": "code",
   "execution_count": 16,
   "id": "970037c0",
   "metadata": {},
   "outputs": [],
   "source": [
    "# create features \n",
    "# it's easy to vary what features to include\n",
    "if TARGET == 'tmp_ncep' or TARGET == 'precip_ncep':\n",
    "    dim_shape = 24 + 24 + 5 + 4 #+ 8\n",
    "    X_ftrs_hind = np.zeros((312, dim_shape, ens_forecasts_all.shape[2], ens_forecasts_all.shape[3]))\n",
    "    X_ftrs_hind[:, :24, :, :] = ens_forecasts_all\n",
    "\n",
    "    for i in range(len(X_ftrs_hind)):\n",
    "        X_ftrs_hind[i, 24, :, :] = target_for_lags[i+24-2, :, :]\n",
    "        X_ftrs_hind[i, 25, :, :] = target_for_lags[i+24-3, :, :]\n",
    "        X_ftrs_hind[i, 26, :, :] = target_for_lags[i+24-4, :, :]\n",
    "        X_ftrs_hind[i, 27, :, :] = target_for_lags[i+24-12, :, :]\n",
    "        X_ftrs_hind[i, 28, :, :] = target_for_lags[i+24-24, :, :]\n",
    "\n",
    "        X_ftrs_hind[i, 29, :, :] = tmp_precip[i+12-2, :, :]\n",
    "        X_ftrs_hind[i, 30, :, :] = ght[i+12-2, :, :]\n",
    "        X_ftrs_hind[i, 31, :, :] = pressure[i+12-2, :, :]\n",
    "        X_ftrs_hind[i, 32, :, :] = rhum[i+12-2, :, :]\n",
    "\n",
    "    X_ftrs_hind[:, 33:33+2*PE_dim, :, :] = pe_channels\n",
    "#     X_ftrs_hind[:, -8:, :, :] = sst_img\n",
    "    \n",
    "elif TARGET == 'tmp_nasa' or TARGET == 'precip_nasa':\n",
    "    print(TARGET)\n",
    "    dim_shape = 11 + 4 + 24 + 5 #+ 8\n",
    "    X_ftrs_hind = np.zeros((312, dim_shape, ens_forecasts_all.shape[2], ens_forecasts_all.shape[3]))\n",
    "    X_ftrs_hind[:, :11, :, :] = ens_forecasts_all\n",
    "\n",
    "    for i in range(len(X_ftrs_hind)):\n",
    "        X_ftrs_hind[i, 11, :, :] = target_for_lags[i+24-2, :, :]\n",
    "        X_ftrs_hind[i, 12, :, :] = target_for_lags[i+24-3, :, :]\n",
    "        X_ftrs_hind[i, 13, :, :] = target_for_lags[i+24-4, :, :]\n",
    "        X_ftrs_hind[i, 14, :, :] = target_for_lags[i+24-12, :, :]\n",
    "        X_ftrs_hind[i, 15, :, :] = target_for_lags[i+24-24, :, :]\n",
    "\n",
    "        X_ftrs_hind[i, 16, :, :] = tmp_precip[i+12-2, :, :]\n",
    "        X_ftrs_hind[i, 17, :, :] = ght[i+12-2, :, :]\n",
    "        X_ftrs_hind[i, 18, :, :] = pressure[i+12-2, :, :]\n",
    "        X_ftrs_hind[i, 19, :, :] = rhum[i+12-2, :, :]\n",
    "\n",
    "    X_ftrs_hind[:, 20:20+2*PE_dim, :, :] = pe_channels\n",
    "#     X_ftrs_hind[:, -8:, :, :] = sst_img"
   ]
  },
  {
   "cell_type": "markdown",
   "id": "bf2028f0",
   "metadata": {},
   "source": [
    "Let's download our observational climatology: it has shape of our train and test data: there are 312 steps starting from January."
   ]
  },
  {
   "cell_type": "code",
   "execution_count": 19,
   "id": "eeb02558",
   "metadata": {},
   "outputs": [
    {
     "name": "stdout",
     "output_type": "stream",
     "text": [
      "tmp\n"
     ]
    }
   ],
   "source": [
    "trend = get_obs_trend(TARGET, PATH)\n",
    "trend[:, mask_US == 0] = 0"
   ]
  },
  {
   "cell_type": "code",
   "execution_count": 20,
   "id": "28f37053",
   "metadata": {},
   "outputs": [],
   "source": [
    "trend_cropped_US = np.zeros((trend.shape[0], 48, 115))\n",
    "\n",
    "for i in range(trend.shape[0]):\n",
    "    trend_cropped_US[i] = crop_to_US_land(trend[i])"
   ]
  },
  {
   "cell_type": "code",
   "execution_count": 23,
   "id": "3fff5e22",
   "metadata": {},
   "outputs": [],
   "source": [
    "train_size = 250\n",
    "X_train = X_ftrs_hind[:train_size]\n",
    "X_val = X_ftrs_hind[train_size:]\n",
    "y_train = target_rect[:train_size]\n",
    "y_val = target_rect[train_size:]"
   ]
  },
  {
   "cell_type": "code",
   "execution_count": 26,
   "id": "79b4843e",
   "metadata": {},
   "outputs": [
    {
     "name": "stdout",
     "output_type": "stream",
     "text": [
      "0.0 1.0 0.0 1.0151855936812366\n",
      "-3.4918894795825 2.547370826216889 -3.104785550790376 2.5306543066692764\n"
     ]
    }
   ],
   "source": [
    "X_mins = np.min(X_train, axis=(0, 2, 3)).reshape(1, X_ftrs_hind.shape[1], 1, 1) #np.amin(X_train)\n",
    "X_maxs = np.max(X_train, axis=(0, 2, 3)).reshape(1, X_ftrs_hind.shape[1], 1, 1) #np.amax(X_train)\n",
    "X_train = X_train - X_mins\n",
    "X_val = X_val - X_mins\n",
    "X_train = X_train/(X_maxs - X_mins)\n",
    "X_val = X_val/(X_maxs - X_mins)\n",
    "\n",
    "\n",
    "if 'precip' in TARGET:\n",
    "    y_min = np.min(y_train)\n",
    "    y_max = np.max(y_train)\n",
    "    y_train = y_train - y_min\n",
    "    y_val = y_val - y_min\n",
    "    y_train = y_train/(y_max - y_min)\n",
    "    y_val = y_val/(y_max - y_min)\n",
    "elif 'tmp' in TARGET:\n",
    "    y_mean = np.mean(y_train[:, mask_US==1])\n",
    "    y_std = np.std(y_train[:, mask_US==1])\n",
    "    y_train = (y_train - y_mean) / y_std\n",
    "    y_val = (y_val - y_mean) / y_std\n",
    "    y_train = y_train * mask_US\n",
    "    y_val = y_val * mask_US\n",
    "\n",
    "print(np.min(X_train), np.max(X_train), np.min(X_val), np.max(X_val))\n",
    "print(np.min(y_train), np.max(y_train), np.min(y_val), np.max(y_val))\n",
    "\n",
    "BATCH_SIZE = 16\n",
    "dataset_train = SimpleDataset(X_train, y_train)\n",
    "dataloader_train = DataLoader(dataset_train,\n",
    "                              batch_size=BATCH_SIZE,\n",
    "                              shuffle=False,\n",
    "                              num_workers=0,\n",
    "                              pin_memory=False\n",
    "                             )\n",
    "\n",
    "\n",
    "dataset_val = SimpleDataset(X_val, y_val)\n",
    "dataloader_val = DataLoader(dataset_val,\n",
    "                              batch_size=64,\n",
    "                              shuffle=False,\n",
    "                              num_workers=0,\n",
    "                              pin_memory=False\n",
    "                             )"
   ]
  },
  {
   "cell_type": "code",
   "execution_count": 27,
   "id": "d1c717b8",
   "metadata": {},
   "outputs": [
    {
     "name": "stdout",
     "output_type": "stream",
     "text": [
      "0\r\n"
     ]
    }
   ],
   "source": [
    "! echo $CUDA_VISIBLE_DEVICES"
   ]
  },
  {
   "cell_type": "code",
   "execution_count": 28,
   "id": "2c3f4894",
   "metadata": {},
   "outputs": [],
   "source": [
    "import os\n",
    "os.environ['CUDA_VISIBLE_DEVICES'] = '0'\n",
    "device = torch.device(\"cuda\" if torch.cuda.is_available() else \"cpu\")"
   ]
  },
  {
   "cell_type": "code",
   "execution_count": 29,
   "id": "527a2aac",
   "metadata": {},
   "outputs": [],
   "source": [
    "mask_US_tensor = torch.from_numpy(mask_US).float()"
   ]
  },
  {
   "cell_type": "code",
   "execution_count": 80,
   "id": "ebfbe5b0",
   "metadata": {},
   "outputs": [],
   "source": [
    "# Run Test for grid search\n",
    "def run_test(X_train, y_train, X_val, y_val, mask, lr=0.001, BATCH_SIZE=16, dropout=0.2, num_epochs = 50):\n",
    "    dataset_train = SimpleDataset(X_train, y_train)\n",
    "    dataloader_train = DataLoader(dataset_train,\n",
    "                                  batch_size=BATCH_SIZE,\n",
    "                                  shuffle=False,\n",
    "                                  num_workers=0,\n",
    "                                  pin_memory=False\n",
    "                                 )\n",
    "\n",
    "    dataset_val = SimpleDataset(X_val, y_val)\n",
    "    dataloader_val = DataLoader(dataset_val,\n",
    "                                  batch_size=BATCH_SIZE,\n",
    "                                  shuffle=False,\n",
    "                                  num_workers=0,\n",
    "                                  pin_memory=False\n",
    "                                 )\n",
    "    \n",
    "    model = smp.Unet(encoder_name=\"vgg11\",        \n",
    "                     encoder_weights=None,     \n",
    "                     in_channels=X_train.shape[1],                  \n",
    "                     classes=1,\n",
    "                     activation='sigmoid').to(device)\n",
    "    \n",
    "    distance = smp.utils.losses.MSELoss()\n",
    "    optimizer = torch.optim.Adam(params=model.parameters(), lr=lr, weight_decay=1e-4)\n",
    "    scheduler = torch.optim.lr_scheduler.CosineAnnealingLR(optimizer, T_max=10, eta_min=0)\n",
    "\n",
    "    losses = []\n",
    "    losses_val = []\n",
    "\n",
    "    for epoch in range(num_epochs):\n",
    "        model.train()\n",
    "        running_loss = 0\n",
    "        for idx_batch, (x, y) in enumerate(dataloader_train):\n",
    "            x, y = x.to(device).float(), y.to(device).float()\n",
    "            \n",
    "            output = model(x)\n",
    "            loss = distance(output.squeeze() * mask.to(device), y)\n",
    "            running_loss += loss.item()\n",
    "\n",
    "            optimizer.zero_grad()\n",
    "            loss.backward()\n",
    "            optimizer.step()\n",
    "\n",
    "\n",
    "        scheduler.step()\n",
    "        train_loss = running_loss/len(dataloader_train)\n",
    "        losses.append(train_loss)\n",
    "\n",
    "        # validation \n",
    "        model.eval()\n",
    "        with torch.no_grad():\n",
    "            running_loss = 0\n",
    "            for x, y in dataloader_val:\n",
    "                x, y = x.to(device).float(), y.to(device).float()\n",
    "\n",
    "                output = model(x)\n",
    "\n",
    "                loss = distance(output * mask.to(device), y)\n",
    "                running_loss += loss.item()\n",
    "\n",
    "        val_loss = running_loss/len(dataloader_val)\n",
    "        losses_val.append(val_loss)\n",
    "    return losses, losses_val, model"
   ]
  },
  {
   "cell_type": "code",
   "execution_count": 81,
   "id": "c70ceed6",
   "metadata": {},
   "outputs": [],
   "source": [
    "val_size = 25\n",
    "min_val_loss = {\"loss\": 10000}\n",
    "file_name = 'unet_val.txt'\n",
    "\n",
    "def run_CV(X_train, y_train, mask, lr, BATCH_SIZE, NUM_EPOCHS):           \n",
    "    final_loss_train = np.zeros(10)\n",
    "    final_loss_val = np.zeros(10)\n",
    "    for i in range(10):\n",
    "        X_val_temp = X_train[i*val_size:(i+1)*val_size,:,:,:]\n",
    "        y_val_temp = y_train[i*val_size:(i+1)*val_size,:,:]\n",
    "        X_train_temp = np.concatenate((X_train[0:i*val_size,:,:,:],X_train[(i+1)*val_size:,:,:,:]),axis=0)\n",
    "        y_train_temp = np.concatenate((y_train[0:i*val_size,:,:],y_train[(i+1)*val_size:,:,:]),axis=0)\n",
    "        losses, losses_val, model = run_test(X_train_temp,y_train_temp,X_val_temp,y_val_temp, mask, lr=lr, \n",
    "                                      BATCH_SIZE=BATCH_SIZE, num_epochs=NUM_EPOCHS)\n",
    "        final_loss_train[i] = losses[-1]\n",
    "        final_loss_val[i] = losses_val[-1]\n",
    "        \n",
    "    print(\"lr =\", lr, \", batch size =\", BATCH_SIZE )\n",
    "    print(\"lr =\", lr, \", batch size =\", BATCH_SIZE, file=open(file_name, \"a\"))\n",
    "    print(\"average training loss:\", final_loss_train.mean())\n",
    "    print(\"average training loss:\", final_loss_train.mean(), file=open(file_name, \"a\"))\n",
    "    print(\"average validation loss:\", final_loss_val.mean())\n",
    "    print(\"average validation loss:\", final_loss_val.mean(), file=open(file_name, \"a\"))\n",
    "    \n",
    "    if final_loss_val.mean() < min_val_loss[\"loss\"]:\n",
    "        min_val_loss[\"loss\"] = final_loss_val.mean()\n",
    "        print('min val and best params:', min_val_loss[\"loss\"], \"lr =\", lr, \", batch size =\", BATCH_SIZE)\n",
    "        print('min val and best params:', min_val_loss[\"loss\"], \"lr =\", lr, \", batch size =\", BATCH_SIZE, file=open(file_name, \"a\"))\n",
    "#         torch.save(model.to('cpu'), 'models/UNET_new.pth')"
   ]
  },
  {
   "cell_type": "code",
   "execution_count": 1,
   "id": "4c99b665",
   "metadata": {},
   "outputs": [],
   "source": [
    "# Set Hyperparameters here!!!\n",
    "# you can also vary number of epochs, weight decay etc\n",
    "lr_grid = [0.001, 0.0001] \n",
    "BATCH_SIZE_grid = [8, 16, 32, 64]\n",
    "\n",
    "for lr in lr_grid:\n",
    "    for BATCH_SIZE in BATCH_SIZE_grid:\n",
    "        run_CV(X_train, y_train, lr, mask_US_tensor, BATCH_SIZE, NUM_EPOCHS=170)"
   ]
  },
  {
   "cell_type": "code",
   "execution_count": null,
   "id": "ec86c61d",
   "metadata": {},
   "outputs": [],
   "source": []
  },
  {
   "cell_type": "code",
   "execution_count": 31,
   "id": "770cd5e0",
   "metadata": {},
   "outputs": [
    {
     "name": "stdout",
     "output_type": "stream",
     "text": [
      "0.0 1.0 0.0 1.0151855936812366\n",
      "-3.4859739403137504 2.5439432256385666 -3.0994688872048926 2.527252567665382\n"
     ]
    }
   ],
   "source": [
    "train_size = 249 \n",
    "X_train = X_ftrs_hind[:train_size]\n",
    "X_val = X_ftrs_hind[train_size:]\n",
    "\n",
    "y_train = target_rect[:train_size]\n",
    "y_val = target_rect[train_size:]\n",
    "\n",
    "\n",
    "X_mins = np.min(X_train, axis=(0, 2, 3)).reshape(1, X_ftrs_hind.shape[1], 1, 1)\n",
    "X_maxs = np.max(X_train, axis=(0, 2, 3)).reshape(1, X_ftrs_hind.shape[1], 1, 1)\n",
    "X_train = X_train - X_mins\n",
    "X_val = X_val - X_mins\n",
    "X_train = X_train/(X_maxs - X_mins)\n",
    "X_val = X_val/(X_maxs - X_mins)\n",
    "\n",
    "\n",
    "if 'precip' in TARGET:\n",
    "    y_min = np.min(y_train)\n",
    "    y_max = np.max(y_train)\n",
    "    y_train = y_train - y_min\n",
    "    y_val = y_val - y_min\n",
    "    y_train = y_train/(y_max - y_min)\n",
    "    y_val = y_val/(y_max - y_min)\n",
    "elif 'tmp' in TARGET:\n",
    "    y_mean = np.mean(y_train[:, mask_US==1])\n",
    "    y_std = np.std(y_train[:, mask_US==1])\n",
    "    y_train = (y_train - y_mean) / y_std\n",
    "    y_val = (y_val - y_mean) / y_std\n",
    "    y_train = y_train * mask_US\n",
    "    y_val = y_val * mask_US\n",
    "\n",
    "print(np.min(X_train), np.max(X_train), np.min(X_val), np.max(X_val))\n",
    "print(np.min(y_train), np.max(y_train), np.min(y_val), np.max(y_val))\n",
    "\n",
    "BATCH_SIZE = 16\n",
    "dataset_train = SimpleDataset(X_train, y_train)\n",
    "dataloader_train = DataLoader(dataset_train,\n",
    "                              batch_size=BATCH_SIZE,\n",
    "                              shuffle=False,\n",
    "                              num_workers=0,\n",
    "                              pin_memory=False\n",
    "                             )\n",
    "\n",
    "\n",
    "dataset_val = SimpleDataset(X_val, y_val)\n",
    "dataloader_val = DataLoader(dataset_val,\n",
    "                              batch_size=64,\n",
    "                              shuffle=False,\n",
    "                              num_workers=0,\n",
    "                              pin_memory=False\n",
    "                             )\n"
   ]
  },
  {
   "cell_type": "code",
   "execution_count": 32,
   "id": "08aaf3ba",
   "metadata": {},
   "outputs": [],
   "source": [
    "model = smp.Unet(\n",
    "    encoder_name=\"vgg11\",        \n",
    "    encoder_weights=None,     \n",
    "    in_channels=X_ftrs_hind.shape[1],           \n",
    "    classes=1,                      \n",
    "    activation='sigmoid' # None\n",
    ").to(device)\n",
    "\n",
    "distance = smp.utils.losses.MSELoss()\n",
    "\n",
    "optimizer = torch.optim.Adam(params=model.parameters(), lr=0.0001, weight_decay=1e-4)\n",
    "scheduler = torch.optim.lr_scheduler.CosineAnnealingLR(optimizer, T_max=10, eta_min=0)"
   ]
  },
  {
   "cell_type": "code",
   "execution_count": 41,
   "id": "ecc2f86c",
   "metadata": {},
   "outputs": [
    {
     "name": "stderr",
     "output_type": "stream",
     "text": [
      "[Epoch   1/170]: 258it [00:01, 148.34it/s, train loss=0.0214]\n",
      "[Epoch   2/170]: 258it [00:02, 124.15it/s, train loss=0.00347]   \n",
      "[Epoch   3/170]: 258it [00:01, 150.61it/s, train loss=0.00212]\n",
      "[Epoch   4/170]: 258it [00:01, 144.10it/s, train loss=0.0017]\n",
      "[Epoch   5/170]: 258it [00:01, 159.75it/s, train loss=0.0015]\n",
      "[Epoch   6/170]: 258it [00:01, 156.64it/s, train loss=0.00138]\n",
      "[Epoch   7/170]: 258it [00:01, 136.65it/s, train loss=0.00132]   \n",
      "[Epoch   8/170]: 258it [00:02, 120.20it/s, train loss=0.00127]\n",
      "[Epoch   9/170]: 258it [00:02, 128.33it/s, train loss=0.00123]\n",
      "[Epoch  10/170]: 258it [00:01, 165.88it/s, train loss=0.00121]\n",
      "[Epoch  11/170]: 258it [00:01, 166.43it/s, train loss=0.0012]\n",
      "[Epoch  12/170]: 258it [00:01, 161.17it/s, train loss=0.0012]\n",
      "[Epoch  13/170]: 258it [00:01, 165.93it/s, train loss=0.0012]\n",
      "[Epoch  14/170]: 258it [00:01, 162.15it/s, train loss=0.0012]\n",
      "[Epoch  15/170]: 258it [00:01, 166.02it/s, train loss=0.00119]\n",
      "[Epoch  16/170]: 258it [00:01, 166.63it/s, train loss=0.00117]\n",
      "[Epoch  17/170]: 258it [00:01, 166.36it/s, train loss=0.00114]\n",
      "[Epoch  18/170]: 258it [00:01, 137.14it/s, train loss=0.0011]\n",
      "[Epoch  19/170]: 258it [00:01, 167.74it/s, train loss=0.00105]\n",
      "[Epoch  20/170]: 258it [00:01, 167.98it/s, train loss=0.00101]\n",
      "[Epoch  21/170]: 258it [00:01, 167.73it/s, train loss=0.000978]\n",
      "[Epoch  22/170]: 258it [00:01, 162.75it/s, train loss=0.00095]\n",
      "[Epoch  23/170]: 258it [00:01, 163.33it/s, train loss=0.000928]\n",
      "[Epoch  24/170]: 258it [00:01, 163.26it/s, train loss=0.000906]\n",
      "[Epoch  25/170]: 258it [00:01, 167.81it/s, train loss=0.000899]\n",
      "[Epoch  26/170]: 258it [00:01, 167.57it/s, train loss=0.000883]\n",
      "[Epoch  27/170]: 258it [00:01, 162.54it/s, train loss=0.000844]\n",
      "[Epoch  28/170]: 258it [00:01, 167.63it/s, train loss=0.000825]\n",
      "[Epoch  29/170]: 258it [00:01, 166.78it/s, train loss=0.000818]\n",
      "[Epoch  30/170]: 258it [00:01, 167.14it/s, train loss=0.000795]\n",
      "[Epoch  31/170]: 258it [00:01, 167.13it/s, train loss=0.000793]\n",
      "[Epoch  32/170]: 258it [00:01, 167.37it/s, train loss=0.000794]\n",
      "[Epoch  33/170]: 258it [00:01, 167.75it/s, train loss=0.000797]\n",
      "[Epoch  34/170]: 258it [00:01, 161.27it/s, train loss=0.000808]\n",
      "[Epoch  35/170]: 258it [00:01, 167.13it/s, train loss=0.000822]\n",
      "[Epoch  36/170]: 258it [00:01, 167.77it/s, train loss=0.000832]\n",
      "[Epoch  37/170]: 258it [00:01, 167.12it/s, train loss=0.000842]\n",
      "[Epoch  38/170]: 258it [00:01, 166.68it/s, train loss=0.000853]\n",
      "[Epoch  39/170]: 258it [00:01, 151.73it/s, train loss=0.000852]\n",
      "[Epoch  40/170]: 258it [00:01, 150.21it/s, train loss=0.000841]\n",
      "[Epoch  41/170]: 258it [00:01, 165.13it/s, train loss=0.00083]\n",
      "[Epoch  42/170]: 258it [00:01, 148.93it/s, train loss=0.000821]\n",
      "[Epoch  43/170]: 258it [00:01, 166.10it/s, train loss=0.000811]\n",
      "[Epoch  44/170]: 258it [00:01, 162.99it/s, train loss=0.000804]\n",
      "[Epoch  45/170]: 258it [00:01, 167.32it/s, train loss=0.000787]\n",
      "[Epoch  46/170]: 258it [00:01, 167.07it/s, train loss=0.00078]\n",
      "[Epoch  47/170]: 258it [00:01, 167.76it/s, train loss=0.000759]\n",
      "[Epoch  48/170]: 258it [00:01, 168.18it/s, train loss=0.000744]\n",
      "[Epoch  49/170]: 258it [00:01, 168.38it/s, train loss=0.00073]\n",
      "[Epoch  50/170]: 258it [00:01, 168.42it/s, train loss=0.000717]\n",
      "[Epoch  51/170]: 258it [00:01, 167.95it/s, train loss=0.000707]\n",
      "[Epoch  52/170]: 258it [00:01, 168.31it/s, train loss=0.000708]\n",
      "[Epoch  53/170]: 258it [00:01, 158.19it/s, train loss=0.000712]\n",
      "[Epoch  54/170]: 258it [00:01, 167.06it/s, train loss=0.000728]\n",
      "[Epoch  55/170]: 258it [00:01, 152.46it/s, train loss=0.000737]\n",
      "[Epoch  56/170]: 258it [00:01, 154.81it/s, train loss=0.000756]\n",
      "[Epoch  57/170]: 258it [00:01, 162.80it/s, train loss=0.00077]\n",
      "[Epoch  58/170]: 258it [00:01, 166.84it/s, train loss=0.00079]\n",
      "[Epoch  59/170]: 258it [00:01, 168.77it/s, train loss=0.000796]\n",
      "[Epoch  60/170]: 258it [00:01, 159.12it/s, train loss=0.000799]\n",
      "[Epoch  61/170]: 258it [00:01, 166.40it/s, train loss=0.000783]\n",
      "[Epoch  62/170]: 258it [00:01, 158.63it/s, train loss=0.000772]\n",
      "[Epoch  63/170]: 258it [00:01, 153.76it/s, train loss=0.000761]\n",
      "[Epoch  64/170]: 258it [00:01, 162.21it/s, train loss=0.000748]\n",
      "[Epoch  65/170]: 258it [00:01, 165.51it/s, train loss=0.000738]\n",
      "[Epoch  66/170]: 258it [00:01, 167.49it/s, train loss=0.000718]\n",
      "[Epoch  67/170]: 258it [00:01, 163.24it/s, train loss=0.000703]\n",
      "[Epoch  68/170]: 258it [00:01, 167.42it/s, train loss=0.000678]\n",
      "[Epoch  69/170]: 258it [00:01, 168.31it/s, train loss=0.000657]\n",
      "[Epoch  70/170]: 258it [00:01, 161.41it/s, train loss=0.000641]\n",
      "[Epoch  71/170]: 258it [00:01, 162.80it/s, train loss=0.000626]\n",
      "[Epoch  72/170]: 258it [00:01, 167.09it/s, train loss=0.000626]\n",
      "[Epoch  73/170]: 258it [00:01, 167.62it/s, train loss=0.000628]\n",
      "[Epoch  74/170]: 258it [00:01, 164.11it/s, train loss=0.000641]\n",
      "[Epoch  75/170]: 258it [00:01, 155.72it/s, train loss=0.000654]\n",
      "[Epoch  76/170]: 258it [00:01, 149.73it/s, train loss=0.000669]\n",
      "[Epoch  77/170]: 258it [00:01, 151.27it/s, train loss=0.000707]\n",
      "[Epoch  78/170]: 258it [00:01, 157.17it/s, train loss=0.000752]\n",
      "[Epoch  79/170]: 258it [00:01, 161.09it/s, train loss=0.000756]\n",
      "[Epoch  80/170]: 258it [00:01, 158.97it/s, train loss=0.00077]\n",
      "[Epoch  81/170]: 258it [00:01, 159.38it/s, train loss=0.000755]\n",
      "[Epoch  82/170]: 258it [00:01, 157.54it/s, train loss=0.000746]\n",
      "[Epoch  83/170]: 258it [00:01, 164.26it/s, train loss=0.000712]\n",
      "[Epoch  84/170]: 258it [00:01, 162.53it/s, train loss=0.000691]\n",
      "[Epoch  85/170]: 258it [00:01, 167.77it/s, train loss=0.000679]\n",
      "[Epoch  86/170]: 258it [00:01, 166.80it/s, train loss=0.000691]\n",
      "[Epoch  87/170]: 258it [00:01, 161.97it/s, train loss=0.000675]\n",
      "[Epoch  88/170]: 258it [00:01, 161.24it/s, train loss=0.00063]\n",
      "[Epoch  89/170]: 258it [00:01, 160.10it/s, train loss=0.000606]\n",
      "[Epoch  90/170]: 258it [00:01, 168.18it/s, train loss=0.000573]\n",
      "[Epoch  91/170]: 258it [00:01, 166.58it/s, train loss=0.000562]\n",
      "[Epoch  92/170]: 258it [00:01, 165.39it/s, train loss=0.000562]\n",
      "[Epoch  93/170]: 258it [00:01, 167.87it/s, train loss=0.000562]\n",
      "[Epoch  94/170]: 258it [00:01, 164.70it/s, train loss=0.000571]\n",
      "[Epoch  95/170]: 258it [00:01, 162.38it/s, train loss=0.000574]\n",
      "[Epoch  96/170]: 258it [00:01, 156.91it/s, train loss=0.000589]\n",
      "[Epoch  97/170]: 258it [00:01, 158.35it/s, train loss=0.00061]\n",
      "[Epoch  98/170]: 258it [00:01, 158.47it/s, train loss=0.000656]\n",
      "[Epoch  99/170]: 258it [00:01, 167.17it/s, train loss=0.000718]\n",
      "[Epoch 100/170]: 258it [00:01, 152.90it/s, train loss=0.000721]\n",
      "[Epoch 101/170]: 258it [00:01, 164.83it/s, train loss=0.000702]\n",
      "[Epoch 102/170]: 258it [00:01, 164.80it/s, train loss=0.000702]\n",
      "[Epoch 103/170]: 258it [00:01, 160.94it/s, train loss=0.000669]\n",
      "[Epoch 104/170]: 258it [00:01, 168.43it/s, train loss=0.000627]\n",
      "[Epoch 105/170]: 258it [00:01, 161.23it/s, train loss=0.000608]\n",
      "[Epoch 106/170]: 258it [00:01, 168.50it/s, train loss=0.000624]\n",
      "[Epoch 107/170]: 258it [00:01, 145.25it/s, train loss=0.000623]\n",
      "[Epoch 108/170]: 258it [00:01, 168.26it/s, train loss=0.000601]\n",
      "[Epoch 109/170]: 258it [00:01, 168.05it/s, train loss=0.000555]\n",
      "[Epoch 110/170]: 258it [00:01, 165.15it/s, train loss=0.000506]\n",
      "[Epoch 111/170]: 258it [00:01, 167.59it/s, train loss=0.000494]\n",
      "[Epoch 112/170]: 258it [00:01, 163.18it/s, train loss=0.000492]\n",
      "[Epoch 113/170]: 258it [00:01, 167.61it/s, train loss=0.000493]\n",
      "[Epoch 114/170]: 258it [00:01, 165.79it/s, train loss=0.000492]\n",
      "[Epoch 115/170]: 258it [00:01, 167.01it/s, train loss=0.000487]\n",
      "[Epoch 116/170]: 258it [00:01, 167.24it/s, train loss=0.000495]\n",
      "[Epoch 117/170]: 258it [00:01, 159.96it/s, train loss=0.000524]\n",
      "[Epoch 118/170]: 258it [00:01, 137.85it/s, train loss=0.000585]\n",
      "[Epoch 119/170]: 258it [00:01, 155.53it/s, train loss=0.000647]\n",
      "[Epoch 120/170]: 258it [00:01, 163.09it/s, train loss=0.000683]\n",
      "[Epoch 121/170]: 258it [00:01, 167.73it/s, train loss=0.000667]\n",
      "[Epoch 122/170]: 258it [00:01, 166.51it/s, train loss=0.000649]\n",
      "[Epoch 123/170]: 258it [00:01, 166.49it/s, train loss=0.000629]\n",
      "[Epoch 124/170]: 258it [00:01, 166.36it/s, train loss=0.00063]\n",
      "[Epoch 125/170]: 258it [00:01, 167.66it/s, train loss=0.000609]\n",
      "[Epoch 126/170]: 258it [00:01, 163.62it/s, train loss=0.000587]\n",
      "[Epoch 127/170]: 258it [00:01, 168.17it/s, train loss=0.000554]\n",
      "[Epoch 128/170]: 258it [00:01, 168.03it/s, train loss=0.000554]\n",
      "[Epoch 129/170]: 258it [00:01, 163.03it/s, train loss=0.000545]\n",
      "[Epoch 130/170]: 258it [00:01, 168.56it/s, train loss=0.00047]\n",
      "[Epoch 131/170]: 258it [00:01, 168.18it/s, train loss=0.00046]\n",
      "[Epoch 132/170]: 258it [00:01, 162.21it/s, train loss=0.000458]\n",
      "[Epoch 133/170]: 258it [00:01, 165.77it/s, train loss=0.000456]\n",
      "[Epoch 134/170]: 258it [00:01, 167.65it/s, train loss=0.000453]\n",
      "[Epoch 135/170]: 258it [00:01, 156.10it/s, train loss=0.000447]\n",
      "[Epoch 136/170]: 258it [00:01, 160.46it/s, train loss=0.000446]\n",
      "[Epoch 137/170]: 258it [00:01, 160.91it/s, train loss=0.00046]\n",
      "[Epoch 138/170]: 258it [00:01, 159.98it/s, train loss=0.000545]\n",
      "[Epoch 139/170]: 258it [00:01, 146.46it/s, train loss=0.000593]\n",
      "[Epoch 140/170]: 258it [00:01, 166.40it/s, train loss=0.000646]\n",
      "[Epoch 141/170]: 258it [00:01, 166.51it/s, train loss=0.000658]\n",
      "[Epoch 142/170]: 258it [00:01, 168.38it/s, train loss=0.000629]\n",
      "[Epoch 143/170]: 258it [00:01, 168.29it/s, train loss=0.000613]\n",
      "[Epoch 144/170]: 258it [00:01, 163.09it/s, train loss=0.000588]\n",
      "[Epoch 145/170]: 258it [00:01, 166.74it/s, train loss=0.000571]\n",
      "[Epoch 146/170]: 258it [00:01, 166.02it/s, train loss=0.000559]\n",
      "[Epoch 147/170]: 258it [00:01, 168.25it/s, train loss=0.000535]\n",
      "[Epoch 148/170]: 258it [00:01, 167.75it/s, train loss=0.000519]\n",
      "[Epoch 149/170]: 258it [00:01, 168.05it/s, train loss=0.000493]\n",
      "[Epoch 150/170]: 258it [00:01, 167.61it/s, train loss=0.000439]\n",
      "[Epoch 151/170]: 258it [00:01, 149.35it/s, train loss=0.000429]  \n",
      "[Epoch 152/170]: 258it [00:01, 165.81it/s, train loss=0.000428]\n",
      "[Epoch 153/170]: 258it [00:01, 159.96it/s, train loss=0.000428]\n",
      "[Epoch 154/170]: 258it [00:01, 164.79it/s, train loss=0.000424]\n",
      "[Epoch 155/170]: 258it [00:01, 157.97it/s, train loss=0.000422]\n",
      "[Epoch 156/170]: 258it [00:01, 155.49it/s, train loss=0.000428]\n",
      "[Epoch 157/170]: 258it [00:01, 152.61it/s, train loss=0.000462]\n",
      "[Epoch 158/170]: 258it [00:01, 156.15it/s, train loss=0.000508]\n",
      "[Epoch 159/170]: 258it [00:01, 150.20it/s, train loss=0.000564]\n",
      "[Epoch 160/170]: 258it [00:01, 154.04it/s, train loss=0.000611]\n",
      "[Epoch 161/170]: 258it [00:01, 158.17it/s, train loss=0.000633]\n",
      "[Epoch 162/170]: 258it [00:01, 156.15it/s, train loss=0.000621]\n",
      "[Epoch 163/170]: 258it [00:01, 164.73it/s, train loss=0.000607]\n",
      "[Epoch 164/170]: 258it [00:01, 159.73it/s, train loss=0.000572]\n",
      "[Epoch 165/170]: 258it [00:01, 160.92it/s, train loss=0.000561]\n",
      "[Epoch 166/170]: 258it [00:01, 165.36it/s, train loss=0.000556]\n",
      "[Epoch 167/170]: 258it [00:01, 165.72it/s, train loss=0.000537]\n",
      "[Epoch 168/170]: 258it [00:01, 164.79it/s, train loss=0.000512]\n",
      "[Epoch 169/170]: 258it [00:01, 161.13it/s, train loss=0.000506]\n",
      "[Epoch 170/170]: 258it [00:01, 165.19it/s, train loss=0.000447]\n"
     ]
    }
   ],
   "source": [
    "num_epochs = 170\n",
    "losses = []\n",
    "losses_test = []\n",
    "\n",
    "for epoch in range(num_epochs):\n",
    "    model.train()\n",
    "    running_loss = 0\n",
    "    with tqdm(total=len(dataloader_train), desc=f\"[Epoch {epoch+1:3d}/{num_epochs}]\") as pbar:\n",
    "        for idx_batch, (x, y) in enumerate(dataloader_train):\n",
    "            x, y = x.to(device).float(), y.to(device).float()\n",
    "\n",
    "            output = model(x)\n",
    "            loss = distance(output.squeeze() * mask_US_tensor.to(device), y)\n",
    "            running_loss += loss.item()\n",
    "\n",
    "            optimizer.zero_grad()\n",
    "            loss.backward()\n",
    "            optimizer.step()\n",
    "            \n",
    "            pbar.update(x.shape[0])\n",
    "        \n",
    "        scheduler.step()\n",
    "        train_loss = running_loss/len(dataloader_train)\n",
    "        losses.append(train_loss)\n",
    "        \n",
    "        pbar.set_postfix({'train loss': train_loss})\n",
    "        pbar.update(x.shape[0])\n",
    "\n",
    "        # validation \n",
    "        model.eval()\n",
    "        with torch.no_grad():\n",
    "            running_loss = 0\n",
    "            for x, y in dataloader_val:\n",
    "                x, y = x.to(device).float(), y.to(device).float()\n",
    "\n",
    "                output = model(x)\n",
    "\n",
    "                loss = distance(output.squeeze() * mask_US_tensor.to(device), y)\n",
    "                running_loss += loss.item()\n",
    "\n",
    "        test_loss = running_loss/len(dataloader_val)\n",
    "        losses_test.append(test_loss)"
   ]
  },
  {
   "cell_type": "code",
   "execution_count": 42,
   "id": "4bf9112f",
   "metadata": {},
   "outputs": [
    {
     "data": {
      "text/plain": [
       "<matplotlib.legend.Legend at 0x7f73a134f310>"
      ]
     },
     "execution_count": 42,
     "metadata": {},
     "output_type": "execute_result"
    },
    {
     "data": {
      "image/png": "[encoded data removed]",
      "text/plain": [
       "<Figure size 432x288 with 1 Axes>"
      ]
     },
     "metadata": {
      "needs_background": "light"
     },
     "output_type": "display_data"
    }
   ],
   "source": [
    "plt.plot(losses, label='train')\n",
    "plt.plot(losses_test, label='val')\n",
    "plt.xlabel('epoch')\n",
    "plt.ylabel('loss')\n",
    "plt.yscale('log')\n",
    "plt.legend()"
   ]
  },
  {
   "cell_type": "code",
   "execution_count": 43,
   "id": "3c93f888",
   "metadata": {},
   "outputs": [],
   "source": [
    "# saving the model\n",
    "\n",
    "# torch.save(model.to('cpu'), 'models/Unet.pth')\n",
    "# model.to(device);"
   ]
  },
  {
   "cell_type": "code",
   "execution_count": 36,
   "id": "e5834ec8",
   "metadata": {},
   "outputs": [],
   "source": [
    "# loading the model \n",
    "\n",
    "# model = torch.load(PATH + 'data/models/models/model_UNET_tmp_ncep_woSST_new.pth')\n",
    "# model_UNET_tmp_ncep_woSST_new model_UNET_land_sst_ep170_new_best_m0\n",
    "# model = torch.load('models/UNET_precip_nasa_all_n006.pth')\n",
    "# model = torch.load('models/model_UNET_tmp_nasa_nosst_150_m010.pth')\n",
    "# model.to(device);"
   ]
  },
  {
   "cell_type": "code",
   "execution_count": 37,
   "id": "282a81c7",
   "metadata": {},
   "outputs": [],
   "source": [
    "model.eval();\n",
    "pred_all = pred(model, dataloader_train, dataloader_val, mask_US_tensor, device=device)\n",
    "# pred_all = pred_all.squeeze() * (y_max - y_min) + y_min\n",
    "pred_all = pred_all.squeeze() * y_std + y_mean"
   ]
  },
  {
   "cell_type": "code",
   "execution_count": 38,
   "id": "3402e184",
   "metadata": {},
   "outputs": [],
   "source": [
    "pred_all_cropped_US = np.zeros((312, 48, 115)) \n",
    "for i in range(pred_all.shape[0]):\n",
    "    pred_all_cropped_US[i] = crop_to_US_land(pred_all[i] * mask_US)\n",
    "    \n",
    "    \n",
    "target_rect_cropped_US = np.zeros((312, 48, 115))\n",
    "for i in range(pred_all.shape[0]):\n",
    "    target_rect_cropped_US[i] = crop_to_US_land(target_rect[i])\n",
    "    \n",
    "mask_US_cropped = crop_to_US_land(mask_US)"
   ]
  },
  {
   "cell_type": "code",
   "execution_count": 55,
   "id": "ebea2684",
   "metadata": {},
   "outputs": [
    {
     "data": {
      "text/plain": [
       "<matplotlib.legend.Legend at 0x7fba551cff40>"
      ]
     },
     "execution_count": 55,
     "metadata": {},
     "output_type": "execute_result"
    },
    {
     "data": {
      "image/png": "[encoded data removed]",
      "text/plain": [
       "<Figure size 432x288 with 1 Axes>"
      ]
     },
     "metadata": {
      "needs_background": "light"
     },
     "output_type": "display_data"
    }
   ],
   "source": [
    "plt.plot(target_rect_cropped_US[:, 35, 70], label='true val')\n",
    "plt.plot(pred_all_cropped_US[:, 35, 70], label='pred')\n",
    "plt.legend()"
   ]
  },
  {
   "cell_type": "code",
   "execution_count": 100,
   "id": "d1a143f2",
   "metadata": {},
   "outputs": [
    {
     "name": "stdout",
     "output_type": "stream",
     "text": [
      "tmp_nasa UNET val: mean, std, SE, percentile: [3.01 1.24 0.02 2.79 3.81 4.52]\n"
     ]
    }
   ],
   "source": [
    "print(TARGET, 'UNET val: mean, std, SE, percentile:', \n",
    "      model_performance(pred_all_cropped_US[train_size:, mask_US_cropped==1], \n",
    "                        target_rect_cropped_US[train_size:, mask_US_cropped==1]))"
   ]
  },
  {
   "cell_type": "code",
   "execution_count": 79,
   "id": "92eae0b7",
   "metadata": {},
   "outputs": [
    {
     "name": "stdout",
     "output_type": "stream",
     "text": [
      "precip_ncep UNET val: mean, std, SE, percentile: [1.83 1.61 0.03 1.34 2.62]\n"
     ]
    }
   ],
   "source": [
    "print(TARGET, 'UNET val: mean, std, SE, percentile:', \n",
    "      model_performance(pred_all_cropped_US[train_size:, mask_US_cropped==1], \n",
    "                        target_rect_cropped_US[train_size:, mask_US_cropped==1]))"
   ]
  },
  {
   "cell_type": "code",
   "execution_count": 40,
   "id": "3bdb22bc",
   "metadata": {},
   "outputs": [
    {
     "name": "stdout",
     "output_type": "stream",
     "text": [
      "tmp_ncep UNET val: mean, std, SE, percentile: [2.26 1.09 0.02 2.08 2.77 3.47]\n"
     ]
    }
   ],
   "source": [
    "print(TARGET, 'UNET val: mean, std, SE, percentile:', \n",
    "      model_performance(pred_all_cropped_US[train_size:, mask_US_cropped==1], \n",
    "                        target_rect_cropped_US[train_size:, mask_US_cropped==1]))"
   ]
  },
  {
   "cell_type": "code",
   "execution_count": 56,
   "id": "2907d4dc",
   "metadata": {},
   "outputs": [
    {
     "name": "stdout",
     "output_type": "stream",
     "text": [
      "tmp_nasa UNET val: mean, std, SE, percentile: [2.98 1.21 0.02 2.76 3.74 4.45]\n"
     ]
    }
   ],
   "source": [
    "print(TARGET, 'UNET val: mean, std, SE, percentile:', \n",
    "      model_performance(pred_all_cropped_US[train_size:, mask_US_cropped==1], \n",
    "                        target_rect_cropped_US[train_size:, mask_US_cropped==1]))"
   ]
  },
  {
   "cell_type": "markdown",
   "id": "f27f2e45",
   "metadata": {},
   "source": [
    "Let's get the observational climatlogy."
   ]
  },
  {
   "cell_type": "code",
   "execution_count": 41,
   "id": "8b412f57",
   "metadata": {},
   "outputs": [
    {
     "name": "stdout",
     "output_type": "stream",
     "text": [
      "tmp\n"
     ]
    }
   ],
   "source": [
    "trend = get_obs_trend(TARGET, PATH)\n",
    "trend[:, mask_US == 0] = 0"
   ]
  },
  {
   "cell_type": "code",
   "execution_count": 42,
   "id": "58119727",
   "metadata": {},
   "outputs": [],
   "source": [
    "trend_cropped_US = np.zeros((trend.shape[0], 48, 115))\n",
    "\n",
    "for i in range(trend.shape[0]):\n",
    "    trend_cropped_US[i] = crop_to_US_land(trend[i])"
   ]
  },
  {
   "cell_type": "code",
   "execution_count": 43,
   "id": "0e8e3c36",
   "metadata": {},
   "outputs": [],
   "source": [
    "pred_all_detrended = pred_all_cropped_US - trend_cropped_US"
   ]
  },
  {
   "cell_type": "code",
   "execution_count": 44,
   "id": "fdd8aafc",
   "metadata": {},
   "outputs": [],
   "source": [
    "target_detrended = target_rect_cropped_US - trend_cropped_US"
   ]
  },
  {
   "cell_type": "code",
   "execution_count": 45,
   "id": "44deb032",
   "metadata": {},
   "outputs": [
    {
     "name": "stdout",
     "output_type": "stream",
     "text": [
      "tmp_ncep validation scores of UNET\n",
      "Avg r2 : 0.32 \n",
      "Median r2: 0.40  \n"
     ]
    }
   ],
   "source": [
    "print(TARGET, 'validation scores of UNET')\n",
    "r2_test_rf = avg_r2(target_detrended[train_size:], pred_all_detrended[train_size:],  \n",
    "                    mask_US_cropped)"
   ]
  },
  {
   "cell_type": "code",
   "execution_count": 84,
   "id": "ba0987f9",
   "metadata": {},
   "outputs": [
    {
     "name": "stdout",
     "output_type": "stream",
     "text": [
      "precip_ncep scores of UNET\n",
      "Avg r2 : 0.00 \n",
      "Median r2: 0.05  \n"
     ]
    }
   ],
   "source": [
    "print(TARGET, 'validation scores of UNET')\n",
    "r2_test_rf = avg_r2(target_detrended[train_size:], pred_all_detrended[train_size:],  \n",
    "                    mask_US_cropped)"
   ]
  },
  {
   "cell_type": "code",
   "execution_count": 105,
   "id": "e3e6aaf4",
   "metadata": {},
   "outputs": [
    {
     "name": "stdout",
     "output_type": "stream",
     "text": [
      "tmp_nasa scores of UNET\n",
      "Avg r2 : 0.11 \n",
      "Median r2: 0.16  \n"
     ]
    }
   ],
   "source": [
    "print(TARGET, 'validation scores of UNET')\n",
    "r2_test_rf = avg_r2(target_detrended[train_size:], pred_all_detrended[train_size:],  \n",
    "                    mask_US_cropped)"
   ]
  },
  {
   "cell_type": "markdown",
   "id": "ab723fc1",
   "metadata": {},
   "source": [
    "### Get test data 2011-2020 (2018)"
   ]
  },
  {
   "cell_type": "code",
   "execution_count": 46,
   "id": "95933255",
   "metadata": {},
   "outputs": [
    {
     "name": "stdout",
     "output_type": "stream",
     "text": [
      "getting precip\n"
     ]
    }
   ],
   "source": [
    "ens_forecasts_all_test, target_test, precip_US_rect_old = get_test_ens_target(TARGET, PATH)\n",
    "\n",
    "tmp_ssts_test, rhum_test, ght_test, pressure_test = get_test_obs_data(TARGET, PATH)"
   ]
  },
  {
   "cell_type": "code",
   "execution_count": 47,
   "id": "543a8886",
   "metadata": {},
   "outputs": [],
   "source": [
    "print(tmp_ssts_test.shape, ght_test.shape, pressure_test.shape)"
   ]
  },
  {
   "cell_type": "code",
   "execution_count": 49,
   "id": "813fc1f8",
   "metadata": {},
   "outputs": [
    {
     "name": "stdout",
     "output_type": "stream",
     "text": [
      "working with NCEP\n"
     ]
    }
   ],
   "source": [
    "if TARGET == 'precip_nasa' or TARGET == 'tmp_nasa':\n",
    "    rhum = np.concatenate((rhum[-12:], rhum_test[:-11-24]), axis=0)\n",
    "    ght = np.concatenate((ght[-12:], ght_test[:-11-24]), axis=0)\n",
    "    pressure = np.concatenate((pressure[-12:], pressure_test[:-11-24]), axis=0)\n",
    "    tmp_ssts = np.concatenate((tmp_precip[-12:], tmp_ssts_test[:-11]), axis=0)\n",
    "elif TARGET == 'precip_ncep' or TARGET == 'tmp_ncep':\n",
    "    print('working with NCEP')\n",
    "else:\n",
    "    print('NO DATA')"
   ]
  },
  {
   "cell_type": "code",
   "execution_count": 50,
   "id": "c860357e",
   "metadata": {},
   "outputs": [],
   "source": [
    "if 'ncep' in TARGET:\n",
    "    target_rectarget_for_lags_test = np.concatenate((precip_US_rect_old[-24:], target_test), axis=0)\n",
    "else:\n",
    "     target_rectarget_for_lags_test = np.concatenate((precip_US_rect_old[-24:], target_test[:-11]), axis=0)"
   ]
  },
  {
   "cell_type": "code",
   "execution_count": 51,
   "id": "39006416",
   "metadata": {},
   "outputs": [],
   "source": [
    "if 'ncep' in TARGET:\n",
    "    target_truth_test = target_test[3:] * mask_US\n",
    "else:\n",
    "    target_truth_test = target_test[:85] * mask_US"
   ]
  },
  {
   "cell_type": "code",
   "execution_count": 52,
   "id": "6fa2815b",
   "metadata": {},
   "outputs": [],
   "source": [
    "if 'nasa' in TARGET:\n",
    "    sst_test = np.array(pd.read_pickle('test/sst_monthly_test_100PCs_2mo_offset.pkl'))\n",
    "    sst_test = sst_test[:, :8]\n",
    "    sst_ftr = sst_test.copy()\n",
    "    sst_img_test = np.zeros((96, 8, 64, 128))\n",
    "    for i in range(96):\n",
    "        for j in range(8):\n",
    "            sst_img_test[i, j, :, :] = np.full((64, 128), sst_ftr[i, j])\n",
    "    sst_img_test = sst_img_test[:-11]\n",
    "        \n",
    "elif 'ncep' in TARGET:\n",
    "    sst_test = np.array(pd.read_pickle(PATH + 'test_2020/sst_monthly_test_100PCs_2mo_offset.pkl'))\n",
    "    sst_test = sst_test[:, :8]\n",
    "    sst_ftr = sst_test.copy()\n",
    "    sst_img_test = np.zeros((120, 8, 64, 128))\n",
    "    for i in range(120):\n",
    "        for j in range(8):\n",
    "            sst_img_test[i, j, :, :] = np.full((64, 128), sst_ftr[i, j])\n",
    "    sst_img_test = sst_img_test[3:]\n",
    "else:\n",
    "    print('NO DATA')\n"
   ]
  },
  {
   "cell_type": "code",
   "execution_count": 53,
   "id": "1888f471",
   "metadata": {},
   "outputs": [
    {
     "name": "stdout",
     "output_type": "stream",
     "text": [
      "tmp_ncep\n"
     ]
    }
   ],
   "source": [
    "if TARGET == 'tmp_ncep' :\n",
    "    NUM_STEPS = 93 + 24\n",
    "    print(TARGET)\n",
    "    dim_shape = 24 + 5 + 24 + 4 #+ 8\n",
    "    X_ftrs_test = np.zeros((NUM_STEPS, dim_shape, ens_forecasts_all.shape[2], ens_forecasts_all.shape[3]))\n",
    "    X_ftrs_test[:, :24, :, :] = ens_forecasts_all_test  #ens_forecasts_numpy_ordered_test\n",
    "\n",
    "    for i in range(len(X_ftrs_test)):\n",
    "        X_ftrs_test[i, 24, :, :] = target_rectarget_for_lags_test[i+24+3-2, :, :]\n",
    "        X_ftrs_test[i, 25, :, :] = target_rectarget_for_lags_test[i+24+3-3, :, :]\n",
    "        X_ftrs_test[i, 26, :, :] = target_rectarget_for_lags_test[i+24+3-4, :, :]\n",
    "        X_ftrs_test[i, 27, :, :] = target_rectarget_for_lags_test[i+24+3-12, :, :]\n",
    "        X_ftrs_test[i, 28, :, :] = target_rectarget_for_lags_test[i+24+3-24, :, :]\n",
    "\n",
    "        X_ftrs_test[i, 29, :, :] = tmp_ssts_test[i +3  -2, :, :]\n",
    "        X_ftrs_test[i, 30, :, :] = ght_test[i+3-2, :, :]\n",
    "        X_ftrs_test[i, 31, :, :] = pressure_test[i+3-2, :, :]\n",
    "        X_ftrs_test[i, 32, :, :] = rhum_test[i+3-2, :, :]\n",
    "\n",
    "    X_ftrs_test[:, 33:33+2*PE_dim, :, :] = pe_channels\n",
    "#     X_ftrs_test[:, -8:, :, :] = sst_img_test\n",
    "elif TARGET == 'precip_ncep':\n",
    "    NUM_STEPS = 93 + 24\n",
    "    print(TARGET)\n",
    "    dim_shape = 24 + 5 + 24 + 4 + 8\n",
    "    X_ftrs_test = np.zeros((NUM_STEPS, dim_shape, ens_forecasts_all.shape[2], ens_forecasts_all.shape[3]))\n",
    "    X_ftrs_test[:, :24, :, :] = ens_forecasts_all_test  #ens_forecasts_numpy_ordered_test\n",
    "\n",
    "    for i in range(len(X_ftrs_test)):\n",
    "        X_ftrs_test[i, 24, :, :] = target_rectarget_for_lags_test[i+24+3-2, :, :]\n",
    "        X_ftrs_test[i, 25, :, :] = target_rectarget_for_lags_test[i+24+3-3, :, :]\n",
    "        X_ftrs_test[i, 26, :, :] = target_rectarget_for_lags_test[i+24+3-4, :, :]\n",
    "        X_ftrs_test[i, 27, :, :] = target_rectarget_for_lags_test[i+24+3-12, :, :]\n",
    "        X_ftrs_test[i, 28, :, :] = target_rectarget_for_lags_test[i+24+3-24, :, :]\n",
    "\n",
    "        X_ftrs_test[i, 29, :, :] = tmp_ssts_test[i +3  -2, :, :]\n",
    "        X_ftrs_test[i, 30, :, :] = ght_test[i+3-2, :, :]\n",
    "        X_ftrs_test[i, 31, :, :] = pressure_test[i+3-2, :, :]\n",
    "        X_ftrs_test[i, 32, :, :] = rhum_test[i+3-2, :, :]\n",
    "\n",
    "    X_ftrs_test[:, 33:33+2*PE_dim, :, :] = pe_channels\n",
    "    X_ftrs_test[:, -8:, :, :] = sst_img_test\n",
    "          \n",
    "elif TARGET == 'precip_nasa':\n",
    "    NUM_STEPS = 85\n",
    "    print(TARGET)\n",
    "    dim_shape = 11 + 5 + 24 + 4 + 8\n",
    "    X_ftrs_test = np.zeros((NUM_STEPS, dim_shape, ens_forecasts_all.shape[2], ens_forecasts_all.shape[3]))\n",
    "    X_ftrs_test[:, :11, :, :] = ens_forecasts_all_test  #ens_forecasts_numpy_ordered_test\n",
    "\n",
    "    for i in range(len(X_ftrs_test)):\n",
    "        X_ftrs_test[i, 11, :, :] = target_rectarget_for_lags_test[i+24-2, :, :]\n",
    "        X_ftrs_test[i, 12, :, :] = target_rectarget_for_lags_test[i+24-3, :, :]\n",
    "        X_ftrs_test[i, 13, :, :] = target_rectarget_for_lags_test[i+24-4, :, :]\n",
    "        X_ftrs_test[i, 14, :, :] = target_rectarget_for_lags_test[i+24-12, :, :]\n",
    "        X_ftrs_test[i, 15, :, :] = target_rectarget_for_lags_test[i+24-24, :, :]\n",
    "\n",
    "        X_ftrs_test[i, 16, :, :] = tmp_ssts[i +12  -2, :, :]\n",
    "        X_ftrs_test[i, 17, :, :] = ght[i+12-2, :, :]\n",
    "        X_ftrs_test[i, 18, :, :] = pressure[i+12-2, :, :]\n",
    "        X_ftrs_test[i, 19, :, :] = rhum[i+12-2, :, :]\n",
    "\n",
    "    X_ftrs_test[:, 20:20+2*PE_dim, :, :] = pe_channels\n",
    "    X_ftrs_test[:, -8:, :, :] = sst_img_test\n",
    "          \n",
    "elif TARGET == 'tmp_nasa':\n",
    "    NUM_STEPS = 85\n",
    "    print(TARGET)\n",
    "    dim_shape = 11 + 5 + 24 + 4 #+ 8\n",
    "    X_ftrs_test = np.zeros((NUM_STEPS, dim_shape, ens_forecasts_all.shape[2], ens_forecasts_all.shape[3]))\n",
    "    X_ftrs_test[:, :11, :, :] = ens_forecasts_all_test  #ens_forecasts_numpy_ordered_test\n",
    "\n",
    "    for i in range(len(X_ftrs_test)):\n",
    "        X_ftrs_test[i, 11, :, :] = target_rectarget_for_lags_test[i+24-2, :, :]\n",
    "        X_ftrs_test[i, 12, :, :] = target_rectarget_for_lags_test[i+24-3, :, :]\n",
    "        X_ftrs_test[i, 13, :, :] = target_rectarget_for_lags_test[i+24-4, :, :]\n",
    "        X_ftrs_test[i, 14, :, :] = target_rectarget_for_lags_test[i+24-12, :, :]\n",
    "        X_ftrs_test[i, 15, :, :] = target_rectarget_for_lags_test[i+24-24, :, :]\n",
    "\n",
    "        X_ftrs_test[i, 16, :, :] = tmp_ssts[i  +12 -2, :, :]\n",
    "        X_ftrs_test[i, 17, :, :] = ght[i+12-2, :, :]\n",
    "        X_ftrs_test[i, 18, :, :] = pressure[i+12-2, :, :]\n",
    "        X_ftrs_test[i, 19, :, :] = rhum[i+12-2, :, :]\n",
    "\n",
    "    X_ftrs_test[:, 20:20+2*PE_dim, :, :] = pe_channels\n",
    "#     X_ftrs_test[:, -8:, :, :] = sst_img_test"
   ]
  },
  {
   "cell_type": "code",
   "execution_count": 56,
   "id": "5c37358a",
   "metadata": {},
   "outputs": [],
   "source": [
    "X_test_20 = X_ftrs_test - X_mins\n",
    "X_test_20 = X_test_20/(X_maxs - X_mins)\n",
    "\n",
    "if 'precip' in TARGET:\n",
    "    y_test_20 = target_truth_test - y_min\n",
    "    y_test_20 = y_test_20/(y_max - y_min)\n",
    "else: \n",
    "    y_test_20 = (target_truth_test - y_mean) / y_std\n",
    "    y_test_20 = y_test_20 * mask_US"
   ]
  },
  {
   "cell_type": "code",
   "execution_count": 58,
   "id": "0f7ba319",
   "metadata": {},
   "outputs": [],
   "source": [
    "BATCH_SIZE = 16\n",
    "dataset_test_20 = SimpleDataset(X_test_20, X_test_20)\n",
    "dataloader_test = DataLoader(dataset_test_20,\n",
    "                              batch_size=BATCH_SIZE,\n",
    "                              shuffle=False,\n",
    "                              num_workers=0,\n",
    "                              pin_memory=False\n",
    "                             )\n"
   ]
  },
  {
   "cell_type": "code",
   "execution_count": 59,
   "id": "49d14a8f",
   "metadata": {},
   "outputs": [],
   "source": [
    "model.eval();\n",
    "pred_all = pred(model, dataloader_train, dataloader_test, mask_US_tensor, device=device)\n",
    "# pred_all = pred_all.squeeze() * (y_max - y_min) + y_min\n",
    "pred_all = pred_all.squeeze() * y_std + y_mean"
   ]
  },
  {
   "cell_type": "code",
   "execution_count": 60,
   "id": "ba417607",
   "metadata": {},
   "outputs": [],
   "source": [
    "pred_all_cropped_US = np.zeros((pred_all.shape[0], 48, 115)) \n",
    "for i in range(pred_all.shape[0]):\n",
    "    pred_all_cropped_US[i] = crop_to_US_land(pred_all[i] * mask_US)\n",
    "    \n",
    "    \n",
    "target_truth_test_cropped = np.zeros((target_truth_test.shape[0], 48, 115))\n",
    "for i in range(target_truth_test.shape[0]):\n",
    "    target_truth_test_cropped[i] = crop_to_US_land(target_truth_test[i])"
   ]
  },
  {
   "cell_type": "code",
   "execution_count": 61,
   "id": "9712d248",
   "metadata": {},
   "outputs": [],
   "source": [
    "# pred_all = np.load('data/unet_2011_20_ncep_tmp.npy')\n",
    "# np.save('data/unet_2011_20_ncep_tmp_new.npy', pred_all_cropped_US[train_size:])"
   ]
  },
  {
   "cell_type": "code",
   "execution_count": 118,
   "id": "85e924a0",
   "metadata": {},
   "outputs": [
    {
     "name": "stdout",
     "output_type": "stream",
     "text": [
      "tmp_nasa UNET test: mean, std, SE, percentile: [3.4  1.23 0.02 3.28 3.85 4.52]\n"
     ]
    }
   ],
   "source": [
    "print(TARGET, 'UNET test: mean, std, SE, percentile:', \n",
    "      model_performance(pred_all_cropped_US[train_size:, mask_US_cropped==1], \n",
    "                        target_truth_test_cropped[:, mask_US_cropped==1]))"
   ]
  },
  {
   "cell_type": "code",
   "execution_count": 38,
   "id": "fbf068cf",
   "metadata": {},
   "outputs": [
    {
     "name": "stdout",
     "output_type": "stream",
     "text": [
      "precip_nasa UNET test: mean, std, SE, percentile: [2.11 1.95 0.03 1.56 2.74 4.25]\n"
     ]
    }
   ],
   "source": [
    "print(TARGET, 'UNET test: mean, std, SE, percentile:', \n",
    "      model_performance(pred_all_cropped_US[train_size:, mask_US_cropped==1], \n",
    "                        target_truth_test_cropped[:, mask_US_cropped==1]))"
   ]
  },
  {
   "cell_type": "code",
   "execution_count": 62,
   "id": "2e93631f",
   "metadata": {},
   "outputs": [
    {
     "name": "stdout",
     "output_type": "stream",
     "text": [
      "tmp_ncep UNET test: mean, std, SE, percentile: [3.65 1.49 0.03 3.38 4.23 5.31]\n"
     ]
    }
   ],
   "source": [
    "print(TARGET, 'UNET test: mean, std, SE, percentile:', \n",
    "      model_performance(pred_all_cropped_US[train_size:, mask_US_cropped==1], \n",
    "                        target_truth_test_cropped[:, mask_US_cropped==1]))"
   ]
  },
  {
   "cell_type": "markdown",
   "id": "3cfa5008",
   "metadata": {},
   "source": [
    "For temperature, we use predictions from regression to evaluate tercile classification."
   ]
  },
  {
   "cell_type": "code",
   "execution_count": 63,
   "id": "263918de",
   "metadata": {},
   "outputs": [
    {
     "name": "stdout",
     "output_type": "stream",
     "text": [
      "geting tmp prctl\n",
      "(312, 64, 128) (312, 64, 128)\n"
     ]
    }
   ],
   "source": [
    "long_term_pctl_33, long_term_pctl_66 = get_quantiles_33_66(TARGET, PATH)    \n",
    "print(long_term_pctl_33.shape, long_term_pctl_66.shape)  "
   ]
  },
  {
   "cell_type": "code",
   "execution_count": 64,
   "id": "8937812b",
   "metadata": {},
   "outputs": [],
   "source": [
    "long_term_pctl_33[np.isnan(long_term_pctl_33)] = 0\n",
    "long_term_pctl_66[np.isnan(long_term_pctl_66)] = 0\n",
    "    \n",
    "long_term_pctl_33_cropped = np.zeros((312, 48, 115))\n",
    "for i in range(long_term_pctl_33.shape[0]):\n",
    "    long_term_pctl_33_cropped[i] = crop_to_US_land(long_term_pctl_33[i])\n",
    "    \n",
    "long_term_pctl_66_cropped = np.zeros((312, 48, 115))\n",
    "for i in range(long_term_pctl_33.shape[0]):\n",
    "    long_term_pctl_66_cropped[i] = crop_to_US_land(long_term_pctl_66[i])"
   ]
  },
  {
   "cell_type": "code",
   "execution_count": 65,
   "id": "6eea83f3",
   "metadata": {},
   "outputs": [],
   "source": [
    "if 'ncep' in TARGET:\n",
    "    long_term_pctl_33_shift = long_term_pctl_33_cropped[3:3+93+24]\n",
    "    long_term_pctl_66_shift = long_term_pctl_66_cropped[3:3+93+24]\n",
    "else:\n",
    "    long_term_pctl_33_shift = long_term_pctl_33_cropped[:85]\n",
    "    long_term_pctl_66_shift = long_term_pctl_66_cropped[:85]"
   ]
  },
  {
   "cell_type": "code",
   "execution_count": 66,
   "id": "f2d010f1",
   "metadata": {},
   "outputs": [
    {
     "name": "stdout",
     "output_type": "stream",
     "text": [
      "ncep\n"
     ]
    }
   ],
   "source": [
    "if 'nasa' in TARGET:\n",
    "    NUM_STEPS = 85\n",
    "    print('nasa')\n",
    "    labels_tercile_test = create_classif_labels_tercile(target_test, long_term_pctl_33[:85], \n",
    "                                               long_term_pctl_66[:85], mask_US)\n",
    "    \n",
    "elif 'ncep' in TARGET:\n",
    "    print('ncep')\n",
    "    NUM_STEPS = 93 + 24\n",
    "    labels_tercile_test = create_classif_labels_tercile(target_truth_test, long_term_pctl_33[3:3+93+24], \n",
    "                                               long_term_pctl_66[3:3+93+24], mask_US)\n",
    "\n",
    "else: \n",
    "    print('CHECK DATA')"
   ]
  },
  {
   "cell_type": "code",
   "execution_count": 68,
   "id": "a252c9ce",
   "metadata": {},
   "outputs": [],
   "source": [
    "pred_labels = create_classif_labels_tercile(pred_all_cropped_US[train_size:], long_term_pctl_33_shift, \n",
    "                                               long_term_pctl_66_shift, mask_US_cropped)"
   ]
  },
  {
   "cell_type": "code",
   "execution_count": 70,
   "id": "bcddd857",
   "metadata": {},
   "outputs": [
    {
     "name": "stdout",
     "output_type": "stream",
     "text": [
      "Mean acc, median acc, SE: 53.80 50.43 0.29\n"
     ]
    }
   ],
   "source": [
    "heatmap_terc = report_terc_scores(labels_tercile_test[:, mask_US==1], pred_labels[:, mask_US_cropped==1])"
   ]
  },
  {
   "cell_type": "code",
   "execution_count": 110,
   "id": "4fd7d604",
   "metadata": {},
   "outputs": [
    {
     "name": "stdout",
     "output_type": "stream",
     "text": [
      "precip_nasa UNET test: mean, std, SE, percentile: [2.11 1.94 0.03 1.55 2.73 4.26]\n"
     ]
    }
   ],
   "source": [
    "print(TARGET, 'UNET test: mean, std, SE, percentile:', \n",
    "      model_performance(pred_all_cropped_US[train_size:, mask_US_cropped==1], \n",
    "                        target_truth_test_cropped[:, mask_US_cropped==1]))"
   ]
  },
  {
   "cell_type": "code",
   "execution_count": 101,
   "id": "bd0b9627",
   "metadata": {},
   "outputs": [
    {
     "name": "stdout",
     "output_type": "stream",
     "text": [
      "precip_ncep UNET test: mean, std, SE, percentile: [2.18 1.99 0.03 1.44 3.12]\n"
     ]
    }
   ],
   "source": [
    "print(TARGET, 'UNET test: mean, std, SE, percentile:', \n",
    "      model_performance(pred_all_cropped_US[train_size:, mask_US_cropped==1], \n",
    "                        target_truth_test_cropped[:, mask_US_cropped==1]))"
   ]
  },
  {
   "cell_type": "code",
   "execution_count": 71,
   "id": "04fdee40",
   "metadata": {},
   "outputs": [],
   "source": [
    "if 'ncep' in TARGET:\n",
    "    # shift trend for NCEP data\n",
    "    pred_all_cropped_US_detrended = pred_all_cropped_US[train_size:] - trend_cropped_US[3:3+93+24]\n",
    "else: \n",
    "    pred_all_cropped_US_detrended = pred_all_cropped_US[train_size:] - trend_cropped_US[:85]"
   ]
  },
  {
   "cell_type": "code",
   "execution_count": 72,
   "id": "7d402967",
   "metadata": {},
   "outputs": [],
   "source": [
    "if 'ncep' in TARGET:\n",
    "    # shift trend for NCEP data\n",
    "    target_truth_test_cropped_detrended = target_truth_test_cropped[:] - trend_cropped_US[3:3+93+24]\n",
    "else: \n",
    "    target_truth_test_cropped_detrended = target_truth_test_cropped[:] - trend_cropped_US[:85]"
   ]
  },
  {
   "cell_type": "code",
   "execution_count": 73,
   "id": "466c7b58",
   "metadata": {},
   "outputs": [
    {
     "name": "stdout",
     "output_type": "stream",
     "text": [
      "tmp_ncep scores of UNET\n",
      "Avg r2 : 0.01 \n",
      "Median r2: 0.18  \n"
     ]
    }
   ],
   "source": [
    "print(TARGET, 'scores of UNET')\n",
    "r2_test = avg_r2(target_truth_test_cropped_detrended, pred_all_cropped_US_detrended,  \n",
    "                    mask_US_cropped)"
   ]
  },
  {
   "cell_type": "code",
   "execution_count": 106,
   "id": "ba2d28cc",
   "metadata": {},
   "outputs": [
    {
     "name": "stdout",
     "output_type": "stream",
     "text": [
      "precip_ncep scores of LR\n",
      "Avg r2 : -0.10 \n",
      "Median r2: -0.01  \n"
     ]
    }
   ],
   "source": [
    "print(TARGET, 'scores of UNEY')\n",
    "r2_test = avg_r2(target_truth_test_cropped_detrended, pred_all_cropped_US_detrended,  \n",
    "                    mask_US_cropped)"
   ]
  },
  {
   "cell_type": "code",
   "execution_count": 107,
   "id": "c37e2573",
   "metadata": {},
   "outputs": [
    {
     "data": {
      "image/png": "[encoded data removed]",
      "text/plain": [
       "<Figure size 1080x900 with 2 Axes>"
      ]
     },
     "metadata": {
      "needs_background": "light"
     },
     "output_type": "display_data"
    }
   ],
   "source": [
    "r2_test_rf[mask_US_cropped == 0] = np.float64('NaN')\n",
    "cmap = plt.cm.RdBu\n",
    "cmap.set_bad('dimgrey',1.)\n",
    "plt.imshow(r2_test, extent=(-124.25,-67.75,25.25,48.75), cmap=cmap)\n",
    "plt.title('Test $R^2$ of UNET')\n",
    "plt.xlabel('longitude')\n",
    "plt.ylabel('latitude')\n",
    "plt.clim(-1,1)\n",
    "cbar = plt.colorbar(shrink=0.5)\n",
    "plt.gcf().set_size_inches(15,12.5)\n",
    "cbar.set_label('$R^2$')"
   ]
  },
  {
   "cell_type": "code",
   "execution_count": 77,
   "id": "e1274c67",
   "metadata": {},
   "outputs": [
    {
     "data": {
      "image/png": "[encoded data removed]",
      "text/plain": [
       "<Figure size 1080x900 with 2 Axes>"
      ]
     },
     "metadata": {
      "needs_background": "light"
     },
     "output_type": "display_data"
    }
   ],
   "source": [
    "r2_test_rf[mask_US_cropped == 0] = np.float64('NaN')\n",
    "cmap = plt.cm.RdBu\n",
    "cmap.set_bad('dimgrey',1.)\n",
    "plt.imshow(r2_test, extent=(-124.25,-67.75,25.25,48.75), cmap=cmap)\n",
    "plt.title('Test $R^2$ of UNET')\n",
    "plt.xlabel('longitude')\n",
    "plt.ylabel('latitude')\n",
    "plt.clim(-1,1)\n",
    "cbar = plt.colorbar(shrink=0.5)\n",
    "plt.gcf().set_size_inches(15,12.5)\n",
    "cbar.set_label('$R^2$')"
   ]
  },
  {
   "cell_type": "code",
   "execution_count": null,
   "id": "04578017",
   "metadata": {},
   "outputs": [],
   "source": []
  }
 ],
 "metadata": {
  "kernelspec": {
   "display_name": "Python 3 (ipykernel)",
   "language": "python",
   "name": "python3"
  },
  "language_info": {
   "codemirror_mode": {
    "name": "ipython",
    "version": 3
   },
   "file_extension": ".py",
   "mimetype": "text/x-python",
   "name": "python",
   "nbconvert_exporter": "python",
   "pygments_lexer": "ipython3",
   "version": "3.8.3"
  }
 },
 "nbformat": 4,
 "nbformat_minor": 5
}
