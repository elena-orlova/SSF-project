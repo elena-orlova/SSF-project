{
 "cells": [
  {
   "cell_type": "code",
   "execution_count": 1,
   "id": "fccf8826",
   "metadata": {},
   "outputs": [],
   "source": [
    "%load_ext autoreload\n",
    "%autoreload 2"
   ]
  },
  {
   "cell_type": "code",
   "execution_count": 2,
   "id": "968ff5d9",
   "metadata": {},
   "outputs": [],
   "source": [
    "from utils_unet import * \n",
    "from utils_models import * \n",
    "from utils_data import *\n",
    "import numpy as np\n",
    "import matplotlib.pyplot as plt\n",
    "%matplotlib inline\n",
    "\n",
    "import pandas as pd\n",
    "from matplotlib.pyplot import figure\n",
    "from sklearn.metrics import r2_score, mean_squared_error\n",
    "\n",
    "from tqdm import tqdm\n",
    "import pickle\n",
    "\n",
    "from sklearn.metrics import r2_score, mean_squared_error, f1_score,confusion_matrix"
   ]
  },
  {
   "cell_type": "code",
   "execution_count": 5,
   "id": "cdf8a5e3",
   "metadata": {},
   "outputs": [],
   "source": [
    "plt.rcParams.update({'font.size': 17})"
   ]
  },
  {
   "cell_type": "markdown",
   "id": "38835275",
   "metadata": {},
   "source": [
    "### Getting data\n",
    "\n",
    "Here we get data 1985-2011 for train and validation. Train set has 249 time steps."
   ]
  },
  {
   "cell_type": "code",
   "execution_count": 6,
   "id": "5e8c2439",
   "metadata": {},
   "outputs": [],
   "source": [
    "# define target to be from 'precip_ncep' 'tmp_ncep' 'precip_nasa' 'tmp_nasa'\n",
    "TARGET = 'precip_ncep'\n",
    "\n",
    "PATH = '/share/data/willett-group/climate/'"
   ]
  },
  {
   "cell_type": "code",
   "execution_count": 7,
   "id": "afe86042",
   "metadata": {},
   "outputs": [],
   "source": [
    "ens_forecasts_all, target_rect, target_for_lags = get_train_val_ens_target(TARGET, PATH)\n",
    "\n",
    "tmp_precip, rhum, ght, pressure, sst_train, sst_val = get_train_val_obs_data(TARGET, PATH)\n",
    "\n",
    "mask_US = np.load('train_val/mask_US.npy') "
   ]
  },
  {
   "cell_type": "code",
   "execution_count": 29,
   "id": "529bef2e",
   "metadata": {},
   "outputs": [
    {
     "data": {
      "text/plain": [
       "((324, 64, 128), (324, 64, 128), (324, 64, 128))"
      ]
     },
     "execution_count": 29,
     "metadata": {},
     "output_type": "execute_result"
    }
   ],
   "source": [
    "print(ens_forecasts_all.shape, target_rect.shape, mask_US.shape)\n",
    "print(tmp_precip.shape, ght.shape, pressure.shape)\n",
    "print(sst_train.shape, sst_val.shape)"
   ]
  },
  {
   "cell_type": "code",
   "execution_count": 90,
   "id": "de9c6bc0",
   "metadata": {},
   "outputs": [],
   "source": [
    "# let's define positional encoding\n",
    "\n",
    "grid_lat, grid_lon = np.mgrid[52.75:21.25:64j, 233.25:296.75:128j]\n",
    "\n",
    "coordinates = np.zeros((2, grid_lat.shape[0], grid_lat.shape[1]))\n",
    "coordinates[0] = grid_lat\n",
    "coordinates[1] = grid_lon\n",
    "\n",
    "PE_dim = 12\n",
    "pe0 = sinusoid_positional_encoding_ref(64*128, PE_dim, coordinates[0].reshape(64*128))\n",
    "pe1 = sinusoid_positional_encoding_ref(64*128, PE_dim, coordinates[1].reshape(64*128))\n",
    "\n",
    "pe_channels = np.zeros((PE_dim*2, 64, 128))\n",
    "pe_channels[:PE_dim, :, :] = pe0.T.reshape(PE_dim, 64, 128)\n",
    "pe_channels[-PE_dim:, :, :] = pe1.T.reshape(PE_dim, 64, 128)"
   ]
  },
  {
   "cell_type": "code",
   "execution_count": 91,
   "id": "c4c4f457",
   "metadata": {},
   "outputs": [],
   "source": [
    "train_val_size = 312"
   ]
  },
  {
   "cell_type": "code",
   "execution_count": 92,
   "id": "e4f8c445",
   "metadata": {},
   "outputs": [],
   "source": [
    "sst_ftr = np.concatenate((sst_train[:, :8], sst_val[:, :8]), axis=0)\n",
    "sst_img = np.zeros((train_val_size, 8, 64, 128))\n",
    "\n",
    "for i in range(train_val_size):\n",
    "    for j in range(8): # number of components\n",
    "        sst_img[i, j, :, :] = np.full((64, 128), sst_ftr[i, j])"
   ]
  },
  {
   "cell_type": "code",
   "execution_count": 93,
   "id": "baf263da",
   "metadata": {},
   "outputs": [
    {
     "name": "stdout",
     "output_type": "stream",
     "text": [
      "precip_nasa\n"
     ]
    }
   ],
   "source": [
    "# create features \n",
    "# it's easy to vary what features to include\n",
    "if TARGET == 'tmp_ncep' or TARGET == 'precip_ncep':\n",
    "    dim_shape = 24 + 24 + 5 + 4 + 8\n",
    "    X_ftrs_hind = np.zeros((312, dim_shape, ens_forecasts_all.shape[2], ens_forecasts_all.shape[3]))\n",
    "    X_ftrs_hind[:, :24, :, :] = ens_forecasts_all\n",
    "\n",
    "    for i in range(len(X_ftrs_hind)):\n",
    "        X_ftrs_hind[i, 24, :, :] = target_for_lags[i+24-2, :, :]\n",
    "        X_ftrs_hind[i, 25, :, :] = target_for_lags[i+24-3, :, :]\n",
    "        X_ftrs_hind[i, 26, :, :] = target_for_lags[i+24-4, :, :]\n",
    "        X_ftrs_hind[i, 27, :, :] = target_for_lags[i+24-12, :, :]\n",
    "        X_ftrs_hind[i, 28, :, :] = target_for_lags[i+24-24, :, :]\n",
    "\n",
    "        X_ftrs_hind[i, 29, :, :] = tmp_precip[i+12-2, :, :]\n",
    "        X_ftrs_hind[i, 30, :, :] = ght[i+12-2, :, :]\n",
    "        X_ftrs_hind[i, 31, :, :] = pressure[i+12-2, :, :]\n",
    "        X_ftrs_hind[i, 32, :, :] = rhum[i+12-2, :, :]\n",
    "\n",
    "    X_ftrs_hind[:, 33:33+2*PE_dim, :, :] = pe_channels\n",
    "    X_ftrs_hind[:, -8:, :, :] = sst_img\n",
    "    \n",
    "elif TARGET == 'tmp_nasa' or TARGET == 'precip_nasa':\n",
    "    print(TARGET)\n",
    "    dim_shape = 11 + 4 + 24 + 5 + 8\n",
    "    X_ftrs_hind = np.zeros((312, dim_shape, ens_forecasts_all.shape[2], ens_forecasts_all.shape[3]))\n",
    "    X_ftrs_hind[:, :11, :, :] = ens_forecasts_all\n",
    "\n",
    "    for i in range(len(X_ftrs_hind)):\n",
    "        X_ftrs_hind[i, 11, :, :] = target_for_lags[i+24-2, :, :]\n",
    "        X_ftrs_hind[i, 12, :, :] = target_for_lags[i+24-3, :, :]\n",
    "        X_ftrs_hind[i, 13, :, :] = target_for_lags[i+24-4, :, :]\n",
    "        X_ftrs_hind[i, 14, :, :] = target_for_lags[i+24-12, :, :]\n",
    "        X_ftrs_hind[i, 15, :, :] = target_for_lags[i+24-24, :, :]\n",
    "\n",
    "        X_ftrs_hind[i, 16, :, :] = tmp_precip[i+12-2, :, :]\n",
    "        X_ftrs_hind[i, 17, :, :] = ght[i+12-2, :, :]\n",
    "        X_ftrs_hind[i, 18, :, :] = pressure[i+12-2, :, :]\n",
    "        X_ftrs_hind[i, 19, :, :] = rhum[i+12-2, :, :]\n",
    "\n",
    "    X_ftrs_hind[:, 20:20+2*PE_dim, :, :] = pe_channels\n",
    "    X_ftrs_hind[:, -8:, :, :] = sst_img"
   ]
  },
  {
   "cell_type": "code",
   "execution_count": 94,
   "id": "0e1bf7ce",
   "metadata": {},
   "outputs": [
    {
     "name": "stdout",
     "output_type": "stream",
     "text": [
      "(312, 52, 64, 128)\n"
     ]
    }
   ],
   "source": [
    "print(X_ftrs_hind.shape)"
   ]
  },
  {
   "cell_type": "markdown",
   "id": "12f9eb3b",
   "metadata": {},
   "source": [
    "Let's download our observational climatology: it has shape of our train and validation data. There are 312 steps starting from January."
   ]
  },
  {
   "cell_type": "code",
   "execution_count": 95,
   "id": "ecc06f48",
   "metadata": {},
   "outputs": [
    {
     "name": "stdout",
     "output_type": "stream",
     "text": [
      "precip\n"
     ]
    }
   ],
   "source": [
    "trend = get_obs_trend(TARGET, PATH)\n",
    "trend[:, mask_US == 0] = 0"
   ]
  },
  {
   "cell_type": "code",
   "execution_count": 31,
   "id": "951f2c4b",
   "metadata": {},
   "outputs": [],
   "source": [
    "trend_cropped_US = np.zeros((trend.shape[0], 48, 115))\n",
    "\n",
    "for i in range(trend.shape[0]):\n",
    "    trend_cropped_US[i] = crop_to_US_land(trend[i])"
   ]
  },
  {
   "cell_type": "markdown",
   "id": "29d94614",
   "metadata": {},
   "source": [
    "### Get test data 2011-2020 (2018)"
   ]
  },
  {
   "cell_type": "code",
   "execution_count": 32,
   "id": "f9dd9620",
   "metadata": {},
   "outputs": [],
   "source": [
    "ens_forecasts_all_test, target_test, precip_US_rect_old = get_test_ens_target(TARGET, PATH)\n",
    "tmp_ssts_test, rhum_test, ght_test, pressure_test = get_test_obs_data(TARGET, PATH)"
   ]
  },
  {
   "cell_type": "code",
   "execution_count": 34,
   "id": "c960bd0b",
   "metadata": {},
   "outputs": [
    {
     "name": "stdout",
     "output_type": "stream",
     "text": [
      "(85, 11, 64, 128) (96, 64, 128) (312, 64, 128)\n",
      "(96, 64, 128) (120, 64, 128) (120, 64, 128)\n"
     ]
    }
   ],
   "source": [
    "print(ens_forecasts_all_test.shape, target_test.shape, precip_US_rect_old.shape)    \n",
    "print(tmp_ssts_test.shape, ght_test.shape, pressure_test.shape)"
   ]
  },
  {
   "cell_type": "code",
   "execution_count": 36,
   "id": "dee3a126",
   "metadata": {},
   "outputs": [],
   "source": [
    "if TARGET == 'precip_nasa' or TARGET == 'tmp_nasa':\n",
    "    rhum = np.concatenate((rhum[-12:], rhum_test[:-11-24]), axis=0)\n",
    "    ght = np.concatenate((ght[-12:], ght_test[:-11-24]), axis=0)\n",
    "    pressure = np.concatenate((pressure[-12:], pressure_test[:-11-24]), axis=0)\n",
    "    tmp_ssts = np.concatenate((tmp_precip[-12:], tmp_ssts_test[:-11]), axis=0)\n",
    "elif TARGET == 'precip_ncep':\n",
    "    print('working with NCEP')\n",
    "else:\n",
    "    print('NO DATA')"
   ]
  },
  {
   "cell_type": "code",
   "execution_count": 38,
   "id": "02964a55",
   "metadata": {},
   "outputs": [],
   "source": [
    "if 'ncep' in TARGET:\n",
    "    target_rectarget_for_lags_test = np.concatenate((precip_US_rect_old[-24:], target_test), axis=0)\n",
    "else:\n",
    "     target_rectarget_for_lags_test = np.concatenate((precip_US_rect_old[-24:], target_test[:-11]), axis=0)"
   ]
  },
  {
   "cell_type": "code",
   "execution_count": 39,
   "id": "f324c69b",
   "metadata": {},
   "outputs": [],
   "source": [
    "if 'ncep' in TARGET:\n",
    "    target_truth_test = target_test[3:] * mask_US\n",
    "else:\n",
    "    target_truth_test = target_test[:85] * mask_US"
   ]
  },
  {
   "cell_type": "code",
   "execution_count": 41,
   "id": "66c72e5a",
   "metadata": {},
   "outputs": [],
   "source": [
    "if 'nasa' in TARGET:\n",
    "    sst_test = np.array(pd.read_pickle(PATH + 'test/sst_monthly_test_100PCs_2mo_offset.pkl'))\n",
    "    sst_test = sst_test[:, :8]\n",
    "    sst_ftr = sst_test.copy()\n",
    "    sst_img_test = np.zeros((96, 8, 64, 128))\n",
    "    for i in range(96):\n",
    "        for j in range(8):\n",
    "            sst_img_test[i, j, :, :] = np.full((64, 128), sst_ftr[i, j])\n",
    "    sst_img_test = sst_img_test[:-11]\n",
    "        \n",
    "elif 'ncep' in TARGET:\n",
    "    sst_test = np.array(pd.read_pickle(PATH + 'test/sst_monthly_test_100PCs_2mo_offset.pkl'))\n",
    "    sst_test = sst_test[:, :8]\n",
    "    sst_ftr = sst_test.copy()\n",
    "    sst_img_test = np.zeros((120, 8, 64, 128))\n",
    "    for i in range(120):\n",
    "        for j in range(8):\n",
    "            sst_img_test[i, j, :, :] = np.full((64, 128), sst_ftr[i, j])\n",
    "    sst_img_test = sst_img_test[3:]\n",
    "else:\n",
    "    print('NO DATA')\n"
   ]
  },
  {
   "cell_type": "code",
   "execution_count": 43,
   "id": "c9e16022",
   "metadata": {},
   "outputs": [
    {
     "name": "stdout",
     "output_type": "stream",
     "text": [
      "precip_nasa\n"
     ]
    }
   ],
   "source": [
    "if TARGET == 'tmp_ncep' :\n",
    "    NUM_STEPS = 93 + 24\n",
    "    print(TARGET)\n",
    "    dim_shape = 24 + 5 + 24 + 4 #+ 8\n",
    "    X_ftrs_test = np.zeros((NUM_STEPS, dim_shape, ens_forecasts_all.shape[2], ens_forecasts_all.shape[3]))\n",
    "    X_ftrs_test[:, :24, :, :] = ens_forecasts_all_test  \n",
    "\n",
    "    for i in range(len(X_ftrs_test)):\n",
    "        X_ftrs_test[i, 24, :, :] = target_rectarget_for_lags_test[i+24+3-2, :, :]\n",
    "        X_ftrs_test[i, 25, :, :] = target_rectarget_for_lags_test[i+24+3-3, :, :]\n",
    "        X_ftrs_test[i, 26, :, :] = target_rectarget_for_lags_test[i+24+3-4, :, :]\n",
    "        X_ftrs_test[i, 27, :, :] = target_rectarget_for_lags_test[i+24+3-12, :, :]\n",
    "        X_ftrs_test[i, 28, :, :] = target_rectarget_for_lags_test[i+24+3-24, :, :]\n",
    "\n",
    "        X_ftrs_test[i, 29, :, :] = tmp_ssts_test[i +3  -2, :, :]\n",
    "        X_ftrs_test[i, 30, :, :] = ght_test[i+3-2, :, :]\n",
    "        X_ftrs_test[i, 31, :, :] = pressure_test[i+3-2, :, :]\n",
    "        X_ftrs_test[i, 32, :, :] = rhum_test[i+3-2, :, :]\n",
    "\n",
    "    X_ftrs_test[:, 33:33+2*PE_dim, :, :] = pe_channels\n",
    "#     X_ftrs_test[:, -8:, :, :] = sst_img_test\n",
    "elif TARGET == 'precip_ncep':\n",
    "    NUM_STEPS = 93 + 24\n",
    "    print(TARGET)\n",
    "    dim_shape = 24 + 5 + 24 + 4 + 8\n",
    "    X_ftrs_test = np.zeros((NUM_STEPS, dim_shape, ens_forecasts_all.shape[2], ens_forecasts_all.shape[3]))\n",
    "    X_ftrs_test[:, :24, :, :] = ens_forecasts_all_test  \n",
    "\n",
    "    for i in range(len(X_ftrs_test)):\n",
    "        X_ftrs_test[i, 24, :, :] = target_rectarget_for_lags_test[i+24+3-2, :, :]\n",
    "        X_ftrs_test[i, 25, :, :] = target_rectarget_for_lags_test[i+24+3-3, :, :]\n",
    "        X_ftrs_test[i, 26, :, :] = target_rectarget_for_lags_test[i+24+3-4, :, :]\n",
    "        X_ftrs_test[i, 27, :, :] = target_rectarget_for_lags_test[i+24+3-12, :, :]\n",
    "        X_ftrs_test[i, 28, :, :] = target_rectarget_for_lags_test[i+24+3-24, :, :]\n",
    "\n",
    "        X_ftrs_test[i, 29, :, :] = tmp_ssts_test[i +3  -2, :, :]\n",
    "        X_ftrs_test[i, 30, :, :] = ght_test[i+3-2, :, :]\n",
    "        X_ftrs_test[i, 31, :, :] = pressure_test[i+3-2, :, :]\n",
    "        X_ftrs_test[i, 32, :, :] = rhum_test[i+3-2, :, :]\n",
    "\n",
    "    X_ftrs_test[:, 33:33+2*PE_dim, :, :] = pe_channels\n",
    "    X_ftrs_test[:, -8:, :, :] = sst_img_test\n",
    "          \n",
    "elif TARGET == 'precip_nasa':\n",
    "    NUM_STEPS = 85\n",
    "    print(TARGET)\n",
    "    dim_shape = 11 + 5 + 24 + 4 + 8\n",
    "    X_ftrs_test = np.zeros((NUM_STEPS, dim_shape, ens_forecasts_all.shape[2], ens_forecasts_all.shape[3]))\n",
    "    X_ftrs_test[:, :11, :, :] = ens_forecasts_all_test  #ens_forecasts_numpy_ordered_test\n",
    "\n",
    "    for i in range(len(X_ftrs_test)):\n",
    "        X_ftrs_test[i, 11, :, :] = target_rectarget_for_lags_test[i+24-2, :, :]\n",
    "        X_ftrs_test[i, 12, :, :] = target_rectarget_for_lags_test[i+24-3, :, :]\n",
    "        X_ftrs_test[i, 13, :, :] = target_rectarget_for_lags_test[i+24-4, :, :]\n",
    "        X_ftrs_test[i, 14, :, :] = target_rectarget_for_lags_test[i+24-12, :, :]\n",
    "        X_ftrs_test[i, 15, :, :] = target_rectarget_for_lags_test[i+24-24, :, :]\n",
    "\n",
    "        X_ftrs_test[i, 16, :, :] = tmp_ssts[i  +12 -2, :, :]\n",
    "        X_ftrs_test[i, 17, :, :] = ght[i+12-2, :, :]\n",
    "        X_ftrs_test[i, 18, :, :] = pressure[i+12-2, :, :]\n",
    "        X_ftrs_test[i, 19, :, :] = rhum[i+12-2, :, :]\n",
    "\n",
    "    X_ftrs_test[:, 20:20+2*PE_dim, :, :] = pe_channels\n",
    "    X_ftrs_test[:, -8:, :, :] = sst_img_test\n",
    "          \n",
    "elif TARGET == 'tmp_nasa':\n",
    "    NUM_STEPS = 85\n",
    "    print(TARGET)\n",
    "    dim_shape = 11 + 5 + 24 + 4 #+ 8\n",
    "    X_ftrs_test = np.zeros((NUM_STEPS, dim_shape, ens_forecasts_all.shape[2], ens_forecasts_all.shape[3]))\n",
    "    X_ftrs_test[:, :11, :, :] = ens_forecasts_all_test  #ens_forecasts_numpy_ordered_test\n",
    "\n",
    "    for i in range(len(X_ftrs_test)):\n",
    "        X_ftrs_test[i, 11, :, :] = target_rectarget_for_lags_test[i+24-2, :, :]\n",
    "        X_ftrs_test[i, 12, :, :] = target_rectarget_for_lags_test[i+24-3, :, :]\n",
    "        X_ftrs_test[i, 13, :, :] = target_rectarget_for_lags_test[i+24-4, :, :]\n",
    "        X_ftrs_test[i, 14, :, :] = target_rectarget_for_lags_test[i+24-12, :, :]\n",
    "        X_ftrs_test[i, 15, :, :] = target_rectarget_for_lags_test[i+24-24, :, :]\n",
    "\n",
    "        X_ftrs_test[i, 16, :, :] = tmp_ssts[i +12  -2, :, :]\n",
    "        X_ftrs_test[i, 17, :, :] = ght[i+12-2, :, :]\n",
    "        X_ftrs_test[i, 18, :, :] = pressure[i+12-2, :, :]\n",
    "        X_ftrs_test[i, 19, :, :] = rhum[i+12-2, :, :]\n",
    "\n",
    "    X_ftrs_test[:, 20:20+2*PE_dim, :, :] = pe_channels\n",
    "#     X_ftrs_test[:, -8:, :, :] = sst_img_test"
   ]
  },
  {
   "cell_type": "code",
   "execution_count": 44,
   "id": "34f695c4",
   "metadata": {},
   "outputs": [
    {
     "name": "stdout",
     "output_type": "stream",
     "text": [
      "(85, 52, 64, 128)\n"
     ]
    }
   ],
   "source": [
    "print(X_ftrs_test.shape)"
   ]
  },
  {
   "cell_type": "markdown",
   "id": "7dce733f",
   "metadata": {},
   "source": [
    "Here we create a new variable with features from train and test, the same for true response."
   ]
  },
  {
   "cell_type": "code",
   "execution_count": 45,
   "id": "06f36e5a",
   "metadata": {},
   "outputs": [
    {
     "data": {
      "text/plain": [
       "((312, 52, 64, 128), (85, 52, 64, 128))"
      ]
     },
     "execution_count": 45,
     "metadata": {},
     "output_type": "execute_result"
    }
   ],
   "source": [
    "X_ftrs_hind.shape, X_ftrs_test.shape"
   ]
  },
  {
   "cell_type": "code",
   "execution_count": 46,
   "id": "f46f742c",
   "metadata": {},
   "outputs": [],
   "source": [
    "# train + test data\n",
    "X_ftrs_train_test = np.concatenate((X_ftrs_hind[:249], X_ftrs_test), axis=0)\n",
    "target_train_test = np.concatenate((target_rect[:249], target_truth_test))"
   ]
  },
  {
   "cell_type": "code",
   "execution_count": 47,
   "id": "7a462846",
   "metadata": {},
   "outputs": [
    {
     "name": "stdout",
     "output_type": "stream",
     "text": [
      "(397, 52, 64, 128) (397, 64, 128)\n"
     ]
    }
   ],
   "source": [
    "# train + val + test data\n",
    "X_ftrs_train_val_test = np.concatenate((X_ftrs_hind, X_ftrs_test), axis=0)\n",
    "target_train_val_test = np.concatenate((target_rect, target_truth_test))\n",
    "print(X_ftrs_train_val_test.shape, target_train_val_test.shape)"
   ]
  },
  {
   "cell_type": "code",
   "execution_count": 48,
   "id": "439b9a37",
   "metadata": {},
   "outputs": [],
   "source": [
    "X_ftrs = X_ftrs_train_val_test.copy() # X_ftrs_train_test.copy()\n",
    "target_var = target_train_val_test.copy() # target_train_test.copy()"
   ]
  },
  {
   "cell_type": "code",
   "execution_count": 49,
   "id": "eb1f8613",
   "metadata": {},
   "outputs": [],
   "source": [
    "mask_US_cropped = crop_to_US_land(mask_US)"
   ]
  },
  {
   "cell_type": "markdown",
   "id": "7ccc8178",
   "metadata": {},
   "source": [
    "If you'd like to use validation data uncomment:"
   ]
  },
  {
   "cell_type": "code",
   "execution_count": 83,
   "id": "86211ace",
   "metadata": {},
   "outputs": [],
   "source": [
    "# X_ftrs = X_ftrs_hind.copy()\n",
    "# target_var = target_rect.copy()"
   ]
  },
  {
   "cell_type": "markdown",
   "id": "4251eeec",
   "metadata": {},
   "source": [
    "#### Part for tercile classification\n",
    "\n",
    "Note that for temperature, we run tercile classification based on regression predictions. Let's define what we'll need for it here:"
   ]
  },
  {
   "cell_type": "code",
   "execution_count": 50,
   "id": "03093c4e",
   "metadata": {},
   "outputs": [
    {
     "name": "stdout",
     "output_type": "stream",
     "text": [
      "geting precip prctl\n",
      "(312, 64, 128) (312, 64, 128)\n"
     ]
    }
   ],
   "source": [
    "long_term_pctl_33, long_term_pctl_66 = get_quantiles_33_66(TARGET, PATH)    \n",
    "print(long_term_pctl_33.shape, long_term_pctl_66.shape)  "
   ]
  },
  {
   "cell_type": "code",
   "execution_count": 51,
   "id": "9b6e047c",
   "metadata": {},
   "outputs": [],
   "source": [
    "long_term_pctl_33[np.isnan(long_term_pctl_33)] = 0\n",
    "long_term_pctl_66[np.isnan(long_term_pctl_66)] = 0\n",
    "    \n",
    "long_term_pctl_33_cropped = np.zeros((312, 48, 115))\n",
    "for i in range(long_term_pctl_33.shape[0]):\n",
    "    long_term_pctl_33_cropped[i] = crop_to_US_land(long_term_pctl_33[i])\n",
    "    \n",
    "long_term_pctl_66_cropped = np.zeros((312, 48, 115))\n",
    "for i in range(long_term_pctl_33.shape[0]):\n",
    "    long_term_pctl_66_cropped[i] = crop_to_US_land(long_term_pctl_66[i])"
   ]
  },
  {
   "cell_type": "code",
   "execution_count": 52,
   "id": "7ae6cd4c",
   "metadata": {},
   "outputs": [],
   "source": [
    "# here, we create labels for test data\n",
    "if 'ncep' in TARGET:\n",
    "    long_term_pctl_33_shift = long_term_pctl_33_cropped[3:3+93+24]\n",
    "    long_term_pctl_66_shift = long_term_pctl_66_cropped[3:3+93+24]\n",
    "else:\n",
    "    long_term_pctl_33_shift = long_term_pctl_33_cropped[:85]\n",
    "    long_term_pctl_66_shift = long_term_pctl_66_cropped[:85]"
   ]
  },
  {
   "cell_type": "code",
   "execution_count": 53,
   "id": "df05f15d",
   "metadata": {},
   "outputs": [],
   "source": [
    "train_size = 249"
   ]
  },
  {
   "cell_type": "code",
   "execution_count": 54,
   "id": "69206ae6",
   "metadata": {},
   "outputs": [],
   "source": [
    "val_cropped_US_test = np.zeros((NUM_STEPS, 48, 115))\n",
    "for i in range(NUM_STEPS):\n",
    "    val_cropped_US_test[i] = crop_to_US_land(target_var[train_size:][i])"
   ]
  },
  {
   "cell_type": "code",
   "execution_count": 55,
   "id": "45dbd1bb",
   "metadata": {},
   "outputs": [],
   "source": [
    "labels_tercile_test = create_classif_labels_tercile(val_cropped_US_test, long_term_pctl_33_shift, \n",
    "                                               long_term_pctl_66_shift, mask_US_cropped)"
   ]
  },
  {
   "cell_type": "markdown",
   "id": "109ae352",
   "metadata": {},
   "source": [
    "## Random forest"
   ]
  },
  {
   "cell_type": "code",
   "execution_count": 56,
   "id": "cc9b4c5d",
   "metadata": {},
   "outputs": [
    {
     "name": "stdout",
     "output_type": "stream",
     "text": [
      "nasa\n"
     ]
    }
   ],
   "source": [
    "if TARGET == 'tmp_ncep' or TARGET == 'precip_ncep':\n",
    "    print('ncep')\n",
    "    rf_object = generate_RF_predictions(X_ftrs, target_var, mask_US,\n",
    "                                        drop_positional_encodings=False,\n",
    "                                        train_size=249, \n",
    "                                        positional_encoding_channels=range(33, 33+2*PE_dim))\n",
    "else:\n",
    "    print('nasa')\n",
    "    rf_object = generate_RF_predictions(X_ftrs, target_var, mask_US,\n",
    "                                        drop_positional_encodings=False, \n",
    "                                        train_size=249, \n",
    "                                    positional_encoding_channels=range(20, 20+2*PE_dim))"
   ]
  },
  {
   "cell_type": "code",
   "execution_count": 57,
   "id": "b6ba956b",
   "metadata": {},
   "outputs": [],
   "source": [
    "rf_object.train_model()\n",
    "rf_preds = rf_object.return_predictions(include='all', output_format='grid', \n",
    "                                         output_original_grid=False)"
   ]
  },
  {
   "cell_type": "code",
   "execution_count": 58,
   "id": "eab4362e",
   "metadata": {},
   "outputs": [],
   "source": [
    "target_var_cropped_US = np.zeros((target_var.shape[0], 48, 115))\n",
    "\n",
    "for i in range(target_var.shape[0]):\n",
    "    target_var_cropped_US[i] = crop_to_US_land(target_var[i])"
   ]
  },
  {
   "cell_type": "code",
   "execution_count": 59,
   "id": "d6afcafc",
   "metadata": {},
   "outputs": [],
   "source": [
    "test_size = 312"
   ]
  },
  {
   "cell_type": "code",
   "execution_count": 78,
   "id": "53901b8c",
   "metadata": {},
   "outputs": [
    {
     "name": "stdout",
     "output_type": "stream",
     "text": [
      "precip_ncep RF test: mean, std, SE, percentile: [2.17 2.02 0.04 1.48 3.03 4.45]\n"
     ]
    }
   ],
   "source": [
    "rf_preds[:, mask_US_cropped == 0] = 0\n",
    "\n",
    "print(TARGET, 'RF test: mean, std, SE, percentile:', \n",
    "      model_performance(rf_preds[test_size:, mask_US_cropped==1], \n",
    "                        target_var_cropped_US[test_size:, mask_US_cropped==1]))"
   ]
  },
  {
   "cell_type": "code",
   "execution_count": 80,
   "id": "95883446",
   "metadata": {},
   "outputs": [
    {
     "name": "stdout",
     "output_type": "stream",
     "text": [
      "precip_ncep RF validation: mean, std, SE, percentile: [1.89 1.71 0.03 1.36 2.68 4.08]\n"
     ]
    }
   ],
   "source": [
    "rf_preds[:, mask_US_cropped == 0] = 0\n",
    "\n",
    "print(TARGET, 'RF validation: mean, std, SE, percentile:', \n",
    "      model_performance(rf_preds[train_size:test_size, mask_US_cropped==1], \n",
    "                        target_var_cropped_US[train_size:test_size, mask_US_cropped==1]))"
   ]
  },
  {
   "cell_type": "code",
   "execution_count": 192,
   "id": "9e682e45",
   "metadata": {},
   "outputs": [
    {
     "name": "stdout",
     "output_type": "stream",
     "text": [
      "tmp_nasa RF test: mean, std, SE, percentile: [3.03 1.12 0.02 2.94 3.69 4.25]\n"
     ]
    }
   ],
   "source": [
    "rf_preds[:, mask_US_cropped == 0] = 0\n",
    "\n",
    "print(TARGET, 'RF test: mean, std, SE, percentile:', \n",
    "      model_performance(rf_preds[test_size:, mask_US_cropped==1], \n",
    "                        target_var_cropped_US[test_size:, mask_US_cropped==1]))"
   ]
  },
  {
   "cell_type": "code",
   "execution_count": 60,
   "id": "c3f9b84a",
   "metadata": {},
   "outputs": [
    {
     "name": "stdout",
     "output_type": "stream",
     "text": [
      "precip_nasa RF test: mean, std, SE, percentile: [2.17 2.14 0.04 1.55 2.86 4.44]\n"
     ]
    }
   ],
   "source": [
    "rf_preds[:, mask_US_cropped == 0] = 0\n",
    "\n",
    "print(TARGET, 'RF test: mean, std, SE, percentile:', \n",
    "      model_performance(rf_preds[test_size:, mask_US_cropped==1], \n",
    "                        target_var_cropped_US[test_size:, mask_US_cropped==1]))"
   ]
  },
  {
   "cell_type": "code",
   "execution_count": 42,
   "id": "b47f7913",
   "metadata": {},
   "outputs": [
    {
     "name": "stdout",
     "output_type": "stream",
     "text": [
      "tmp_ncep RF test: mean, std, SE, percentile: [3.17 1.15 0.02 2.99 3.76 4.63]\n"
     ]
    }
   ],
   "source": [
    "rf_preds[:, mask_US_cropped == 0] = 0\n",
    "\n",
    "print(TARGET, 'RF test: mean, std, SE, percentile:', \n",
    "      model_performance(rf_preds[test_size:, mask_US_cropped==1], \n",
    "                        target_var_cropped_US[test_size:, mask_US_cropped==1]))"
   ]
  },
  {
   "cell_type": "markdown",
   "id": "64f6ff07",
   "metadata": {},
   "source": [
    "Let's check tercile classification performance:"
   ]
  },
  {
   "cell_type": "code",
   "execution_count": 52,
   "id": "2dc547ad",
   "metadata": {},
   "outputs": [
    {
     "name": "stdout",
     "output_type": "stream",
     "text": [
      "RF tercile tmp_ncep\n",
      "Mean acc, median acc, SE: 58.07 54.70 0.27\n"
     ]
    }
   ],
   "source": [
    "print('RF tercile', TARGET)\n",
    "preds_terc = create_classif_labels_tercile(rf_preds[test_size:], long_term_pctl_33_shift, \n",
    "                                               long_term_pctl_66_shift, mask_US_cropped)\n",
    "\n",
    "heatmap_terc = report_terc_scores(labels_tercile[:, mask_US_cropped==1], preds_terc[:, mask_US_cropped==1])"
   ]
  },
  {
   "cell_type": "code",
   "execution_count": 46,
   "id": "8ae4d75c",
   "metadata": {},
   "outputs": [
    {
     "name": "stdout",
     "output_type": "stream",
     "text": [
      "RF tercile tmp_nasa\n",
      "Mean acc, median acc, SE: 58.78 55.29 0.26\n"
     ]
    }
   ],
   "source": [
    "print('RF tercile', TARGET)\n",
    "preds_terc = create_classif_labels_tercile(rf_preds[test_size:], long_term_pctl_33_shift, \n",
    "                                               long_term_pctl_66_shift, mask_US_cropped)\n",
    "\n",
    "heatmap_terc = report_terc_scores(labels_tercile[:, mask_US_cropped==1], preds_terc[:, mask_US_cropped==1])"
   ]
  },
  {
   "cell_type": "code",
   "execution_count": 105,
   "id": "0eaca806",
   "metadata": {},
   "outputs": [
    {
     "name": "stdout",
     "output_type": "stream",
     "text": [
      "tmp_nasa RF test: mean, std, SE, percentile: [3.03 1.12 0.02 2.94 3.69]\n"
     ]
    }
   ],
   "source": [
    "rf_preds[:, mask_US_cropped == 0] = 0\n",
    "\n",
    "print(TARGET, 'RF test: mean, std, SE, percentile:', \n",
    "      model_performance(rf_preds[test_size:, mask_US_cropped==1], \n",
    "                        target_var_cropped_US[test_size:, mask_US_cropped==1]))"
   ]
  },
  {
   "cell_type": "code",
   "execution_count": 77,
   "id": "0af480c9",
   "metadata": {},
   "outputs": [
    {
     "name": "stdout",
     "output_type": "stream",
     "text": [
      "precip_ncep RF test: mean, std, SE, percentile: [2.17 2.02 0.04 1.48 3.03 4.45]\n"
     ]
    }
   ],
   "source": [
    "train_size = 249\n",
    "rf_preds[:, mask_US_cropped == 0] = 0\n",
    "\n",
    "print(TARGET, 'RF test: mean, std, SE, percentile:', \n",
    "      model_performance(rf_preds[test_size:, mask_US_cropped==1], \n",
    "                        target_var_cropped_US[test_size:, mask_US_cropped==1]))"
   ]
  },
  {
   "cell_type": "markdown",
   "id": "f4676b9c",
   "metadata": {},
   "source": [
    "For $R^2$ score we should detrend our data. Here we work with test data"
   ]
  },
  {
   "cell_type": "code",
   "execution_count": 68,
   "id": "78d0c16e",
   "metadata": {},
   "outputs": [],
   "source": [
    "if 'ncep' in TARGET:\n",
    "    # shift trend for NCEP data\n",
    "    rf_preds_test_detrended = rf_preds[test_size:] - trend_cropped_US[3:3+93+24]\n",
    "else: \n",
    "    rf_preds_test_detrended = rf_preds[test_size:] - trend_cropped_US[:85]"
   ]
  },
  {
   "cell_type": "code",
   "execution_count": 69,
   "id": "8f127dca",
   "metadata": {},
   "outputs": [],
   "source": [
    "if 'ncep' in TARGET:\n",
    "    # shift trend for NCEP data\n",
    "    target_test_detrended = target_var_cropped_US[test_size:] - trend_cropped_US[3:3+93+24]\n",
    "else:\n",
    "    target_test_detrended = target_var_cropped_US[test_size:] - trend_cropped_US[:85]"
   ]
  },
  {
   "cell_type": "code",
   "execution_count": 83,
   "id": "32c9eef3",
   "metadata": {},
   "outputs": [
    {
     "name": "stdout",
     "output_type": "stream",
     "text": [
      "precip_ncep test scores of RF\n",
      "Avg r2 : -0.11 \n",
      "Median r2: -0.01  \n"
     ]
    }
   ],
   "source": [
    "print(TARGET, 'test scores of RF')\n",
    "r2_test_rf = avg_r2(target_test_detrended, rf_preds_test_detrended,  \n",
    "                    mask_US_cropped)"
   ]
  },
  {
   "cell_type": "code",
   "execution_count": 70,
   "id": "139e5d2b",
   "metadata": {},
   "outputs": [
    {
     "name": "stdout",
     "output_type": "stream",
     "text": [
      "precip_nasa scores of RF\n",
      "Avg r2 : -0.18 \n",
      "Median r2: -0.11  \n"
     ]
    }
   ],
   "source": [
    "print(TARGET, 'scores of RF')\n",
    "r2_test_rf = avg_r2(target_test_detrended, rf_preds_test_detrended,  \n",
    "                    mask_US_cropped)"
   ]
  },
  {
   "cell_type": "code",
   "execution_count": 108,
   "id": "e52c1293",
   "metadata": {},
   "outputs": [
    {
     "name": "stdout",
     "output_type": "stream",
     "text": [
      "tmp_nasa scores of RF\n",
      "Avg r2 : 0.20 \n",
      "Median r2: 0.22  \n"
     ]
    }
   ],
   "source": [
    "print(TARGET, 'scores of RF')\n",
    "r2_test_rf = avg_r2(target_test_detrended, rf_preds_test_detrended,  \n",
    "                    mask_US_cropped)"
   ]
  },
  {
   "cell_type": "code",
   "execution_count": 128,
   "id": "7b304613",
   "metadata": {},
   "outputs": [
    {
     "data": {
      "image/png": "[encoded data removed]",
      "text/plain": [
       "<Figure size 1080x900 with 2 Axes>"
      ]
     },
     "metadata": {
      "needs_background": "light"
     },
     "output_type": "display_data"
    }
   ],
   "source": [
    "r2_test_rf[mask_US_cropped == 0] = np.float('NaN')\n",
    "cmap = plt.cm.RdBu\n",
    "cmap.set_bad('dimgrey',1.)\n",
    "plt.imshow(r2_test_rf, extent=(-124.25,-67.75,25.25,48.75), cmap=cmap)\n",
    "plt.title('Test $R^2$ of RF')\n",
    "plt.xlabel('longitude')\n",
    "plt.ylabel('latitude')\n",
    "plt.clim(-1,1)\n",
    "cbar = plt.colorbar(shrink=0.5)\n",
    "plt.gcf().set_size_inches(15,12.5)\n",
    "cbar.set_label('$R^2$')\n",
    "# plt.savefig('images/precip/test_stack_ncep_precip.pdf', bbox_inches='tight')"
   ]
  },
  {
   "cell_type": "markdown",
   "id": "269a12f1",
   "metadata": {},
   "source": [
    "## Linear regression "
   ]
  },
  {
   "cell_type": "code",
   "execution_count": 94,
   "id": "5e101219",
   "metadata": {},
   "outputs": [],
   "source": [
    "preds_lr_all = get_weighted_pred_LR_test(X_ftrs, target_var, mask_US, train_size=249)"
   ]
  },
  {
   "cell_type": "code",
   "execution_count": 95,
   "id": "595d5c0e",
   "metadata": {},
   "outputs": [
    {
     "data": {
      "text/plain": [
       "(429, 64, 128)"
      ]
     },
     "execution_count": 95,
     "metadata": {},
     "output_type": "execute_result"
    }
   ],
   "source": [
    "preds_lr_all.shape"
   ]
  },
  {
   "cell_type": "code",
   "execution_count": 51,
   "id": "3652a46e",
   "metadata": {},
   "outputs": [
    {
     "name": "stdout",
     "output_type": "stream",
     "text": [
      "tmp_nasa LR test: mean, std, SE, percentile: [3.09 1.06 0.02 3.04 3.72 4.26]\n"
     ]
    }
   ],
   "source": [
    "train_size = 249\n",
    "\n",
    "print(TARGET, 'LR test: mean, std, SE, percentile:', \n",
    "      model_performance(preds_lr_all[test_size:, mask_US==1], \n",
    "                        target_var_cropped_US[test_size:, mask_US_cropped==1]))"
   ]
  },
  {
   "cell_type": "code",
   "execution_count": 195,
   "id": "75286009",
   "metadata": {},
   "outputs": [
    {
     "name": "stdout",
     "output_type": "stream",
     "text": [
      "tmp_nasa LR test: mean, std, SE, percentile: [3.09 1.06 0.02 3.04 3.72 4.26]\n"
     ]
    }
   ],
   "source": [
    "train_size = 249\n",
    "\n",
    "print(TARGET, 'LR test: mean, std, SE, percentile:', \n",
    "      model_performance(preds_lr_all[test_size:, mask_US==1], \n",
    "                        target_var_cropped_US[test_size:, mask_US_cropped==1]))"
   ]
  },
  {
   "cell_type": "code",
   "execution_count": 96,
   "id": "cfc02639",
   "metadata": {},
   "outputs": [
    {
     "name": "stdout",
     "output_type": "stream",
     "text": [
      "precip_ncep LR test: mean, std, SE, percentile: [2.71 2.59 0.05 1.91 3.75 5.45]\n"
     ]
    }
   ],
   "source": [
    "train_size = 249\n",
    "\n",
    "print(TARGET, 'LR test: mean, std, SE, percentile:', \n",
    "      model_performance(preds_lr_all[test_size:, mask_US==1], \n",
    "                        target_var_cropped_US[test_size:, mask_US_cropped==1]))"
   ]
  },
  {
   "cell_type": "code",
   "execution_count": 97,
   "id": "c6d64a6c",
   "metadata": {},
   "outputs": [],
   "source": [
    "preds_lr_all_cropped = np.zeros((preds_lr_all.shape[0], 48, 115))\n",
    "\n",
    "for i in range(preds_lr_all.shape[0]):\n",
    "    preds_lr_all_cropped[i] = crop_to_US_land(preds_lr_all[i])"
   ]
  },
  {
   "cell_type": "code",
   "execution_count": 99,
   "id": "2f74af35",
   "metadata": {},
   "outputs": [],
   "source": [
    "if 'ncep' in TARGET:\n",
    "    # shift trend for NCEP data\n",
    "    preds_lr_crop_detrended = preds_lr_all_cropped[test_size:] - trend_cropped_US[3:3+93+24]\n",
    "else: \n",
    "    preds_lr_crop_detrended = preds_lr_all_cropped[test_size:] - trend_cropped_US[:85]"
   ]
  },
  {
   "cell_type": "code",
   "execution_count": 100,
   "id": "ae248caf",
   "metadata": {},
   "outputs": [
    {
     "name": "stdout",
     "output_type": "stream",
     "text": [
      "precip_ncep scores of LR\n",
      "Avg r2 : -0.33 \n",
      "Median r2: -0.25  \n"
     ]
    }
   ],
   "source": [
    "print(TARGET, 'scores of LR')\n",
    "r2_test_lr_all = avg_r2(target_test_detrended, preds_lr_crop_detrended,  \n",
    "                    mask_US_cropped)"
   ]
  },
  {
   "cell_type": "code",
   "execution_count": 157,
   "id": "5cef62d9",
   "metadata": {},
   "outputs": [
    {
     "data": {
      "image/png": "[encoded data removed]",
      "text/plain": [
       "<Figure size 1080x900 with 2 Axes>"
      ]
     },
     "metadata": {
      "needs_background": "light"
     },
     "output_type": "display_data"
    }
   ],
   "source": [
    "r2_test_rf[mask_US_cropped == 0] = np.float('NaN')\n",
    "cmap = plt.cm.RdBu\n",
    "cmap.set_bad('dimgrey',1.)\n",
    "plt.imshow(r2_test_lr_all, extent=(-124.25,-67.75,25.25,48.75), cmap=cmap)\n",
    "plt.title('Test $R^2$ of LR')\n",
    "plt.xlabel('longitude')\n",
    "plt.ylabel('latitude')\n",
    "plt.clim(-1,1)\n",
    "cbar = plt.colorbar(shrink=0.5)\n",
    "plt.gcf().set_size_inches(15,12.5)\n",
    "cbar.set_label('$R^2$')"
   ]
  },
  {
   "cell_type": "markdown",
   "id": "0122af20",
   "metadata": {},
   "source": [
    "## Ensemble average\n",
    "\n",
    "For evaluation of the ensemble average, we use its own climatology. "
   ]
  },
  {
   "cell_type": "code",
   "execution_count": 61,
   "id": "756259a9",
   "metadata": {},
   "outputs": [],
   "source": [
    "ens_climatology = get_ens_climatology(TARGET, path='')\n",
    "\n",
    "if 'ncep' in TARGET:\n",
    "    ens_avg_shat_repeated = np.zeros((120, 64, 128))\n",
    "    num_years = 10\n",
    "    for i in range(num_years):\n",
    "        ens_avg_shat_repeated[12*i:12*(i+1),:,:] = ens_climatology * mask_US\n",
    "\n",
    "    ens_avg_shat_repeated = ens_avg_shat_repeated[3:]\n",
    "else:\n",
    "    ens_avg_shat_repeated = np.zeros((96, 64, 128))\n",
    "    for i in range(8):\n",
    "        ens_avg_shat_repeated[12*i:12*(i+1),:,:] = ens_climatology * mask_US\n",
    "\n",
    "    ens_avg_shat_repeated = ens_avg_shat_repeated[:-11]"
   ]
  },
  {
   "cell_type": "code",
   "execution_count": 62,
   "id": "f0d5b7d2",
   "metadata": {},
   "outputs": [
    {
     "data": {
      "text/plain": [
       "(85, 64, 128)"
      ]
     },
     "execution_count": 62,
     "metadata": {},
     "output_type": "execute_result"
    }
   ],
   "source": [
    "ens_avg_shat_repeated.shape"
   ]
  },
  {
   "cell_type": "code",
   "execution_count": 63,
   "id": "9f4ed8a0",
   "metadata": {},
   "outputs": [],
   "source": [
    "ens_climatology_cropped_US = np.zeros((NUM_STEPS, 48, 115))\n",
    "for i in range(NUM_STEPS):\n",
    "    ens_climatology_cropped_US[i] = crop_to_US_land(ens_avg_shat_repeated[i])"
   ]
  },
  {
   "cell_type": "code",
   "execution_count": 64,
   "id": "f874c0d1",
   "metadata": {},
   "outputs": [
    {
     "data": {
      "text/plain": [
       "(85, 64, 128)"
      ]
     },
     "execution_count": 64,
     "metadata": {},
     "output_type": "execute_result"
    }
   ],
   "source": [
    "ens_avg_test = np.mean(ens_forecasts_all_test, axis=1)\n",
    "ens_avg_test.shape"
   ]
  },
  {
   "cell_type": "code",
   "execution_count": 65,
   "id": "72527b9d",
   "metadata": {},
   "outputs": [],
   "source": [
    "ens_avg_test_cropped_US = np.zeros((NUM_STEPS, 48, 115))\n",
    "for i in range(NUM_STEPS):\n",
    "    ens_avg_test_cropped_US[i] = crop_to_US_land(ens_avg_test[i] * mask_US)"
   ]
  },
  {
   "cell_type": "code",
   "execution_count": 66,
   "id": "0be239ba",
   "metadata": {},
   "outputs": [],
   "source": [
    "ens_avg_test_detrended = ens_avg_test_cropped_US - ens_climatology_cropped_US"
   ]
  },
  {
   "cell_type": "code",
   "execution_count": 56,
   "id": "3e53cef8",
   "metadata": {},
   "outputs": [
    {
     "name": "stdout",
     "output_type": "stream",
     "text": [
      "precip_nasa Ens avg test: mean, std, SE, percentile: [2.13 2.17 0.04 1.52 2.85 4.31]\n"
     ]
    }
   ],
   "source": [
    "print(TARGET, 'Ens avg test: mean, std, SE, percentile:', \n",
    "      model_performance(ens_avg_test_detrended[:, mask_US_cropped==1], \n",
    "                        target_test_detrended[:, mask_US_cropped==1]))"
   ]
  },
  {
   "cell_type": "code",
   "execution_count": 71,
   "id": "53625ad9",
   "metadata": {},
   "outputs": [
    {
     "name": "stdout",
     "output_type": "stream",
     "text": [
      "precip_nasa Ens avg test: mean, std, SE, percentile: [2.13 2.17 0.04 1.52 2.85 4.31]\n"
     ]
    }
   ],
   "source": [
    "print(TARGET, 'Ens avg test: mean, std, SE, percentile:', \n",
    "      model_performance(ens_avg_test_detrended[:, mask_US_cropped==1], \n",
    "                        target_test_detrended[:, mask_US_cropped==1]))"
   ]
  },
  {
   "cell_type": "code",
   "execution_count": 58,
   "id": "9c8152ad",
   "metadata": {},
   "outputs": [
    {
     "name": "stdout",
     "output_type": "stream",
     "text": [
      "tmp_nasa Ens avg test: mean, std, SE, percentile: [4.82 5.65 0.1  3.43 4.56 7.82]\n"
     ]
    }
   ],
   "source": [
    "print(TARGET, 'Ens avg test: mean, std, SE, percentile:', \n",
    "      model_performance(ens_avg_test_detrended[:, mask_US_cropped==1], \n",
    "                        target_test_detrended[:, mask_US_cropped==1]))"
   ]
  },
  {
   "cell_type": "code",
   "execution_count": 107,
   "id": "9fb983f5",
   "metadata": {},
   "outputs": [
    {
     "name": "stdout",
     "output_type": "stream",
     "text": [
      "precip_ncep Ens avg test: mean, std, SE, percentile: [2.19 2.09 0.04 1.55 2.97 4.57]\n"
     ]
    }
   ],
   "source": [
    "print(TARGET, 'Ens avg test: mean, std, SE, percentile:', \n",
    "      model_performance(ens_avg_test_detrended[:, mask_US_cropped==1], \n",
    "                        target_test_detrended[:, mask_US_cropped==1]))"
   ]
  },
  {
   "cell_type": "code",
   "execution_count": 108,
   "id": "72d121f9",
   "metadata": {},
   "outputs": [
    {
     "name": "stdout",
     "output_type": "stream",
     "text": [
      "precip_ncep scores of ens avg\n",
      "Avg r2 : -0.08 \n",
      "Median r2: 0.01  \n"
     ]
    }
   ],
   "source": [
    "print(TARGET, 'scores of ens avg')\n",
    "r2_test_ens = avg_r2(target_test_detrended, ens_avg_test_detrended,  \n",
    "                    mask_US_cropped)"
   ]
  },
  {
   "cell_type": "code",
   "execution_count": 183,
   "id": "31e5c274",
   "metadata": {},
   "outputs": [
    {
     "data": {
      "image/png": "[encoded data removed]",
      "text/plain": [
       "<Figure size 1080x900 with 2 Axes>"
      ]
     },
     "metadata": {
      "needs_background": "light"
     },
     "output_type": "display_data"
    }
   ],
   "source": [
    "r2_test_rf[mask_US_cropped == 0] = np.float('NaN')\n",
    "cmap = plt.cm.RdBu\n",
    "cmap.set_bad('dimgrey',1.)\n",
    "plt.imshow(r2_test_lr_all, extent=(-124.25,-67.75,25.25,48.75), cmap=cmap)\n",
    "plt.title('Test $R^2$ of Ens Average')\n",
    "plt.xlabel('longitude')\n",
    "plt.ylabel('latitude')\n",
    "plt.clim(-1,1)\n",
    "cbar = plt.colorbar(shrink=0.5)\n",
    "plt.gcf().set_size_inches(15,12.5)\n",
    "cbar.set_label('$R^2$')"
   ]
  },
  {
   "cell_type": "markdown",
   "id": "b9c7588a",
   "metadata": {},
   "source": [
    "## Historical average"
   ]
  },
  {
   "cell_type": "code",
   "execution_count": 88,
   "id": "b23839a7",
   "metadata": {},
   "outputs": [
    {
     "name": "stdout",
     "output_type": "stream",
     "text": [
      "precip_nasa scores of hist avg\n",
      "Avg r2 : -0.07 \n",
      "Median r2: -0.02  \n"
     ]
    }
   ],
   "source": [
    "print(TARGET, 'scores of hist avg')\n",
    "zeros_pred = np.zeros((NUM_STEPS, 48, 115))\n",
    "ens_r2_all_test_hist = avg_r2(target_test_detrended, zeros_pred, \n",
    "                                             mask_US_cropped)"
   ]
  },
  {
   "cell_type": "code",
   "execution_count": 109,
   "id": "76a494ad",
   "metadata": {},
   "outputs": [
    {
     "name": "stdout",
     "output_type": "stream",
     "text": [
      "precip_ncep scores of hist avg\n",
      "Avg r2 : -0.06 \n",
      "Median r2: -0.01  \n"
     ]
    }
   ],
   "source": [
    "print(TARGET, 'scores of hist avg')\n",
    "zeros_pred = np.zeros((NUM_STEPS, 48, 115))\n",
    "ens_r2_all_test_hist = avg_r2(target_test_detrended, zeros_pred, \n",
    "                                             mask_US_cropped)"
   ]
  },
  {
   "cell_type": "code",
   "execution_count": 57,
   "id": "5fcd9d8c",
   "metadata": {},
   "outputs": [
    {
     "name": "stdout",
     "output_type": "stream",
     "text": [
      "precip_nasa scores of hist avg\n",
      "Avg r2 : -0.07 \n",
      "Median r2: -0.02  \n"
     ]
    }
   ],
   "source": [
    "print(TARGET, 'scores of hist avg')\n",
    "zeros_pred = np.zeros((NUM_STEPS, 48, 115))\n",
    "ens_r2_all_test_hist = avg_r2(target_test_detrended, zeros_pred, \n",
    "                                             mask_US_cropped)"
   ]
  },
  {
   "cell_type": "code",
   "execution_count": 59,
   "id": "2cb91572",
   "metadata": {},
   "outputs": [
    {
     "name": "stdout",
     "output_type": "stream",
     "text": [
      "tmp_nasa scores of hist avg\n",
      "Avg r2 : -0.70 \n",
      "Median r2: -0.20  \n"
     ]
    }
   ],
   "source": [
    "print(TARGET, 'scores of hist avg')\n",
    "zeros_pred = np.zeros((NUM_STEPS, 48, 115))\n",
    "ens_r2_all_test_hist = avg_r2(target_test_detrended, zeros_pred, \n",
    "                                             mask_US_cropped)"
   ]
  },
  {
   "cell_type": "code",
   "execution_count": 110,
   "id": "f8b4dfd1",
   "metadata": {},
   "outputs": [
    {
     "name": "stdout",
     "output_type": "stream",
     "text": [
      "precip_ncep Historical avg test: mean, std, SE, percentile: [2.33 2.35 0.04 1.59 3.2  4.96]\n"
     ]
    }
   ],
   "source": [
    "print(TARGET, 'Historical avg test: mean, std, SE, percentile:', \n",
    "      model_performance(zeros_pred[:, mask_US_cropped==1], \n",
    "                        target_test_detrended[:, mask_US_cropped==1]))"
   ]
  },
  {
   "cell_type": "code",
   "execution_count": 60,
   "id": "48afe275",
   "metadata": {},
   "outputs": [
    {
     "name": "stdout",
     "output_type": "stream",
     "text": [
      "tmp_nasa Historical avg test: mean, std, SE, percentile: [6.49 6.15 0.11 5.06 6.92 9.72]\n"
     ]
    }
   ],
   "source": [
    "print(TARGET, 'Historical avg test: mean, std, SE, percentile:', \n",
    "      model_performance(zeros_pred[:, mask_US_cropped==1], \n",
    "                        target_test_detrended[:, mask_US_cropped==1]))"
   ]
  },
  {
   "cell_type": "code",
   "execution_count": 89,
   "id": "d5e75163",
   "metadata": {},
   "outputs": [
    {
     "name": "stdout",
     "output_type": "stream",
     "text": [
      "precip_nasa Historical avg test: mean, std, SE, percentile: [2.14 2.29 0.04 1.51 2.81 4.4 ]\n"
     ]
    }
   ],
   "source": [
    "print(TARGET, 'Historical avg test: mean, std, SE, percentile:', \n",
    "      model_performance(zeros_pred[:, mask_US_cropped==1], \n",
    "                        target_test_detrended[:, mask_US_cropped==1]))"
   ]
  },
  {
   "cell_type": "code",
   "execution_count": 189,
   "id": "c6f2b855",
   "metadata": {},
   "outputs": [
    {
     "data": {
      "image/png": "[encoded data removed]",
      "text/plain": [
       "<Figure size 1080x900 with 2 Axes>"
      ]
     },
     "metadata": {
      "needs_background": "light"
     },
     "output_type": "display_data"
    }
   ],
   "source": [
    "r2_test_rf[mask_US_cropped == 0] = np.float('NaN')\n",
    "cmap = plt.cm.RdBu\n",
    "cmap.set_bad('dimgrey',1.)\n",
    "plt.imshow(ens_r2_all_test_hist, extent=(-124.25,-67.75,25.25,48.75), cmap=cmap)\n",
    "plt.title('Test $R^2$ of Hist Average')\n",
    "plt.xlabel('longitude')\n",
    "plt.ylabel('latitude')\n",
    "plt.clim(-1,1)\n",
    "cbar = plt.colorbar(shrink=0.5)\n",
    "plt.gcf().set_size_inches(15,12.5)\n",
    "cbar.set_label('$R^2$')"
   ]
  },
  {
   "cell_type": "code",
   "execution_count": null,
   "id": "64be2459",
   "metadata": {},
   "outputs": [],
   "source": []
  }
 ],
 "metadata": {
  "kernelspec": {
   "display_name": "Python 3 (ipykernel)",
   "language": "python",
   "name": "python3"
  },
  "language_info": {
   "codemirror_mode": {
    "name": "ipython",
    "version": 3
   },
   "file_extension": ".py",
   "mimetype": "text/x-python",
   "name": "python",
   "nbconvert_exporter": "python",
   "pygments_lexer": "ipython3",
   "version": "3.8.3"
  }
 },
 "nbformat": 4,
 "nbformat_minor": 5
}
