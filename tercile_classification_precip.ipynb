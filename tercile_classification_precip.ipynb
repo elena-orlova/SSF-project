{
 "cells": [
  {
   "cell_type": "code",
   "execution_count": 1,
   "id": "c06cb2ab",
   "metadata": {},
   "outputs": [],
   "source": [
    "%load_ext autoreload\n",
    "%autoreload 2"
   ]
  },
  {
   "cell_type": "code",
   "execution_count": 6,
   "id": "0db0ac08",
   "metadata": {},
   "outputs": [],
   "source": [
    "from utils_unet import * \n",
    "from utils_models import * \n",
    "from utils_data import *\n",
    "import numpy as np\n",
    "import matplotlib.pyplot as plt\n",
    "%matplotlib inline\n",
    "\n",
    "import pandas as pd\n",
    "from matplotlib.pyplot import figure\n",
    "from sklearn.metrics import r2_score, mean_squared_error\n",
    "\n",
    "from tqdm import tqdm\n",
    "import pickle\n",
    "import torch\n",
    "from torch.utils.data import DataLoader, random_split,Dataset\n",
    "import segmentation_models_pytorch as smp\n",
    "from utils_unet import * \n",
    "\n",
    "from sklearn.metrics import r2_score, mean_squared_error, f1_score,confusion_matrix"
   ]
  },
  {
   "cell_type": "code",
   "execution_count": 7,
   "id": "750fdc1c",
   "metadata": {},
   "outputs": [],
   "source": [
    "plt.rcParams.update({'font.size': 17})"
   ]
  },
  {
   "cell_type": "markdown",
   "id": "7bd3a957",
   "metadata": {},
   "source": [
    "## Get data (train and validation)"
   ]
  },
  {
   "cell_type": "code",
   "execution_count": 8,
   "id": "63f96c18",
   "metadata": {},
   "outputs": [],
   "source": [
    "# define target to be from 'precip_ncep' 'tmp_ncep' 'precip_nasa' 'tmp_nasa'\n",
    "TARGET = 'precip_ncep'\n",
    "\n",
    "PATH = '/share/data/willett-group/climate/'"
   ]
  },
  {
   "cell_type": "code",
   "execution_count": 10,
   "id": "f9119c6f",
   "metadata": {},
   "outputs": [],
   "source": [
    "ens_forecasts_all, target_rect, target_for_lags = get_train_val_ens_target(TARGET, PATH)\n",
    "\n",
    "tmp_precip, rhum, ght, pressure, sst_train, sst_val = get_train_val_obs_data(TARGET, PATH)\n",
    "\n",
    "mask_US = np.load('data/US_rect_mask_Larger_fixed.npy')"
   ]
  },
  {
   "cell_type": "code",
   "execution_count": 11,
   "id": "4bed6f0f",
   "metadata": {},
   "outputs": [
    {
     "name": "stdout",
     "output_type": "stream",
     "text": [
      "(312, 24, 64, 128) (312, 64, 128) (64, 128)\n"
     ]
    }
   ],
   "source": [
    "print(ens_forecasts_all.shape, target_rect.shape, mask_US.shape)"
   ]
  },
  {
   "cell_type": "code",
   "execution_count": 12,
   "id": "83790b3a",
   "metadata": {},
   "outputs": [
    {
     "name": "stdout",
     "output_type": "stream",
     "text": [
      "(324, 64, 128) (324, 64, 128) (324, 64, 128)\n"
     ]
    }
   ],
   "source": [
    "print(tmp_precip.shape, ght.shape, pressure.shape)"
   ]
  },
  {
   "cell_type": "code",
   "execution_count": 13,
   "id": "0e5cd55d",
   "metadata": {},
   "outputs": [
    {
     "name": "stdout",
     "output_type": "stream",
     "text": [
      "(249, 100) (63, 100)\n"
     ]
    }
   ],
   "source": [
    "print(sst_train.shape, sst_val.shape)"
   ]
  },
  {
   "cell_type": "code",
   "execution_count": 14,
   "id": "252786db",
   "metadata": {},
   "outputs": [],
   "source": [
    "# let's define positional encoding\n",
    "\n",
    "grid_lat, grid_lon = np.mgrid[52.75:21.25:64j, 233.25:296.75:128j]\n",
    "\n",
    "coordinates = np.zeros((2, grid_lat.shape[0], grid_lat.shape[1]))\n",
    "coordinates[0] = grid_lat\n",
    "coordinates[1] = grid_lon\n",
    "\n",
    "PE_dim = 12\n",
    "pe0 = sinusoid_positional_encoding_ref(64*128, PE_dim, coordinates[0].reshape(64*128))\n",
    "pe1 = sinusoid_positional_encoding_ref(64*128, PE_dim, coordinates[1].reshape(64*128))\n",
    "\n",
    "pe_channels = np.zeros((PE_dim*2, 64, 128))\n",
    "pe_channels[:PE_dim, :, :] = pe0.T.reshape(PE_dim, 64, 128)\n",
    "pe_channels[-PE_dim:, :, :] = pe1.T.reshape(PE_dim, 64, 128)"
   ]
  },
  {
   "cell_type": "code",
   "execution_count": 15,
   "id": "2ec8e821",
   "metadata": {},
   "outputs": [],
   "source": [
    "train_val_size = 312\n",
    "\n",
    "sst_ftr = np.concatenate((sst_train[:, :8], sst_val[:, :8]), axis=0)\n",
    "sst_img = np.zeros((train_val_size, 8, 64, 128))\n",
    "\n",
    "for i in range(train_val_size):\n",
    "    for j in range(8): # number of components\n",
    "        sst_img[i, j, :, :] = np.full((64, 128), sst_ftr[i, j])"
   ]
  },
  {
   "cell_type": "code",
   "execution_count": 17,
   "id": "e02e3977",
   "metadata": {},
   "outputs": [],
   "source": [
    "# create features \n",
    "# it's easy to vary what features to include\n",
    "if TARGET == 'tmp_ncep' or TARGET == 'precip_ncep':\n",
    "    dim_shape = 24 + 24 + 5 + 4 + 8\n",
    "    X_ftrs_hind = np.zeros((312, dim_shape, ens_forecasts_all.shape[2], ens_forecasts_all.shape[3]))\n",
    "    X_ftrs_hind[:, :24, :, :] = ens_forecasts_all\n",
    "\n",
    "    for i in range(len(X_ftrs_hind)):\n",
    "        X_ftrs_hind[i, 24, :, :] = target_for_lags[i+24-2, :, :]\n",
    "        X_ftrs_hind[i, 25, :, :] = target_for_lags[i+24-3, :, :]\n",
    "        X_ftrs_hind[i, 26, :, :] = target_for_lags[i+24-4, :, :]\n",
    "        X_ftrs_hind[i, 27, :, :] = target_for_lags[i+24-12, :, :]\n",
    "        X_ftrs_hind[i, 28, :, :] = target_for_lags[i+24-24, :, :]\n",
    "\n",
    "        X_ftrs_hind[i, 29, :, :] = tmp_precip[i+12-2, :, :]\n",
    "        X_ftrs_hind[i, 30, :, :] = ght[i+12-2, :, :]\n",
    "        X_ftrs_hind[i, 31, :, :] = pressure[i+12-2, :, :]\n",
    "        X_ftrs_hind[i, 32, :, :] = rhum[i+12-2, :, :]\n",
    "\n",
    "    X_ftrs_hind[:, 33:33+2*PE_dim, :, :] = pe_channels\n",
    "    X_ftrs_hind[:, -8:, :, :] = sst_img\n",
    "    \n",
    "elif TARGET == 'tmp_nasa' or TARGET == 'precip_nasa':\n",
    "    print(TARGET)\n",
    "    dim_shape = 11 + 4 + 24 + 5 + 8\n",
    "    X_ftrs_hind = np.zeros((312, dim_shape, ens_forecasts_all.shape[2], ens_forecasts_all.shape[3]))\n",
    "    X_ftrs_hind[:, :11, :, :] = ens_forecasts_all\n",
    "\n",
    "    for i in range(len(X_ftrs_hind)):\n",
    "        X_ftrs_hind[i, 11, :, :] = target_for_lags[i+24-2, :, :]\n",
    "        X_ftrs_hind[i, 12, :, :] = target_for_lags[i+24-3, :, :]\n",
    "        X_ftrs_hind[i, 13, :, :] = target_for_lags[i+24-4, :, :]\n",
    "        X_ftrs_hind[i, 14, :, :] = target_for_lags[i+24-12, :, :]\n",
    "        X_ftrs_hind[i, 15, :, :] = target_for_lags[i+24-24, :, :]\n",
    "\n",
    "        X_ftrs_hind[i, 16, :, :] = tmp_precip[i+12-2, :, :]\n",
    "        X_ftrs_hind[i, 17, :, :] = ght[i+12-2, :, :]\n",
    "        X_ftrs_hind[i, 18, :, :] = pressure[i+12-2, :, :]\n",
    "        X_ftrs_hind[i, 19, :, :] = rhum[i+12-2, :, :]\n",
    "\n",
    "    X_ftrs_hind[:, 20:20+2*PE_dim, :, :] = pe_channels\n",
    "    X_ftrs_hind[:, -8:, :, :] = sst_img"
   ]
  },
  {
   "cell_type": "markdown",
   "id": "1300e6f2",
   "metadata": {},
   "source": [
    "### Get test data 2011-2020 (2018)"
   ]
  },
  {
   "cell_type": "code",
   "execution_count": 18,
   "id": "0ab58914",
   "metadata": {},
   "outputs": [
    {
     "name": "stdout",
     "output_type": "stream",
     "text": [
      "getting tmp\n"
     ]
    }
   ],
   "source": [
    "ens_forecasts_all_test, target_test, precip_US_rect_old = get_test_ens_target(TARGET, PATH)\n",
    "\n",
    "tmp_ssts_test, rhum_test, ght_test, pressure_test = get_test_obs_data(TARGET, PATH)"
   ]
  },
  {
   "cell_type": "code",
   "execution_count": 19,
   "id": "82e1b5df",
   "metadata": {},
   "outputs": [
    {
     "name": "stdout",
     "output_type": "stream",
     "text": [
      "(120, 64, 128) (120, 64, 128) (120, 64, 128)\n"
     ]
    }
   ],
   "source": [
    "print(tmp_ssts_test.shape, ght_test.shape, pressure_test.shape)"
   ]
  },
  {
   "cell_type": "code",
   "execution_count": 20,
   "id": "21b84588",
   "metadata": {},
   "outputs": [
    {
     "data": {
      "text/plain": [
       "'precip_ncep'"
      ]
     },
     "execution_count": 20,
     "metadata": {},
     "output_type": "execute_result"
    }
   ],
   "source": [
    "TARGET"
   ]
  },
  {
   "cell_type": "code",
   "execution_count": 21,
   "id": "b72534bc",
   "metadata": {},
   "outputs": [
    {
     "name": "stdout",
     "output_type": "stream",
     "text": [
      "working with NCEP\n"
     ]
    }
   ],
   "source": [
    "if TARGET == 'precip_nasa' or TARGET == 'tmp_nasa':\n",
    "    rhum = np.concatenate((rhum[-12:], rhum_test[:-11-24]), axis=0)\n",
    "    ght = np.concatenate((ght[-12:], ght_test[:-11-24]), axis=0)\n",
    "    pressure = np.concatenate((pressure[-12:], pressure_test[:-11-24]), axis=0)\n",
    "    tmp_ssts = np.concatenate((tmp_ssts[-12:], tmp_ssts_test[:-11]), axis=0)\n",
    "elif TARGET == 'precip_ncep':\n",
    "    print('working with NCEP')\n",
    "else:\n",
    "    print('NO DATA')"
   ]
  },
  {
   "cell_type": "code",
   "execution_count": 22,
   "id": "d45a2619",
   "metadata": {},
   "outputs": [
    {
     "data": {
      "text/plain": [
       "(324, 64, 128)"
      ]
     },
     "execution_count": 22,
     "metadata": {},
     "output_type": "execute_result"
    }
   ],
   "source": [
    "rhum.shape"
   ]
  },
  {
   "cell_type": "code",
   "execution_count": 23,
   "id": "4de516af",
   "metadata": {},
   "outputs": [],
   "source": [
    "if 'ncep' in TARGET:\n",
    "    target_rectarget_for_lags_test = np.concatenate((precip_US_rect_old[-24:], target_test), axis=0)\n",
    "else:\n",
    "     target_rectarget_for_lags_test = np.concatenate((precip_US_rect_old[-24:], target_test[:-11]), axis=0)"
   ]
  },
  {
   "cell_type": "code",
   "execution_count": 24,
   "id": "ff0fd14e",
   "metadata": {},
   "outputs": [],
   "source": [
    "if 'ncep' in TARGET:\n",
    "    target_truth_test = target_test[3:] * mask_US\n",
    "else:\n",
    "    target_truth_test = target_test[:85] * mask_US"
   ]
  },
  {
   "cell_type": "code",
   "execution_count": 25,
   "id": "ffbe7bd4",
   "metadata": {},
   "outputs": [],
   "source": [
    "if 'nasa' in TARGET:\n",
    "    sst_test = np.array(pd.read_pickle('sst_monthly_train_100PCs_2mo_offset_2011_2018.pkl'))\n",
    "    sst_test = sst_test[:, :8]\n",
    "    sst_ftr = sst_test.copy()\n",
    "    sst_img_test = np.zeros((96, 8, 64, 128))\n",
    "    for i in range(96):\n",
    "        for j in range(8):\n",
    "            sst_img_test[i, j, :, :] = np.full((64, 128), sst_ftr[i, j])\n",
    "    sst_img_test = sst_img_test[:-11]\n",
    "elif 'ncep' in TARGET:\n",
    "    sst_test = np.array(pd.read_pickle(PATH + 'data/test_2020/sst_monthly_test_100PCs_2mo_offset.pkl'))\n",
    "    sst_test = sst_test[:, :8]\n",
    "    sst_ftr = sst_test.copy()\n",
    "    sst_img_test = np.zeros((120, 8, 64, 128))\n",
    "    for i in range(120):\n",
    "        for j in range(8):\n",
    "            sst_img_test[i, j, :, :] = np.full((64, 128), sst_ftr[i, j])\n",
    "    sst_img_test = sst_img_test[3:]\n",
    "else:\n",
    "    print('NO DATA')"
   ]
  },
  {
   "cell_type": "code",
   "execution_count": 26,
   "id": "2384a64c",
   "metadata": {},
   "outputs": [
    {
     "name": "stdout",
     "output_type": "stream",
     "text": [
      "precip_ncep\n"
     ]
    }
   ],
   "source": [
    "if TARGET == 'tmp_ncep' :\n",
    "    NUM_STEPS = 93 + 24\n",
    "    print(TARGET)\n",
    "    dim_shape = 24 + 5 + 24 + 4 #+ 8\n",
    "    X_ftrs_test = np.zeros((NUM_STEPS, dim_shape, ens_forecasts_all.shape[2], ens_forecasts_all.shape[3]))\n",
    "    X_ftrs_test[:, :24, :, :] = ens_forecasts_all_test  #ens_forecasts_numpy_ordered_test\n",
    "\n",
    "    for i in range(len(X_ftrs_test)):\n",
    "        X_ftrs_test[i, 24, :, :] = target_rectarget_for_lags_test[i+24+3-2, :, :]\n",
    "        X_ftrs_test[i, 25, :, :] = target_rectarget_for_lags_test[i+24+3-3, :, :]\n",
    "        X_ftrs_test[i, 26, :, :] = target_rectarget_for_lags_test[i+24+3-4, :, :]\n",
    "        X_ftrs_test[i, 27, :, :] = target_rectarget_for_lags_test[i+24+3-12, :, :]\n",
    "        X_ftrs_test[i, 28, :, :] = target_rectarget_for_lags_test[i+24+3-24, :, :]\n",
    "\n",
    "        X_ftrs_test[i, 29, :, :] = tmp_ssts_test[i + 3  -2, :, :]\n",
    "        X_ftrs_test[i, 30, :, :] = ght_test[i+3-2, :, :]\n",
    "        X_ftrs_test[i, 31, :, :] = pressure_test[i+3-2, :, :]\n",
    "        X_ftrs_test[i, 32, :, :] = rhum_test[i+3-2, :, :]\n",
    "\n",
    "    X_ftrs_test[:, 33:33+2*PE_dim, :, :] = pe_channels\n",
    "#     X_ftrs_test[:, -8:, :, :] = sst_img_test\n",
    "elif TARGET == 'precip_ncep':\n",
    "    NUM_STEPS = 93 + 24\n",
    "    print(TARGET)\n",
    "    dim_shape = 24 + 5 + 24 + 4 + 8\n",
    "    X_ftrs_test = np.zeros((NUM_STEPS, dim_shape, ens_forecasts_all.shape[2], ens_forecasts_all.shape[3]))\n",
    "    X_ftrs_test[:, :24, :, :] = ens_forecasts_all_test  #ens_forecasts_numpy_ordered_test\n",
    "\n",
    "    for i in range(len(X_ftrs_test)):\n",
    "        X_ftrs_test[i, 24, :, :] = target_rectarget_for_lags_test[i+24+3-2, :, :]\n",
    "        X_ftrs_test[i, 25, :, :] = target_rectarget_for_lags_test[i+24+3-3, :, :]\n",
    "        X_ftrs_test[i, 26, :, :] = target_rectarget_for_lags_test[i+24+3-4, :, :]\n",
    "        X_ftrs_test[i, 27, :, :] = target_rectarget_for_lags_test[i+24+3-12, :, :]\n",
    "        X_ftrs_test[i, 28, :, :] = target_rectarget_for_lags_test[i+24+3-24, :, :]\n",
    "\n",
    "        X_ftrs_test[i, 29, :, :] = tmp_ssts_test[i +3  -2, :, :]\n",
    "        X_ftrs_test[i, 30, :, :] = ght_test[i+3-2, :, :]\n",
    "        X_ftrs_test[i, 31, :, :] = pressure_test[i+3-2, :, :]\n",
    "        X_ftrs_test[i, 32, :, :] = rhum_test[i+3-2, :, :]\n",
    "\n",
    "    X_ftrs_test[:, 33:33+2*PE_dim, :, :] = pe_channels\n",
    "    X_ftrs_test[:, -8:, :, :] = sst_img_test\n",
    "          \n",
    "elif TARGET == 'precip_nasa':\n",
    "    NUM_STEPS = 85\n",
    "    print(TARGET)\n",
    "    dim_shape = 11 + 5 + 24 + 4 + 8\n",
    "    X_ftrs_test = np.zeros((NUM_STEPS, dim_shape, ens_forecasts_all.shape[2], ens_forecasts_all.shape[3]))\n",
    "    X_ftrs_test[:, :11, :, :] = ens_forecasts_all_test  #ens_forecasts_numpy_ordered_test\n",
    "\n",
    "    for i in range(len(X_ftrs_test)):\n",
    "        X_ftrs_test[i, 11, :, :] = target_rectarget_for_lags_test[i+24-2, :, :]\n",
    "        X_ftrs_test[i, 12, :, :] = target_rectarget_for_lags_test[i+24-3, :, :]\n",
    "        X_ftrs_test[i, 13, :, :] = target_rectarget_for_lags_test[i+24-4, :, :]\n",
    "        X_ftrs_test[i, 14, :, :] = target_rectarget_for_lags_test[i+24-12, :, :]\n",
    "        X_ftrs_test[i, 15, :, :] = target_rectarget_for_lags_test[i+24-24, :, :]\n",
    "\n",
    "        X_ftrs_test[i, 16, :, :] = tmp_ssts[i +12  -2, :, :]\n",
    "        X_ftrs_test[i, 17, :, :] = ght[i+12-2, :, :]\n",
    "        X_ftrs_test[i, 18, :, :] = pressure[i+12-2, :, :]\n",
    "        X_ftrs_test[i, 19, :, :] = rhum[i+12-2, :, :]\n",
    "\n",
    "    X_ftrs_test[:, 20:20+2*PE_dim, :, :] = pe_channels\n",
    "    X_ftrs_test[:, -8:, :, :] = sst_img_test\n",
    "          \n",
    "elif TARGET == 'tmp_nasa':\n",
    "    NUM_STEPS = 85\n",
    "    print(TARGET)\n",
    "    dim_shape = 11 + 5 + 24 + 4 #+ 8\n",
    "    X_ftrs_test = np.zeros((NUM_STEPS, dim_shape, ens_forecasts_all.shape[2], ens_forecasts_all.shape[3]))\n",
    "    X_ftrs_test[:, :11, :, :] = ens_forecasts_all_test  #ens_forecasts_numpy_ordered_test\n",
    "\n",
    "    for i in range(len(X_ftrs_test)):\n",
    "        X_ftrs_test[i, 11, :, :] = target_rectarget_for_lags_test[i+24-2, :, :]\n",
    "        X_ftrs_test[i, 12, :, :] = target_rectarget_for_lags_test[i+24-3, :, :]\n",
    "        X_ftrs_test[i, 13, :, :] = target_rectarget_for_lags_test[i+24-4, :, :]\n",
    "        X_ftrs_test[i, 14, :, :] = target_rectarget_for_lags_test[i+24-12, :, :]\n",
    "        X_ftrs_test[i, 15, :, :] = target_rectarget_for_lags_test[i+24-24, :, :]\n",
    "\n",
    "        X_ftrs_test[i, 16, :, :] = tmp_ssts[i  +12 -2, :, :]\n",
    "        X_ftrs_test[i, 17, :, :] = ght[i+12-2, :, :]\n",
    "        X_ftrs_test[i, 18, :, :] = pressure[i+12-2, :, :]\n",
    "        X_ftrs_test[i, 19, :, :] = rhum[i+12-2, :, :]\n",
    "\n",
    "    X_ftrs_test[:, 20:20+2*PE_dim, :, :] = pe_channels\n",
    "#     X_ftrs_test[:, -8:, :, :] = sst_img_test"
   ]
  },
  {
   "cell_type": "code",
   "execution_count": 27,
   "id": "709675a4",
   "metadata": {
    "scrolled": true
   },
   "outputs": [
    {
     "data": {
      "text/plain": [
       "(117, 65, 64, 128)"
      ]
     },
     "execution_count": 27,
     "metadata": {},
     "output_type": "execute_result"
    }
   ],
   "source": [
    "X_ftrs_test.shape"
   ]
  },
  {
   "cell_type": "code",
   "execution_count": 28,
   "id": "ef387a31",
   "metadata": {},
   "outputs": [
    {
     "name": "stdout",
     "output_type": "stream",
     "text": [
      "geting precip prctl\n",
      "(312, 64, 128) (312, 64, 128)\n"
     ]
    }
   ],
   "source": [
    "long_term_pctl_33, long_term_pctl_66 = get_quantiles_33_66(TARGET, PATH)    \n",
    "print(long_term_pctl_33.shape, long_term_pctl_66.shape) "
   ]
  },
  {
   "cell_type": "code",
   "execution_count": 29,
   "id": "34ebb963",
   "metadata": {},
   "outputs": [],
   "source": [
    "long_term_pctl_33[np.isnan(long_term_pctl_33)] = 0\n",
    "long_term_pctl_66[np.isnan(long_term_pctl_66)] = 0\n",
    "    \n",
    "long_term_pctl_33_cropped = np.zeros((312, 48, 115))\n",
    "for i in range(long_term_pctl_33.shape[0]):\n",
    "    long_term_pctl_33_cropped[i] = crop_to_US_land(long_term_pctl_33[i])\n",
    "    \n",
    "long_term_pctl_66_cropped = np.zeros((312, 48, 115))\n",
    "for i in range(long_term_pctl_33.shape[0]):\n",
    "    long_term_pctl_66_cropped[i] = crop_to_US_land(long_term_pctl_66[i])"
   ]
  },
  {
   "cell_type": "code",
   "execution_count": 30,
   "id": "b92c532d",
   "metadata": {},
   "outputs": [],
   "source": [
    "# here, we create labels for test data\n",
    "if 'ncep' in TARGET:\n",
    "    long_term_pctl_33_shift = long_term_pctl_33_cropped[3:3+93+24]\n",
    "    long_term_pctl_66_shift = long_term_pctl_66_cropped[3:3+93+24]\n",
    "else:\n",
    "    long_term_pctl_33_shift = long_term_pctl_33_cropped[:85]\n",
    "    long_term_pctl_66_shift = long_term_pctl_66_cropped[:85]"
   ]
  },
  {
   "cell_type": "code",
   "execution_count": 31,
   "id": "1e8b4dc2",
   "metadata": {},
   "outputs": [],
   "source": [
    "if TARGET == 'precip_nasa':\n",
    "    labels_tercile_test = create_classif_labels_tercile(target_test[:-11], long_term_pctl_33[:85], \n",
    "                                               long_term_pctl_66[:85], mask_US)\n",
    "\n",
    "elif TARGET == 'precip_ncep':\n",
    "    labels_tercile_test = create_classif_labels_tercile(target_test[3:], long_term_pctl_33[3:3+93+24], \n",
    "                                               long_term_pctl_66[3:3+93+24], mask_US)"
   ]
  },
  {
   "cell_type": "code",
   "execution_count": 36,
   "id": "1d5b31e6",
   "metadata": {},
   "outputs": [
    {
     "data": {
      "text/plain": [
       "(366, 65, 64, 128)"
      ]
     },
     "execution_count": 36,
     "metadata": {},
     "output_type": "execute_result"
    }
   ],
   "source": [
    "# train + test data\n",
    "X_ftrs_train_test = np.concatenate((X_ftrs_hind[:249], X_ftrs_test), axis=0)\n",
    "X_ftrs_train_test.shape"
   ]
  },
  {
   "cell_type": "code",
   "execution_count": 32,
   "id": "3912f9af",
   "metadata": {},
   "outputs": [],
   "source": [
    "labels_tercile_train_val = create_classif_labels_tercile(target_rect, \n",
    "                                                     long_term_pctl_33, \n",
    "                                               long_term_pctl_66, mask_US)"
   ]
  },
  {
   "cell_type": "code",
   "execution_count": 37,
   "id": "370b0539",
   "metadata": {},
   "outputs": [],
   "source": [
    "labels_terc = np.concatenate((labels_tercile_train_val[:249], labels_tercile_test), axis=0)"
   ]
  },
  {
   "cell_type": "code",
   "execution_count": 40,
   "id": "3ac1c8f8",
   "metadata": {},
   "outputs": [
    {
     "name": "stdout",
     "output_type": "stream",
     "text": [
      "(429, 65, 64, 128) (429, 64, 128)\n"
     ]
    }
   ],
   "source": [
    "# train + val + test data\n",
    "X_ftrs_train_val_test = np.concatenate((X_ftrs_hind, X_ftrs_test), axis=0)\n",
    "labels_terc_all = np.concatenate((labels_tercile_train_val, labels_tercile_test), axis=0)\n",
    "print(X_ftrs_train_val_test.shape, labels_terc_all.shape)"
   ]
  },
  {
   "cell_type": "code",
   "execution_count": 34,
   "id": "2953016f",
   "metadata": {},
   "outputs": [],
   "source": [
    "mask_US_cropped = crop_to_US_land(mask_US)"
   ]
  },
  {
   "cell_type": "markdown",
   "id": "f2c861ef",
   "metadata": {},
   "source": [
    "### Random Forest"
   ]
  },
  {
   "cell_type": "code",
   "execution_count": 41,
   "id": "5d1c3dbe",
   "metadata": {},
   "outputs": [
    {
     "name": "stdout",
     "output_type": "stream",
     "text": [
      "ncep\n"
     ]
    }
   ],
   "source": [
    "if TARGET == 'tmp_ncep' or TARGET == 'precip_ncep':\n",
    "    print('ncep')\n",
    "    rf_object = generate_RF_predictions(X_ftrs_train_val_test, labels_terc_all, mask_US,\n",
    "                                        drop_positional_encodings=False,\n",
    "                                        positional_encoding_channels=range(33, 33+2*PE_dim))\n",
    "else:\n",
    "    print('nasa')\n",
    "    rf_object = generate_RF_predictions(X_ftrs_train_val_test, labels_terc_all, mask_US,\n",
    "                                        drop_positional_encodings=False, \n",
    "                                    positional_encoding_channels=range(20, 20+2*PE_dim))\n",
    "\n",
    "rf_object.train_model(rf=RandomForestClassifier(min_samples_leaf=2, max_features='sqrt', random_state=42, \n",
    "                                                    oob_score=True, max_depth=None, n_estimators=100, \n",
    "                                                n_jobs=-1))\n",
    "\n",
    "rf_preds = rf_object.return_predictions(include='all', output_format='grid', \n",
    "                                         output_original_grid=False)"
   ]
  },
  {
   "cell_type": "code",
   "execution_count": 42,
   "id": "c69b7cad",
   "metadata": {},
   "outputs": [],
   "source": [
    "test_size = 312"
   ]
  },
  {
   "cell_type": "code",
   "execution_count": 44,
   "id": "f7b02054",
   "metadata": {},
   "outputs": [
    {
     "name": "stdout",
     "output_type": "stream",
     "text": [
      "RF tercile test precip_ncep\n",
      "Mean acc, median acc, SE: 42.38 41.88 0.13\n"
     ]
    }
   ],
   "source": [
    "print('RF tercile test', TARGET)\n",
    "\n",
    "heatmap_terc = report_terc_scores(labels_terc_all[test_size:, mask_US==1], \n",
    "                                  rf_preds[test_size:, mask_US_cropped==1])"
   ]
  },
  {
   "cell_type": "code",
   "execution_count": 87,
   "id": "a9f123df",
   "metadata": {},
   "outputs": [
    {
     "name": "stdout",
     "output_type": "stream",
     "text": [
      "RF tercile precip_nasa\n",
      "Mean acc, median acc, SE: 40.79 40.00 0.14\n"
     ]
    }
   ],
   "source": [
    "print('RF tercile test', TARGET)\n",
    "\n",
    "heatmap_terc = report_terc_scores(labels_terc_all[test_size:, mask_US==1], \n",
    "                                  rf_preds[test_size:, mask_US_cropped==1])"
   ]
  },
  {
   "cell_type": "code",
   "execution_count": 48,
   "id": "afa804c9",
   "metadata": {},
   "outputs": [
    {
     "name": "stderr",
     "output_type": "stream",
     "text": [
      "<ipython-input-48-eb5287606e9d>:2: DeprecationWarning: `np.float` is a deprecated alias for the builtin `float`. To silence this warning, use `float` by itself. Doing this will not modify any behavior and is safe. If you specifically wanted the numpy scalar type, use `np.float64` here.\n",
      "Deprecated in NumPy 1.20; for more details and guidance: https://numpy.org/devdocs/release/1.20.0-notes.html#deprecations\n",
      "  acc_test_rf_img[:, mask_US_cropped==0] = np.float('NaN')\n"
     ]
    }
   ],
   "source": [
    "acc_test_rf_img = convert_1d_to_2d(heatmap_terc, mask_US_cropped)\n",
    "acc_test_rf_img[:, mask_US_cropped==0] = np.float64('NaN')"
   ]
  },
  {
   "cell_type": "code",
   "execution_count": 52,
   "id": "922b984f",
   "metadata": {},
   "outputs": [
    {
     "data": {
      "image/png": "[encoded data removed]",
      "text/plain": [
       "<Figure size 1080x900 with 2 Axes>"
      ]
     },
     "metadata": {
      "needs_background": "light"
     },
     "output_type": "display_data"
    }
   ],
   "source": [
    "cmap = plt.cm.viridis\n",
    "# cmap = copy.copy(mpl.cm.get_cmap(\"RdBu\"))\n",
    "cmap.set_bad('dimgrey',1.)\n",
    "plt.imshow(acc_test_rf_img[0], extent=(-124.25,-67.75,25.25,48.75), cmap=cmap)\n",
    "plt.title('Random forest')\n",
    "plt.xlabel('longitude')\n",
    "plt.ylabel('latitude')\n",
    "plt.clim(0,1)\n",
    "cbar = plt.colorbar(shrink=0.5)\n",
    "plt.gcf().set_size_inches(15,12.5)\n",
    "cbar.set_label('Accuracy')\n",
    "# plt.savefig('images/tercile_test_2020/precip/rf_precip_ncep_test_2011_2020.pdf', bbox_inches='tight')"
   ]
  },
  {
   "cell_type": "markdown",
   "id": "0df5863f",
   "metadata": {},
   "source": [
    "### Linear regression"
   ]
  },
  {
   "cell_type": "code",
   "execution_count": 45,
   "id": "3534f729",
   "metadata": {},
   "outputs": [],
   "source": [
    "if 'nasa' in TARGET:\n",
    "    preds_w_avg, preds_probs = get_LogRegr(X_ftrs_train_val_test[:, :11], labels_terc_all, mask_US, \n",
    "                              train_size=249, return_proba=True)\n",
    "else:\n",
    "    preds_w_avg, preds_probs = get_LogRegr(X_ftrs_train_val_test[:, :24], labels_terc_all, mask_US, \n",
    "                              train_size=249, return_proba=True)"
   ]
  },
  {
   "cell_type": "code",
   "execution_count": 46,
   "id": "1aa7683e",
   "metadata": {},
   "outputs": [
    {
     "data": {
      "text/plain": [
       "(429, 64, 128)"
      ]
     },
     "execution_count": 46,
     "metadata": {},
     "output_type": "execute_result"
    }
   ],
   "source": [
    "preds_w_avg.shape"
   ]
  },
  {
   "cell_type": "code",
   "execution_count": 47,
   "id": "6ff0525c",
   "metadata": {},
   "outputs": [
    {
     "name": "stdout",
     "output_type": "stream",
     "text": [
      "Logistic regr tercile precip_ncep\n",
      "Mean acc, median acc, SE: 41.22 40.17 0.14\n"
     ]
    }
   ],
   "source": [
    "print('Logistic regr tercile', TARGET)\n",
    "\n",
    "heatmap_terc = report_terc_scores(labels_terc_all[test_size:, mask_US==1], \n",
    "                                  preds_w_avg[test_size:, mask_US==1])"
   ]
  },
  {
   "cell_type": "code",
   "execution_count": 93,
   "id": "ce1e7d63",
   "metadata": {},
   "outputs": [
    {
     "name": "stdout",
     "output_type": "stream",
     "text": [
      "Logistic regr tercile precip_nasa\n",
      "Mean acc, median acc, SE: 41.51 40.00 0.16\n"
     ]
    }
   ],
   "source": [
    "print('Logistic regr tercile', TARGET)\n",
    "\n",
    "heatmap_terc = report_terc_scores(labels_terc_all[test_size:, mask_US==1], \n",
    "                                  preds_w_avg[test_size:, mask_US==1])"
   ]
  },
  {
   "cell_type": "markdown",
   "id": "4d61736c",
   "metadata": {},
   "source": [
    "### Ensemble average"
   ]
  },
  {
   "cell_type": "code",
   "execution_count": 48,
   "id": "b0ec5858",
   "metadata": {},
   "outputs": [],
   "source": [
    "ens_avg_test = np.mean(ens_forecasts_all_test, axis=1)\n",
    "\n",
    "if 'nasa' in TARGET:\n",
    "    labels_ens_avg_test = create_classif_labels_tercile(ens_avg_test, long_term_pctl_33[:85], \n",
    "                                               long_term_pctl_66[:85], mask_US)\n",
    "else:\n",
    "    labels_ens_avg_test = create_classif_labels_tercile(ens_avg_test, long_term_pctl_33[3:3+93+24], \n",
    "                                               long_term_pctl_66[3:3+93+24], mask_US)"
   ]
  },
  {
   "cell_type": "code",
   "execution_count": 49,
   "id": "21a883d4",
   "metadata": {},
   "outputs": [
    {
     "data": {
      "text/plain": [
       "((366, 64, 128), (117, 64, 128))"
      ]
     },
     "execution_count": 49,
     "metadata": {},
     "output_type": "execute_result"
    }
   ],
   "source": [
    "labels_terc.shape, labels_ens_avg_test.shape"
   ]
  },
  {
   "cell_type": "code",
   "execution_count": 50,
   "id": "0280ff82",
   "metadata": {},
   "outputs": [
    {
     "name": "stdout",
     "output_type": "stream",
     "text": [
      "precip_ncep ens avg\n",
      "Mean acc, median acc, SE: 38.01 37.61 0.16\n"
     ]
    }
   ],
   "source": [
    "print(TARGET, 'ens avg')\n",
    "heatmap_acc_ens = report_terc_scores(labels_terc_all[test_size:, mask_US==1], \n",
    "                                 labels_ens_avg_test[:, mask_US==1])"
   ]
  },
  {
   "cell_type": "code",
   "execution_count": 96,
   "id": "2fcc6a82",
   "metadata": {},
   "outputs": [
    {
     "name": "stdout",
     "output_type": "stream",
     "text": [
      "precip_nasa ens avg\n",
      "Mean acc, median acc, SE: 38.64 37.65 0.14\n"
     ]
    }
   ],
   "source": [
    "print(TARGET, 'ens avg')\n",
    "heatmap_acc_ens = report_terc_scores(labels_terc_all[test_size:, mask_US==1], \n",
    "                                 labels_ens_avg_test[:, mask_US==1])"
   ]
  },
  {
   "cell_type": "markdown",
   "id": "eb8b670c",
   "metadata": {},
   "source": [
    "### UNET "
   ]
  },
  {
   "cell_type": "code",
   "execution_count": 29,
   "id": "6246071c",
   "metadata": {},
   "outputs": [],
   "source": [
    "train_size = 249 \n",
    "\n",
    "\n",
    "X_train = X_ftrs_train_test[:train_size]\n",
    "X_test = X_ftrs_train_test[train_size:]\n",
    "y_train = labels_terc[:train_size]\n",
    "y_test = labels_terc[train_size:]\n",
    "\n",
    "X_mins = np.min(X_train, axis=(0, 2, 3)).reshape(1, X_ftrs_train_test.shape[1], 1, 1) \n",
    "X_maxs = np.max(X_train, axis=(0, 2, 3)).reshape(1, X_ftrs_train_test.shape[1], 1, 1) \n",
    "X_train = X_train - X_mins\n",
    "X_test = X_test - X_mins\n",
    "X_train = X_train/(X_maxs - X_mins)\n",
    "X_test = X_test/(X_maxs - X_mins)\n"
   ]
  },
  {
   "cell_type": "code",
   "execution_count": 30,
   "id": "bca906c4",
   "metadata": {},
   "outputs": [],
   "source": [
    "BATCH_SIZE = 8\n",
    "LR = 0.001"
   ]
  },
  {
   "cell_type": "code",
   "execution_count": 31,
   "id": "d443c621",
   "metadata": {},
   "outputs": [],
   "source": [
    "dataset_train = SimpleDataset(X_train, y_train)\n",
    "dataloader_train = DataLoader(dataset_train,\n",
    "                              batch_size=BATCH_SIZE,\n",
    "                              shuffle=False,\n",
    "                              num_workers=0,\n",
    "                              pin_memory=False\n",
    "                             )\n",
    "\n",
    "\n",
    "dataset_test = SimpleDataset(X_test, y_test)\n",
    "dataloader_test = DataLoader(dataset_test,\n",
    "                              batch_size=64,\n",
    "                              shuffle=False,\n",
    "                              num_workers=0,\n",
    "                              pin_memory=False\n",
    "                             )"
   ]
  },
  {
   "cell_type": "code",
   "execution_count": 32,
   "id": "e4f37e08",
   "metadata": {},
   "outputs": [],
   "source": [
    "def transform_output_terc(model_output,y):\n",
    "    out_1d = model_output[:,:,US_mask_tensor==1].reshape(y.shape[0], 3, -1)\n",
    "    y_1d = y[:,US_mask_tensor==1].reshape(y.shape[0], -1)\n",
    "    return out_1d, y_1d"
   ]
  },
  {
   "cell_type": "code",
   "execution_count": 33,
   "id": "0a1c0bbe",
   "metadata": {},
   "outputs": [
    {
     "name": "stdout",
     "output_type": "stream",
     "text": [
      "1\r\n"
     ]
    }
   ],
   "source": [
    "! echo $CUDA_VISIBLE_DEVICES"
   ]
  },
  {
   "cell_type": "code",
   "execution_count": 34,
   "id": "06fec832",
   "metadata": {},
   "outputs": [],
   "source": [
    "import os\n",
    "os.environ['CUDA_VISIBLE_DEVICES'] = '1'\n",
    "device = torch.device(\"cuda\" if torch.cuda.is_available() else \"cpu\")"
   ]
  },
  {
   "cell_type": "code",
   "execution_count": 46,
   "id": "8f10cfd9",
   "metadata": {},
   "outputs": [],
   "source": [
    "US_mask_tensor = torch.from_numpy(mask_US).float()"
   ]
  },
  {
   "cell_type": "code",
   "execution_count": 47,
   "id": "38f17263",
   "metadata": {},
   "outputs": [],
   "source": [
    "classes = 3\n",
    "activation = None\n",
    "distance = smp.utils.losses.CrossEntropyLoss()\n",
    "transform_output = transform_output_terc\n",
    "\n",
    "model = smp.Unet(\n",
    "    encoder_name=\"vgg11\",        \n",
    "    encoder_weights=None,     \n",
    "    in_channels=X_ftrs_train_test.shape[1],                 \n",
    "    classes=classes,                      \n",
    "    activation=activation).to(device)\n",
    "\n",
    "optimizer = torch.optim.Adam([dict(params=model.parameters(), lr=LR),])\n",
    "scheduler = torch.optim.lr_scheduler.CosineAnnealingLR(optimizer, T_max=10, eta_min=0)"
   ]
  },
  {
   "cell_type": "code",
   "execution_count": 48,
   "id": "d8e4504b",
   "metadata": {},
   "outputs": [
    {
     "name": "stderr",
     "output_type": "stream",
     "text": [
      "[Epoch   1/90]: 250it [00:01, 182.48it/s, train loss=1.12]      \n",
      "[Epoch   2/90]: 250it [00:01, 181.38it/s, train loss=1.1]       \n",
      "[Epoch   3/90]: 250it [00:01, 182.79it/s, train loss=1.1]       \n",
      "[Epoch   4/90]: 250it [00:01, 182.89it/s, train loss=1.09]      \n",
      "[Epoch   5/90]: 250it [00:01, 191.63it/s, train loss=1.09]      \n",
      "[Epoch   6/90]: 250it [00:01, 177.93it/s, train loss=1.09]      \n",
      "[Epoch   7/90]: 250it [00:01, 181.06it/s, train loss=1.08]      \n",
      "[Epoch   8/90]: 250it [00:01, 170.05it/s, train loss=1.08]      \n",
      "[Epoch   9/90]: 250it [00:01, 185.19it/s, train loss=1.07]      \n",
      "[Epoch  10/90]: 250it [00:01, 178.89it/s, train loss=1.07]      \n",
      "[Epoch  11/90]: 250it [00:01, 179.60it/s, train loss=1.07]      \n",
      "[Epoch  12/90]: 250it [00:01, 178.56it/s, train loss=1.07]      \n",
      "[Epoch  13/90]: 250it [00:01, 170.31it/s, train loss=1.07]      \n",
      "[Epoch  14/90]: 250it [00:01, 171.21it/s, train loss=1.07]      \n",
      "[Epoch  15/90]: 250it [00:01, 180.94it/s, train loss=1.07]      \n",
      "[Epoch  16/90]: 250it [00:01, 176.11it/s, train loss=1.08]      \n",
      "[Epoch  17/90]: 250it [00:01, 178.48it/s, train loss=1.08]      \n",
      "[Epoch  18/90]: 250it [00:01, 171.34it/s, train loss=1.08]      \n",
      "[Epoch  19/90]: 250it [00:01, 180.50it/s, train loss=1.08]      \n",
      "[Epoch  20/90]: 250it [00:01, 183.50it/s, train loss=1.08]      \n",
      "[Epoch  21/90]: 250it [00:01, 182.05it/s, train loss=1.08]      \n",
      "[Epoch  22/90]: 250it [00:01, 184.16it/s, train loss=1.08]      \n",
      "[Epoch  23/90]: 250it [00:01, 182.38it/s, train loss=1.08]      \n",
      "[Epoch  24/90]: 250it [00:01, 179.51it/s, train loss=1.07]      \n",
      "[Epoch  25/90]: 250it [00:01, 172.95it/s, train loss=1.07]      \n",
      "[Epoch  26/90]: 250it [00:01, 180.97it/s, train loss=1.07]      \n",
      "[Epoch  27/90]: 250it [00:01, 182.55it/s, train loss=1.06]      \n",
      "[Epoch  28/90]: 250it [00:01, 182.17it/s, train loss=1.06]      \n",
      "[Epoch  29/90]: 250it [00:01, 179.41it/s, train loss=1.06]      \n",
      "[Epoch  30/90]: 250it [00:01, 184.26it/s, train loss=1.06]      \n",
      "[Epoch  31/90]: 250it [00:01, 183.32it/s, train loss=1.06]      \n",
      "[Epoch  32/90]: 250it [00:01, 180.77it/s, train loss=1.06]      \n",
      "[Epoch  33/90]: 250it [00:01, 183.34it/s, train loss=1.06]      \n",
      "[Epoch  34/90]: 250it [00:01, 195.58it/s, train loss=1.06]      \n",
      "[Epoch  35/90]: 250it [00:01, 183.40it/s, train loss=1.06]      \n",
      "[Epoch  36/90]: 250it [00:01, 197.14it/s, train loss=1.06]      \n",
      "[Epoch  37/90]: 250it [00:01, 196.67it/s, train loss=1.06]      \n",
      "[Epoch  38/90]: 250it [00:01, 182.68it/s, train loss=1.07]      \n",
      "[Epoch  39/90]: 250it [00:01, 183.46it/s, train loss=1.07]      \n",
      "[Epoch  40/90]: 250it [00:01, 184.19it/s, train loss=1.07]      \n",
      "[Epoch  41/90]: 250it [00:01, 184.37it/s, train loss=1.06]      \n",
      "[Epoch  42/90]: 250it [00:01, 190.28it/s, train loss=1.06]      \n",
      "[Epoch  43/90]: 250it [00:01, 187.08it/s, train loss=1.06]      \n",
      "[Epoch  44/90]: 250it [00:01, 183.09it/s, train loss=1.06]      \n",
      "[Epoch  45/90]: 250it [00:01, 182.62it/s, train loss=1.05]      \n",
      "[Epoch  46/90]: 250it [00:01, 182.29it/s, train loss=1.05]      \n",
      "[Epoch  47/90]: 250it [00:01, 182.85it/s, train loss=1.05]      \n",
      "[Epoch  48/90]: 250it [00:01, 179.44it/s, train loss=1.05]      \n",
      "[Epoch  49/90]: 250it [00:01, 180.01it/s, train loss=1.04]      \n",
      "[Epoch  50/90]: 250it [00:01, 180.02it/s, train loss=1.04]      \n",
      "[Epoch  51/90]: 250it [00:01, 180.80it/s, train loss=1.04]      \n",
      "[Epoch  52/90]: 250it [00:01, 172.21it/s, train loss=1.04]      \n",
      "[Epoch  53/90]: 250it [00:01, 178.03it/s, train loss=1.04]      \n",
      "[Epoch  54/90]: 250it [00:01, 172.07it/s, train loss=1.04]      \n",
      "[Epoch  55/90]: 250it [00:01, 168.14it/s, train loss=1.04]      \n",
      "[Epoch  56/90]: 250it [00:01, 184.64it/s, train loss=1.04]      \n",
      "[Epoch  57/90]: 250it [00:01, 170.99it/s, train loss=1.05]      \n",
      "[Epoch  58/90]: 250it [00:01, 180.39it/s, train loss=1.05]      \n",
      "[Epoch  59/90]: 250it [00:01, 177.33it/s, train loss=1.05]      \n",
      "[Epoch  60/90]: 250it [00:01, 178.00it/s, train loss=1.05]      \n",
      "[Epoch  61/90]: 250it [00:01, 176.92it/s, train loss=1.05]      \n",
      "[Epoch  62/90]: 250it [00:01, 181.51it/s, train loss=1.05]      \n",
      "[Epoch  63/90]: 250it [00:01, 180.24it/s, train loss=1.04]      \n",
      "[Epoch  64/90]: 250it [00:01, 180.62it/s, train loss=1.04]      \n",
      "[Epoch  65/90]: 250it [00:01, 182.28it/s, train loss=1.04]      \n",
      "[Epoch  66/90]: 250it [00:01, 182.96it/s, train loss=1.03]      \n",
      "[Epoch  67/90]: 250it [00:01, 180.93it/s, train loss=1.03]      \n",
      "[Epoch  68/90]: 250it [00:01, 174.91it/s, train loss=1.03]      \n",
      "[Epoch  69/90]: 250it [00:01, 181.40it/s, train loss=1.01]      \n",
      "[Epoch  70/90]: 250it [00:01, 180.70it/s, train loss=1]         \n",
      "[Epoch  71/90]: 250it [00:01, 180.46it/s, train loss=1]         \n",
      "[Epoch  72/90]: 250it [00:01, 181.84it/s, train loss=1]         \n",
      "[Epoch  73/90]: 250it [00:01, 142.60it/s, train loss=1]         \n",
      "[Epoch  74/90]: 250it [00:01, 181.85it/s, train loss=1.01]      \n",
      "[Epoch  75/90]: 250it [00:01, 182.50it/s, train loss=1.01]      \n",
      "[Epoch  76/90]: 250it [00:01, 162.22it/s, train loss=1.01]      \n",
      "[Epoch  77/90]: 250it [00:01, 178.30it/s, train loss=1.02]      \n",
      "[Epoch  78/90]: 250it [00:01, 182.45it/s, train loss=1.03]      \n",
      "[Epoch  79/90]: 250it [00:01, 185.14it/s, train loss=1.03]      \n",
      "[Epoch  80/90]: 250it [00:01, 172.34it/s, train loss=1.04]      \n",
      "[Epoch  81/90]: 250it [00:01, 179.71it/s, train loss=1.03]      \n",
      "[Epoch  82/90]: 250it [00:01, 182.38it/s, train loss=1.03]      \n",
      "[Epoch  83/90]: 250it [00:01, 191.46it/s, train loss=1.02]      \n",
      "[Epoch  84/90]: 250it [00:01, 178.99it/s, train loss=1.01]      \n",
      "[Epoch  85/90]: 250it [00:01, 177.63it/s, train loss=1.01]      \n",
      "[Epoch  86/90]: 250it [00:01, 184.38it/s, train loss=1.01]      \n",
      "[Epoch  87/90]: 250it [00:01, 190.87it/s, train loss=0.999]     \n",
      "[Epoch  88/90]: 250it [00:01, 178.17it/s, train loss=0.991]     \n",
      "[Epoch  89/90]: 250it [00:01, 174.82it/s, train loss=0.97]      \n",
      "[Epoch  90/90]: 250it [00:01, 182.03it/s, train loss=0.96]      \n"
     ]
    }
   ],
   "source": [
    "num_epochs = 90\n",
    "losses = []\n",
    "losses_test = []\n",
    "\n",
    "for epoch in range(num_epochs):\n",
    "    model.train()\n",
    "    running_loss = 0\n",
    "    with tqdm(total=len(dataloader_train), desc=f\"[Epoch {epoch+1:3d}/{num_epochs}]\") as pbar:\n",
    "        for idx_batch, (x, y) in enumerate(dataloader_train):\n",
    "            x, y = x.to(device).float(), y.to(device).float()\n",
    "\n",
    "            output = model(x)\n",
    "            model_output, target = transform_output(output, y)\n",
    "            loss = distance(model_output, target.long())\n",
    "            \n",
    "            running_loss += loss.item()\n",
    "\n",
    "            optimizer.zero_grad()\n",
    "            loss.backward()\n",
    "            optimizer.step()\n",
    "            \n",
    "            pbar.update(x.shape[0])\n",
    "        \n",
    "        scheduler.step()\n",
    "        train_loss = running_loss/len(dataloader_train)\n",
    "        losses.append(train_loss)\n",
    "        \n",
    "        pbar.set_postfix({'train loss': train_loss})\n",
    "        pbar.update(x.shape[0])\n",
    "\n",
    "        # validation \n",
    "#         model.eval()\n",
    "#         with torch.no_grad():\n",
    "#             running_loss = 0\n",
    "#             for x, y in dataloader_test:\n",
    "#                 x, y = x.to(device).float(), y.to(device).float()\n",
    "\n",
    "#                 output = model(x)\n",
    "#                 model_output, target = transform_output(output, y.long())\n",
    "#                 loss = distance(model_output, target)\n",
    "# #                 loss = distance(output.squeeze() * US_mask_tensor.to(device), y)\n",
    "#                 running_loss += loss.item()\n",
    "\n",
    "#         test_loss = running_loss/len(dataloader_test)\n",
    "#         losses_test.append(test_loss)"
   ]
  },
  {
   "cell_type": "code",
   "execution_count": 54,
   "id": "24b5c58f",
   "metadata": {},
   "outputs": [],
   "source": [
    "# model = torch.load('models/model_UNET_precip_terc_nasa_041.pth')\n",
    "model.to(device);"
   ]
  },
  {
   "cell_type": "code",
   "execution_count": 53,
   "id": "34e3be01",
   "metadata": {},
   "outputs": [],
   "source": [
    "# torch.save(model.to('cpu'),'models/model_UNET_precip_terc_nasa_new.pth')"
   ]
  },
  {
   "cell_type": "code",
   "execution_count": 49,
   "id": "c9f341c5",
   "metadata": {},
   "outputs": [],
   "source": [
    "model.eval();\n",
    "pred_all = pred(model, dataloader_train, dataloader_test, US_mask_tensor, device=device)\n",
    "pred_all = pred_all.squeeze()"
   ]
  },
  {
   "cell_type": "code",
   "execution_count": 55,
   "id": "24c4f1f4",
   "metadata": {},
   "outputs": [
    {
     "data": {
      "text/plain": [
       "(334, 3, 64, 128)"
      ]
     },
     "execution_count": 55,
     "metadata": {},
     "output_type": "execute_result"
    }
   ],
   "source": [
    "pred_all.shape"
   ]
  },
  {
   "cell_type": "code",
   "execution_count": 129,
   "id": "e01cf144",
   "metadata": {},
   "outputs": [
    {
     "name": "stdout",
     "output_type": "stream",
     "text": [
      "UNET tercile precip_nasa\n",
      "Mean acc, median acc, SE: 37.99 37.65 0.12\n"
     ]
    }
   ],
   "source": [
    "print('UNET tercile', TARGET)\n",
    "\n",
    "heatmap_terc = report_terc_scores(labels_terc[train_size:, mask_US==1], \n",
    "                                  np.argmax(pred_all, axis=1)[train_size:, mask_US==1])"
   ]
  },
  {
   "cell_type": "code",
   "execution_count": 141,
   "id": "6bf08a35",
   "metadata": {},
   "outputs": [
    {
     "name": "stdout",
     "output_type": "stream",
     "text": [
      "UNET tercile precip_nasa\n",
      "Mean acc, median acc, SE: 40.02 40.00 0.12\n"
     ]
    }
   ],
   "source": [
    "print('UNET tercile', TARGET)\n",
    "\n",
    "heatmap_terc = report_terc_scores(labels_terc[train_size:, mask_US==1], \n",
    "                                  np.argmax(pred_all, axis=1)[train_size:, mask_US==1])"
   ]
  },
  {
   "cell_type": "code",
   "execution_count": 51,
   "id": "08d70a58",
   "metadata": {},
   "outputs": [
    {
     "name": "stdout",
     "output_type": "stream",
     "text": [
      "UNET tercile precip_nasa\n",
      "Mean acc, median acc, SE: 40.53 40.00 0.11\n"
     ]
    }
   ],
   "source": [
    "print('UNET tercile', TARGET)\n",
    "\n",
    "heatmap_terc = report_terc_scores(labels_terc[train_size:, mask_US==1], \n",
    "                                  np.argmax(pred_all, axis=1)[train_size:, mask_US==1])"
   ]
  },
  {
   "cell_type": "code",
   "execution_count": 56,
   "id": "046b86f2",
   "metadata": {},
   "outputs": [],
   "source": [
    "# np.save('data/unet_precip_nasa_terc_probs_test_2011_2018_new.npy', pred_all[train_size:])"
   ]
  },
  {
   "cell_type": "code",
   "execution_count": null,
   "id": "9802f5d3",
   "metadata": {},
   "outputs": [],
   "source": []
  }
 ],
 "metadata": {
  "kernelspec": {
   "display_name": "Python 3 (ipykernel)",
   "language": "python",
   "name": "python3"
  },
  "language_info": {
   "codemirror_mode": {
    "name": "ipython",
    "version": 3
   },
   "file_extension": ".py",
   "mimetype": "text/x-python",
   "name": "python",
   "nbconvert_exporter": "python",
   "pygments_lexer": "ipython3",
   "version": "3.8.3"
  }
 },
 "nbformat": 4,
 "nbformat_minor": 5
}
